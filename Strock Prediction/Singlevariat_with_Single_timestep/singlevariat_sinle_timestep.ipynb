{
 "cells": [
  {
   "cell_type": "markdown",
   "metadata": {},
   "source": [
    "### Stock Market Prediction And Forecasting Using Stacked LSTM"
   ]
  },
  {
   "cell_type": "code",
   "execution_count": null,
   "metadata": {},
   "outputs": [],
   "source": [
    "### Keras and Tensorflow >2.0"
   ]
  },
  {
   "cell_type": "code",
   "execution_count": 11,
   "metadata": {},
   "outputs": [],
   "source": [
    "### Data Collection\n",
    "import numpy as np\n",
    "import matplotlib.pyplot as plt\n",
    "import pandas as pd\n",
    "from sklearn.preprocessing import MinMaxScaler\n"
   ]
  },
  {
   "cell_type": "code",
   "execution_count": 12,
   "metadata": {},
   "outputs": [
    {
     "output_type": "execute_result",
     "data": {
      "text/plain": "            Date         Open         High          Low        Close  \\\n3804  2019-09-30  1220.969971  1226.000000  1212.300049  1219.000000   \n3805  2019-10-01  1219.000000  1231.229980  1203.579956  1205.099976   \n3806  2019-10-02  1196.979980  1196.979980  1171.290039  1176.630005   \n3807  2019-10-03  1180.000000  1189.060059  1162.430054  1187.829956   \n3808  2019-10-04  1191.890015  1211.439941  1189.170044  1209.000000   \n\n        Adj Close   Volume  \n3804  1219.000000  1404100  \n3805  1205.099976  1273500  \n3806  1176.630005  1615100  \n3807  1187.829956  1621200  \n3808  1209.000000  1021092  ",
      "text/html": "<div>\n<style scoped>\n    .dataframe tbody tr th:only-of-type {\n        vertical-align: middle;\n    }\n\n    .dataframe tbody tr th {\n        vertical-align: top;\n    }\n\n    .dataframe thead th {\n        text-align: right;\n    }\n</style>\n<table border=\"1\" class=\"dataframe\">\n  <thead>\n    <tr style=\"text-align: right;\">\n      <th></th>\n      <th>Date</th>\n      <th>Open</th>\n      <th>High</th>\n      <th>Low</th>\n      <th>Close</th>\n      <th>Adj Close</th>\n      <th>Volume</th>\n    </tr>\n  </thead>\n  <tbody>\n    <tr>\n      <th>3804</th>\n      <td>2019-09-30</td>\n      <td>1220.969971</td>\n      <td>1226.000000</td>\n      <td>1212.300049</td>\n      <td>1219.000000</td>\n      <td>1219.000000</td>\n      <td>1404100</td>\n    </tr>\n    <tr>\n      <th>3805</th>\n      <td>2019-10-01</td>\n      <td>1219.000000</td>\n      <td>1231.229980</td>\n      <td>1203.579956</td>\n      <td>1205.099976</td>\n      <td>1205.099976</td>\n      <td>1273500</td>\n    </tr>\n    <tr>\n      <th>3806</th>\n      <td>2019-10-02</td>\n      <td>1196.979980</td>\n      <td>1196.979980</td>\n      <td>1171.290039</td>\n      <td>1176.630005</td>\n      <td>1176.630005</td>\n      <td>1615100</td>\n    </tr>\n    <tr>\n      <th>3807</th>\n      <td>2019-10-03</td>\n      <td>1180.000000</td>\n      <td>1189.060059</td>\n      <td>1162.430054</td>\n      <td>1187.829956</td>\n      <td>1187.829956</td>\n      <td>1621200</td>\n    </tr>\n    <tr>\n      <th>3808</th>\n      <td>2019-10-04</td>\n      <td>1191.890015</td>\n      <td>1211.439941</td>\n      <td>1189.170044</td>\n      <td>1209.000000</td>\n      <td>1209.000000</td>\n      <td>1021092</td>\n    </tr>\n  </tbody>\n</table>\n</div>"
     },
     "metadata": {},
     "execution_count": 12
    }
   ],
   "source": [
    "data = pd.read_csv('GOOG.csv', date_parser = True)\n",
    "data.tail()"
   ]
  },
  {
   "cell_type": "code",
   "execution_count": 35,
   "metadata": {},
   "outputs": [
    {
     "output_type": "execute_result",
     "data": {
      "text/plain": "         Date       Open       High        Low      Close  Adj Close    Volume\n0  2004-08-19  49.813286  51.835709  47.800831  49.982655  49.982655  44871300\n1  2004-08-20  50.316402  54.336334  50.062355  53.952770  53.952770  22942800\n2  2004-08-23  55.168217  56.528118  54.321388  54.495735  54.495735  18342800\n3  2004-08-24  55.412300  55.591629  51.591621  52.239193  52.239193  15319700\n4  2004-08-25  52.284027  53.798351  51.746044  52.802086  52.802086   9232100",
      "text/html": "<div>\n<style scoped>\n    .dataframe tbody tr th:only-of-type {\n        vertical-align: middle;\n    }\n\n    .dataframe tbody tr th {\n        vertical-align: top;\n    }\n\n    .dataframe thead th {\n        text-align: right;\n    }\n</style>\n<table border=\"1\" class=\"dataframe\">\n  <thead>\n    <tr style=\"text-align: right;\">\n      <th></th>\n      <th>Date</th>\n      <th>Open</th>\n      <th>High</th>\n      <th>Low</th>\n      <th>Close</th>\n      <th>Adj Close</th>\n      <th>Volume</th>\n    </tr>\n  </thead>\n  <tbody>\n    <tr>\n      <th>0</th>\n      <td>2004-08-19</td>\n      <td>49.813286</td>\n      <td>51.835709</td>\n      <td>47.800831</td>\n      <td>49.982655</td>\n      <td>49.982655</td>\n      <td>44871300</td>\n    </tr>\n    <tr>\n      <th>1</th>\n      <td>2004-08-20</td>\n      <td>50.316402</td>\n      <td>54.336334</td>\n      <td>50.062355</td>\n      <td>53.952770</td>\n      <td>53.952770</td>\n      <td>22942800</td>\n    </tr>\n    <tr>\n      <th>2</th>\n      <td>2004-08-23</td>\n      <td>55.168217</td>\n      <td>56.528118</td>\n      <td>54.321388</td>\n      <td>54.495735</td>\n      <td>54.495735</td>\n      <td>18342800</td>\n    </tr>\n    <tr>\n      <th>3</th>\n      <td>2004-08-24</td>\n      <td>55.412300</td>\n      <td>55.591629</td>\n      <td>51.591621</td>\n      <td>52.239193</td>\n      <td>52.239193</td>\n      <td>15319700</td>\n    </tr>\n    <tr>\n      <th>4</th>\n      <td>2004-08-25</td>\n      <td>52.284027</td>\n      <td>53.798351</td>\n      <td>51.746044</td>\n      <td>52.802086</td>\n      <td>52.802086</td>\n      <td>9232100</td>\n    </tr>\n  </tbody>\n</table>\n</div>"
     },
     "metadata": {},
     "execution_count": 35
    }
   ],
   "source": [
    "data.head()"
   ]
  },
  {
   "cell_type": "code",
   "execution_count": 92,
   "metadata": {},
   "outputs": [
    {
     "output_type": "execute_result",
     "data": {
      "text/plain": "            Date         Open         High          Low        Close  \\\n3804  2019-09-30  1220.969971  1226.000000  1212.300049  1219.000000   \n3805  2019-10-01  1219.000000  1231.229980  1203.579956  1205.099976   \n3806  2019-10-02  1196.979980  1196.979980  1171.290039  1176.630005   \n3807  2019-10-03  1180.000000  1189.060059  1162.430054  1187.829956   \n3808  2019-10-04  1191.890015  1211.439941  1189.170044  1209.000000   \n\n        Adj Close   Volume  \n3804  1219.000000  1404100  \n3805  1205.099976  1273500  \n3806  1176.630005  1615100  \n3807  1187.829956  1621200  \n3808  1209.000000  1021092  ",
      "text/html": "<div>\n<style scoped>\n    .dataframe tbody tr th:only-of-type {\n        vertical-align: middle;\n    }\n\n    .dataframe tbody tr th {\n        vertical-align: top;\n    }\n\n    .dataframe thead th {\n        text-align: right;\n    }\n</style>\n<table border=\"1\" class=\"dataframe\">\n  <thead>\n    <tr style=\"text-align: right;\">\n      <th></th>\n      <th>Date</th>\n      <th>Open</th>\n      <th>High</th>\n      <th>Low</th>\n      <th>Close</th>\n      <th>Adj Close</th>\n      <th>Volume</th>\n    </tr>\n  </thead>\n  <tbody>\n    <tr>\n      <th>3804</th>\n      <td>2019-09-30</td>\n      <td>1220.969971</td>\n      <td>1226.000000</td>\n      <td>1212.300049</td>\n      <td>1219.000000</td>\n      <td>1219.000000</td>\n      <td>1404100</td>\n    </tr>\n    <tr>\n      <th>3805</th>\n      <td>2019-10-01</td>\n      <td>1219.000000</td>\n      <td>1231.229980</td>\n      <td>1203.579956</td>\n      <td>1205.099976</td>\n      <td>1205.099976</td>\n      <td>1273500</td>\n    </tr>\n    <tr>\n      <th>3806</th>\n      <td>2019-10-02</td>\n      <td>1196.979980</td>\n      <td>1196.979980</td>\n      <td>1171.290039</td>\n      <td>1176.630005</td>\n      <td>1176.630005</td>\n      <td>1615100</td>\n    </tr>\n    <tr>\n      <th>3807</th>\n      <td>2019-10-03</td>\n      <td>1180.000000</td>\n      <td>1189.060059</td>\n      <td>1162.430054</td>\n      <td>1187.829956</td>\n      <td>1187.829956</td>\n      <td>1621200</td>\n    </tr>\n    <tr>\n      <th>3808</th>\n      <td>2019-10-04</td>\n      <td>1191.890015</td>\n      <td>1211.439941</td>\n      <td>1189.170044</td>\n      <td>1209.000000</td>\n      <td>1209.000000</td>\n      <td>1021092</td>\n    </tr>\n  </tbody>\n</table>\n</div>"
     },
     "metadata": {},
     "execution_count": 92
    }
   ],
   "source": [
    "data_training = data[data['Date']<'2019-01-01'].copy()\n",
    "data_test = data[data['Date']>='2019-01-01'].copy()\n",
    "data_test.tail()"
   ]
  },
  {
   "cell_type": "code",
   "execution_count": 19,
   "metadata": {},
   "outputs": [
    {
     "output_type": "execute_result",
     "data": {
      "text/plain": "             Open         High          Low        Close    Volume\n0       49.813286    51.835709    47.800831    49.982655  44871300\n1       50.316402    54.336334    50.062355    53.952770  22942800\n2       55.168217    56.528118    54.321388    54.495735  18342800\n3       55.412300    55.591629    51.591621    52.239193  15319700\n4       52.284027    53.798351    51.746044    52.802086   9232100\n...           ...          ...          ...          ...       ...\n3612   973.900024  1003.539978   970.109985   976.219971   1590300\n3613   989.010010  1040.000000   983.000000  1039.459961   2373300\n3614  1017.150024  1043.890015   997.000000  1043.880005   2109800\n3615  1049.619995  1055.560059  1033.099976  1037.079956   1414800\n3616  1050.959961  1052.699951  1023.590027  1035.609985   1493300\n\n[3617 rows x 5 columns]",
      "text/html": "<div>\n<style scoped>\n    .dataframe tbody tr th:only-of-type {\n        vertical-align: middle;\n    }\n\n    .dataframe tbody tr th {\n        vertical-align: top;\n    }\n\n    .dataframe thead th {\n        text-align: right;\n    }\n</style>\n<table border=\"1\" class=\"dataframe\">\n  <thead>\n    <tr style=\"text-align: right;\">\n      <th></th>\n      <th>Open</th>\n      <th>High</th>\n      <th>Low</th>\n      <th>Close</th>\n      <th>Volume</th>\n    </tr>\n  </thead>\n  <tbody>\n    <tr>\n      <th>0</th>\n      <td>49.813286</td>\n      <td>51.835709</td>\n      <td>47.800831</td>\n      <td>49.982655</td>\n      <td>44871300</td>\n    </tr>\n    <tr>\n      <th>1</th>\n      <td>50.316402</td>\n      <td>54.336334</td>\n      <td>50.062355</td>\n      <td>53.952770</td>\n      <td>22942800</td>\n    </tr>\n    <tr>\n      <th>2</th>\n      <td>55.168217</td>\n      <td>56.528118</td>\n      <td>54.321388</td>\n      <td>54.495735</td>\n      <td>18342800</td>\n    </tr>\n    <tr>\n      <th>3</th>\n      <td>55.412300</td>\n      <td>55.591629</td>\n      <td>51.591621</td>\n      <td>52.239193</td>\n      <td>15319700</td>\n    </tr>\n    <tr>\n      <th>4</th>\n      <td>52.284027</td>\n      <td>53.798351</td>\n      <td>51.746044</td>\n      <td>52.802086</td>\n      <td>9232100</td>\n    </tr>\n    <tr>\n      <th>...</th>\n      <td>...</td>\n      <td>...</td>\n      <td>...</td>\n      <td>...</td>\n      <td>...</td>\n    </tr>\n    <tr>\n      <th>3612</th>\n      <td>973.900024</td>\n      <td>1003.539978</td>\n      <td>970.109985</td>\n      <td>976.219971</td>\n      <td>1590300</td>\n    </tr>\n    <tr>\n      <th>3613</th>\n      <td>989.010010</td>\n      <td>1040.000000</td>\n      <td>983.000000</td>\n      <td>1039.459961</td>\n      <td>2373300</td>\n    </tr>\n    <tr>\n      <th>3614</th>\n      <td>1017.150024</td>\n      <td>1043.890015</td>\n      <td>997.000000</td>\n      <td>1043.880005</td>\n      <td>2109800</td>\n    </tr>\n    <tr>\n      <th>3615</th>\n      <td>1049.619995</td>\n      <td>1055.560059</td>\n      <td>1033.099976</td>\n      <td>1037.079956</td>\n      <td>1414800</td>\n    </tr>\n    <tr>\n      <th>3616</th>\n      <td>1050.959961</td>\n      <td>1052.699951</td>\n      <td>1023.590027</td>\n      <td>1035.609985</td>\n      <td>1493300</td>\n    </tr>\n  </tbody>\n</table>\n<p>3617 rows × 5 columns</p>\n</div>"
     },
     "metadata": {},
     "execution_count": 19
    }
   ],
   "source": [
    "data_training = data_training.drop(['Date', 'Adj Close'], axis = 1)\n",
    "data_training"
   ]
  },
  {
   "cell_type": "code",
   "execution_count": 21,
   "metadata": {},
   "outputs": [
    {
     "output_type": "execute_result",
     "data": {
      "text/plain": "array([[3.30294890e-04, 9.44785459e-04, 0.00000000e+00, 1.34908021e-04,\n        5.43577404e-01],\n       [7.42148227e-04, 2.98909923e-03, 1.88269054e-03, 3.39307537e-03,\n        2.77885613e-01],\n       [4.71386886e-03, 4.78092896e-03, 5.42828241e-03, 3.83867225e-03,\n        2.22150736e-01],\n       ...,\n       [7.92197108e-01, 8.11970141e-01, 7.90196475e-01, 8.15799920e-01,\n        2.54672037e-02],\n       [8.18777193e-01, 8.21510648e-01, 8.20249255e-01, 8.10219301e-01,\n        1.70463908e-02],\n       [8.19874096e-01, 8.19172449e-01, 8.12332341e-01, 8.09012935e-01,\n        1.79975186e-02]])"
     },
     "metadata": {},
     "execution_count": 21
    }
   ],
   "source": [
    "scaler = MinMaxScaler()\n",
    "data_training = scaler.fit_transform(data_training)\n",
    "data_training"
   ]
  },
  {
   "cell_type": "code",
   "execution_count": 22,
   "metadata": {},
   "outputs": [],
   "source": [
    "X_train = []\n",
    "y_train = []\n",
    "\n",
    "for i in range(60, data_training.shape[0]):\n",
    "    X_train.append(data_training[i-60:i])\n",
    "    y_train.append(data_training[i, 0])\n",
    "    \n",
    "X_train, y_train = np.array(X_train), np.array(y_train)"
   ]
  },
  {
   "cell_type": "code",
   "execution_count": 24,
   "metadata": {},
   "outputs": [
    {
     "output_type": "execute_result",
     "data": {
      "text/plain": "(3557, 60, 5)"
     },
     "metadata": {},
     "execution_count": 24
    }
   ],
   "source": [
    "X_train.shape"
   ]
  },
  {
   "cell_type": "code",
   "execution_count": 25,
   "metadata": {},
   "outputs": [],
   "source": [
    "from tensorflow.keras import Sequential\n",
    "from tensorflow.keras.layers import Dense, LSTM, Dropout"
   ]
  },
  {
   "cell_type": "code",
   "execution_count": 26,
   "metadata": {
    "tags": []
   },
   "outputs": [
    {
     "output_type": "stream",
     "name": "stdout",
     "text": "WARNING:tensorflow:Layer lstm will not use cuDNN kernel since it doesn't meet the cuDNN kernel criteria. It will use generic GPU kernel as fallback when running on GPU\nWARNING:tensorflow:Layer lstm_1 will not use cuDNN kernel since it doesn't meet the cuDNN kernel criteria. It will use generic GPU kernel as fallback when running on GPU\nWARNING:tensorflow:Layer lstm_2 will not use cuDNN kernel since it doesn't meet the cuDNN kernel criteria. It will use generic GPU kernel as fallback when running on GPU\n"
    }
   ],
   "source": [
    "regressor = Sequential()\n",
    "\n",
    "regressor.add(LSTM(units = 60, activation = 'relu', return_sequences = True, input_shape = (X_train.shape[1], 5)))\n",
    "regressor.add(Dropout(0.2))\n",
    "\n",
    "regressor.add(LSTM(units = 60, activation = 'relu', return_sequences = True))\n",
    "regressor.add(Dropout(0.2))\n",
    "\n",
    "regressor.add(LSTM(units = 80, activation = 'relu'))\n",
    "regressor.add(Dropout(0.2))\n",
    "\n",
    "\n",
    "regressor.add(Dense(units = 1))"
   ]
  },
  {
   "cell_type": "code",
   "execution_count": 27,
   "metadata": {
    "tags": []
   },
   "outputs": [
    {
     "output_type": "stream",
     "name": "stdout",
     "text": "Model: \"sequential\"\n_________________________________________________________________\nLayer (type)                 Output Shape              Param #   \n=================================================================\nlstm (LSTM)                  (None, 60, 60)            15840     \n_________________________________________________________________\ndropout (Dropout)            (None, 60, 60)            0         \n_________________________________________________________________\nlstm_1 (LSTM)                (None, 60, 60)            29040     \n_________________________________________________________________\ndropout_1 (Dropout)          (None, 60, 60)            0         \n_________________________________________________________________\nlstm_2 (LSTM)                (None, 80)                45120     \n_________________________________________________________________\ndropout_2 (Dropout)          (None, 80)                0         \n_________________________________________________________________\ndense (Dense)                (None, 1)                 81        \n=================================================================\nTotal params: 90,081\nTrainable params: 90,081\nNon-trainable params: 0\n_________________________________________________________________\n"
    }
   ],
   "source": [
    "regressor.summary()"
   ]
  },
  {
   "cell_type": "code",
   "execution_count": 28,
   "metadata": {
    "tags": []
   },
   "outputs": [
    {
     "output_type": "stream",
     "name": "stdout",
     "text": "Epoch 1/50\n112/112 [==============================] - 72s 646ms/step - loss: 0.0161\nEpoch 2/50\n112/112 [==============================] - 73s 652ms/step - loss: 0.0025\nEpoch 3/50\n112/112 [==============================] - 73s 654ms/step - loss: 0.0024\nEpoch 4/50\n112/112 [==============================] - 72s 640ms/step - loss: 0.0019\nEpoch 5/50\n112/112 [==============================] - 69s 615ms/step - loss: 0.0018\nEpoch 6/50\n112/112 [==============================] - 63s 564ms/step - loss: 0.0018\nEpoch 7/50\n112/112 [==============================] - 62s 551ms/step - loss: 0.0016\nEpoch 8/50\n112/112 [==============================] - 62s 552ms/step - loss: 0.0016\nEpoch 9/50\n112/112 [==============================] - 62s 550ms/step - loss: 0.0016\nEpoch 10/50\n112/112 [==============================] - 62s 553ms/step - loss: 0.0015\nEpoch 11/50\n112/112 [==============================] - 63s 561ms/step - loss: 0.0013\nEpoch 12/50\n112/112 [==============================] - 62s 553ms/step - loss: 0.0014\nEpoch 13/50\n112/112 [==============================] - 60s 536ms/step - loss: 0.0013\nEpoch 14/50\n112/112 [==============================] - 62s 552ms/step - loss: 0.0012\nEpoch 15/50\n112/112 [==============================] - 63s 566ms/step - loss: 0.0013\nEpoch 16/50\n112/112 [==============================] - 65s 582ms/step - loss: 0.0011\nEpoch 17/50\n112/112 [==============================] - 63s 566ms/step - loss: 0.0015\nEpoch 18/50\n112/112 [==============================] - 62s 557ms/step - loss: 0.0010\nEpoch 19/50\n112/112 [==============================] - 63s 562ms/step - loss: 0.0011\nEpoch 20/50\n112/112 [==============================] - 62s 549ms/step - loss: 0.0011\nEpoch 21/50\n112/112 [==============================] - 65s 578ms/step - loss: 0.0011\nEpoch 22/50\n112/112 [==============================] - 66s 588ms/step - loss: 0.0010\nEpoch 23/50\n112/112 [==============================] - 66s 585ms/step - loss: 9.3830e-04\nEpoch 24/50\n112/112 [==============================] - 64s 576ms/step - loss: 8.5665e-04\nEpoch 25/50\n112/112 [==============================] - 64s 576ms/step - loss: 9.3166e-04\nEpoch 26/50\n112/112 [==============================] - 65s 578ms/step - loss: 9.2361e-04\nEpoch 27/50\n112/112 [==============================] - 64s 573ms/step - loss: 0.0010\nEpoch 28/50\n112/112 [==============================] - 65s 579ms/step - loss: 9.3926e-04\nEpoch 29/50\n112/112 [==============================] - 72s 642ms/step - loss: 8.5590e-04\nEpoch 30/50\n112/112 [==============================] - 69s 612ms/step - loss: 8.3323e-04\nEpoch 31/50\n112/112 [==============================] - 66s 593ms/step - loss: 7.6232e-04\nEpoch 32/50\n112/112 [==============================] - 66s 588ms/step - loss: 8.6056e-04\nEpoch 33/50\n112/112 [==============================] - 67s 595ms/step - loss: 8.4290e-04\nEpoch 34/50\n112/112 [==============================] - 65s 585ms/step - loss: 7.6248e-04\nEpoch 35/50\n112/112 [==============================] - 66s 585ms/step - loss: 7.5365e-04\nEpoch 36/50\n112/112 [==============================] - 67s 597ms/step - loss: 8.1698e-04\nEpoch 37/50\n112/112 [==============================] - 65s 583ms/step - loss: 7.4423e-04\nEpoch 38/50\n112/112 [==============================] - 60s 534ms/step - loss: 8.3625e-04\nEpoch 39/50\n112/112 [==============================] - 60s 532ms/step - loss: 7.8714e-04\nEpoch 40/50\n112/112 [==============================] - 61s 549ms/step - loss: 6.9950e-04\nEpoch 41/50\n112/112 [==============================] - 61s 546ms/step - loss: 7.3985e-04\nEpoch 42/50\n112/112 [==============================] - 60s 537ms/step - loss: 7.0511e-04\nEpoch 43/50\n112/112 [==============================] - 61s 548ms/step - loss: 6.8198e-04\nEpoch 44/50\n112/112 [==============================] - 63s 567ms/step - loss: 7.2248e-04\nEpoch 45/50\n112/112 [==============================] - 64s 567ms/step - loss: 7.5688e-04\nEpoch 46/50\n112/112 [==============================] - 60s 534ms/step - loss: 8.2437e-04\nEpoch 47/50\n112/112 [==============================] - 60s 540ms/step - loss: 6.8590e-04\nEpoch 48/50\n112/112 [==============================] - 59s 531ms/step - loss: 7.5444e-04\nEpoch 49/50\n112/112 [==============================] - 60s 538ms/step - loss: 7.1318e-04\nEpoch 50/50\n112/112 [==============================] - 63s 563ms/step - loss: 7.5874e-04\n"
    },
    {
     "output_type": "execute_result",
     "data": {
      "text/plain": "<tensorflow.python.keras.callbacks.History at 0x1d12a304148>"
     },
     "metadata": {},
     "execution_count": 28
    }
   ],
   "source": [
    "regressor.compile(optimizer='adam', loss = 'mean_squared_error')\n",
    "regressor.fit(X_train, y_train, epochs=50, batch_size=32)"
   ]
  },
  {
   "cell_type": "code",
   "execution_count": 223,
   "metadata": {},
   "outputs": [
    {
     "output_type": "execute_result",
     "data": {
      "text/plain": "            Date         Open         High          Low        Close  \\\n3617  2019-01-02  1016.570007  1052.319946  1015.710022  1045.849976   \n3618  2019-01-03  1041.000000  1056.979980  1014.070007  1016.059998   \n3619  2019-01-04  1032.589966  1070.839966  1027.417969  1070.709961   \n3620  2019-01-07  1071.500000  1074.000000  1054.760010  1068.390015   \n3621  2019-01-08  1076.109985  1084.560059  1060.530029  1076.280029   \n\n        Adj Close   Volume  \n3617  1045.849976  1532600  \n3618  1016.059998  1841100  \n3619  1070.709961  2093900  \n3620  1068.390015  1981900  \n3621  1076.280029  1764900  ",
      "text/html": "<div>\n<style scoped>\n    .dataframe tbody tr th:only-of-type {\n        vertical-align: middle;\n    }\n\n    .dataframe tbody tr th {\n        vertical-align: top;\n    }\n\n    .dataframe thead th {\n        text-align: right;\n    }\n</style>\n<table border=\"1\" class=\"dataframe\">\n  <thead>\n    <tr style=\"text-align: right;\">\n      <th></th>\n      <th>Date</th>\n      <th>Open</th>\n      <th>High</th>\n      <th>Low</th>\n      <th>Close</th>\n      <th>Adj Close</th>\n      <th>Volume</th>\n    </tr>\n  </thead>\n  <tbody>\n    <tr>\n      <th>3617</th>\n      <td>2019-01-02</td>\n      <td>1016.570007</td>\n      <td>1052.319946</td>\n      <td>1015.710022</td>\n      <td>1045.849976</td>\n      <td>1045.849976</td>\n      <td>1532600</td>\n    </tr>\n    <tr>\n      <th>3618</th>\n      <td>2019-01-03</td>\n      <td>1041.000000</td>\n      <td>1056.979980</td>\n      <td>1014.070007</td>\n      <td>1016.059998</td>\n      <td>1016.059998</td>\n      <td>1841100</td>\n    </tr>\n    <tr>\n      <th>3619</th>\n      <td>2019-01-04</td>\n      <td>1032.589966</td>\n      <td>1070.839966</td>\n      <td>1027.417969</td>\n      <td>1070.709961</td>\n      <td>1070.709961</td>\n      <td>2093900</td>\n    </tr>\n    <tr>\n      <th>3620</th>\n      <td>2019-01-07</td>\n      <td>1071.500000</td>\n      <td>1074.000000</td>\n      <td>1054.760010</td>\n      <td>1068.390015</td>\n      <td>1068.390015</td>\n      <td>1981900</td>\n    </tr>\n    <tr>\n      <th>3621</th>\n      <td>2019-01-08</td>\n      <td>1076.109985</td>\n      <td>1084.560059</td>\n      <td>1060.530029</td>\n      <td>1076.280029</td>\n      <td>1076.280029</td>\n      <td>1764900</td>\n    </tr>\n  </tbody>\n</table>\n</div>"
     },
     "metadata": {},
     "execution_count": 223
    }
   ],
   "source": [
    "data_test.head()"
   ]
  },
  {
   "cell_type": "code",
   "execution_count": 224,
   "metadata": {},
   "outputs": [],
   "source": [
    "data_training = data[data['Date']<'2019-01-01'].copy()"
   ]
  },
  {
   "cell_type": "code",
   "execution_count": 225,
   "metadata": {},
   "outputs": [],
   "source": [
    "past_60_days = data_training.tail(60)"
   ]
  },
  {
   "cell_type": "code",
   "execution_count": 226,
   "metadata": {},
   "outputs": [
    {
     "output_type": "execute_result",
     "data": {
      "text/plain": "          Open         High          Low        Close   Volume\n0  1195.329956  1197.510010  1155.576050  1168.189941  2209500\n1  1167.500000  1173.500000  1145.119995  1157.349976  1184300\n2  1150.109985  1168.000000  1127.364014  1148.969971  1932400\n3  1146.150024  1154.349976  1137.572021  1138.819946  1308700\n4  1131.079956  1132.170044  1081.130005  1081.219971  2675700",
      "text/html": "<div>\n<style scoped>\n    .dataframe tbody tr th:only-of-type {\n        vertical-align: middle;\n    }\n\n    .dataframe tbody tr th {\n        vertical-align: top;\n    }\n\n    .dataframe thead th {\n        text-align: right;\n    }\n</style>\n<table border=\"1\" class=\"dataframe\">\n  <thead>\n    <tr style=\"text-align: right;\">\n      <th></th>\n      <th>Open</th>\n      <th>High</th>\n      <th>Low</th>\n      <th>Close</th>\n      <th>Volume</th>\n    </tr>\n  </thead>\n  <tbody>\n    <tr>\n      <th>0</th>\n      <td>1195.329956</td>\n      <td>1197.510010</td>\n      <td>1155.576050</td>\n      <td>1168.189941</td>\n      <td>2209500</td>\n    </tr>\n    <tr>\n      <th>1</th>\n      <td>1167.500000</td>\n      <td>1173.500000</td>\n      <td>1145.119995</td>\n      <td>1157.349976</td>\n      <td>1184300</td>\n    </tr>\n    <tr>\n      <th>2</th>\n      <td>1150.109985</td>\n      <td>1168.000000</td>\n      <td>1127.364014</td>\n      <td>1148.969971</td>\n      <td>1932400</td>\n    </tr>\n    <tr>\n      <th>3</th>\n      <td>1146.150024</td>\n      <td>1154.349976</td>\n      <td>1137.572021</td>\n      <td>1138.819946</td>\n      <td>1308700</td>\n    </tr>\n    <tr>\n      <th>4</th>\n      <td>1131.079956</td>\n      <td>1132.170044</td>\n      <td>1081.130005</td>\n      <td>1081.219971</td>\n      <td>2675700</td>\n    </tr>\n  </tbody>\n</table>\n</div>"
     },
     "metadata": {},
     "execution_count": 226
    }
   ],
   "source": [
    "df = past_60_days.append(data_test, ignore_index = True)\n",
    "df = df.drop(['Date', 'Adj Close'], axis = 1)\n",
    "df.head()"
   ]
  },
  {
   "cell_type": "code",
   "execution_count": 227,
   "metadata": {},
   "outputs": [
    {
     "output_type": "execute_result",
     "data": {
      "text/plain": "array([[0.93805611, 0.93755773, 0.92220906, 0.91781776, 0.0266752 ],\n       [0.91527437, 0.91792904, 0.91350452, 0.90892169, 0.01425359],\n       [0.90103881, 0.91343268, 0.89872289, 0.90204445, 0.02331778],\n       ...,\n       [0.93940683, 0.93712442, 0.93529076, 0.9247443 , 0.01947328],\n       [0.92550693, 0.93064972, 0.92791493, 0.9339358 , 0.01954719],\n       [0.93524016, 0.94894575, 0.95017564, 0.95130949, 0.01227612]])"
     },
     "metadata": {},
     "execution_count": 227
    }
   ],
   "source": [
    "inputs = scaler.transform(df)\n",
    "inputs"
   ]
  },
  {
   "cell_type": "code",
   "execution_count": 228,
   "metadata": {},
   "outputs": [
    {
     "output_type": "execute_result",
     "data": {
      "text/plain": "252"
     },
     "metadata": {},
     "execution_count": 228
    }
   ],
   "source": [
    "inputs.shape[0]"
   ]
  },
  {
   "cell_type": "code",
   "execution_count": 229,
   "metadata": {},
   "outputs": [
    {
     "output_type": "execute_result",
     "data": {
      "text/plain": "((192, 60, 5), (192,))"
     },
     "metadata": {},
     "execution_count": 229
    }
   ],
   "source": [
    "X_test = []\n",
    "y_test = []\n",
    "\n",
    "for i in range(60, inputs.shape[0]):\n",
    "    X_test.append(inputs[i-60:i])\n",
    "    y_test.append(inputs[i, 0])\n",
    "\n",
    "X_test, y_test = np.array(X_test), np.array(y_test)\n",
    "X_test.shape, y_test.shape"
   ]
  },
  {
   "cell_type": "code",
   "execution_count": 230,
   "metadata": {},
   "outputs": [
    {
     "output_type": "execute_result",
     "data": {
      "text/plain": "array([[0.74279237],\n       [0.7462249 ],\n       [0.74909794],\n       [0.751878  ],\n       [0.75569236],\n       [0.76040053],\n       [0.7655082 ],\n       [0.76957643],\n       [0.7718631 ],\n       [0.77204305],\n       [0.7716745 ],\n       [0.7726687 ],\n       [0.77474964],\n       [0.77812207],\n       [0.78084314],\n       [0.7824414 ],\n       [0.78289604],\n       [0.78360075],\n       [0.78378963],\n       [0.78314745],\n       [0.78256893],\n       [0.78395605],\n       [0.7871631 ],\n       [0.79126364],\n       [0.7958219 ],\n       [0.8004879 ],\n       [0.8027104 ],\n       [0.8027055 ],\n       [0.8017602 ],\n       [0.8013699 ],\n       [0.80249786],\n       [0.80426323],\n       [0.8062072 ],\n       [0.80756783],\n       [0.8084134 ],\n       [0.80801773],\n       [0.8069098 ],\n       [0.80609   ],\n       [0.80541384],\n       [0.80509746],\n       [0.80536985],\n       [0.80694604],\n       [0.81006396],\n       [0.81439877],\n       [0.81944203],\n       [0.8234559 ],\n       [0.82523453],\n       [0.8266542 ],\n       [0.82961595],\n       [0.8343389 ],\n       [0.8394698 ],\n       [0.843658  ],\n       [0.84660447],\n       [0.8489828 ],\n       [0.85159755],\n       [0.85535765],\n       [0.859203  ],\n       [0.861202  ],\n       [0.8612704 ],\n       [0.85945344],\n       [0.8563585 ],\n       [0.85317266],\n       [0.8514817 ],\n       [0.85167706],\n       [0.85382295],\n       [0.8569747 ],\n       [0.86041677],\n       [0.86311185],\n       [0.86437464],\n       [0.86486316],\n       [0.8651657 ],\n       [0.8659297 ],\n       [0.8672192 ],\n       [0.86929524],\n       [0.87203324],\n       [0.8750918 ],\n       [0.87810564],\n       [0.8816049 ],\n       [0.88552177],\n       [0.8892307 ],\n       [0.8927065 ],\n       [0.8958471 ],\n       [0.8916353 ],\n       [0.8837367 ],\n       [0.8741143 ],\n       [0.8656095 ],\n       [0.85915875],\n       [0.8548683 ],\n       [0.85206866],\n       [0.8496189 ],\n       [0.8474045 ],\n       [0.84391904],\n       [0.8394474 ],\n       [0.8351363 ],\n       [0.83373654],\n       [0.83454   ],\n       [0.8347148 ],\n       [0.8345046 ],\n       [0.834275  ],\n       [0.8333075 ],\n       [0.8320621 ],\n       [0.83052266],\n       [0.82788324],\n       [0.82465076],\n       [0.82050323],\n       [0.81225145],\n       [0.8021364 ],\n       [0.7921619 ],\n       [0.78346074],\n       [0.77737284],\n       [0.775035  ],\n       [0.7761483 ],\n       [0.77849597],\n       [0.7815953 ],\n       [0.78463686],\n       [0.7874645 ],\n       [0.79069245],\n       [0.79358685],\n       [0.7966317 ],\n       [0.79931486],\n       [0.8017794 ],\n       [0.8027595 ],\n       [0.8013904 ],\n       [0.7987462 ],\n       [0.79536355],\n       [0.7933444 ],\n       [0.7932167 ],\n       [0.7953098 ],\n       [0.79867923],\n       [0.80220544],\n       [0.8050076 ],\n       [0.8081082 ],\n       [0.8117595 ],\n       [0.8154707 ],\n       [0.81893396],\n       [0.8219695 ],\n       [0.8244815 ],\n       [0.82578206],\n       [0.8260211 ],\n       [0.82522357],\n       [0.8245467 ],\n       [0.82361424],\n       [0.8224081 ],\n       [0.82588065],\n       [0.8334054 ],\n       [0.84247494],\n       [0.8508804 ],\n       [0.8574189 ],\n       [0.86085224],\n       [0.8593501 ],\n       [0.8557186 ],\n       [0.85136676],\n       [0.8490075 ],\n       [0.8489734 ],\n       [0.84933996],\n       [0.84999716],\n       [0.849898  ],\n       [0.84902585],\n       [0.8484452 ],\n       [0.8493651 ],\n       [0.85100234],\n       [0.8530202 ],\n       [0.8546995 ],\n       [0.8543745 ],\n       [0.85226595],\n       [0.85019815],\n       [0.84818494],\n       [0.8477156 ],\n       [0.84885705],\n       [0.84949386],\n       [0.84984064],\n       [0.8512429 ],\n       [0.85388625],\n       [0.85672486],\n       [0.859017  ],\n       [0.8612385 ],\n       [0.8642849 ],\n       [0.8679749 ],\n       [0.8715761 ],\n       [0.8745618 ],\n       [0.876564  ],\n       [0.8783841 ],\n       [0.87935936],\n       [0.87994087],\n       [0.8801297 ],\n       [0.8799279 ],\n       [0.8804399 ],\n       [0.88099027],\n       [0.88062024],\n       [0.87943494],\n       [0.8759737 ],\n       [0.87091506]], dtype=float32)"
     },
     "metadata": {},
     "execution_count": 230
    }
   ],
   "source": [
    "y_pred = regressor.predict(X_test)\n",
    "y_pred"
   ]
  },
  {
   "cell_type": "code",
   "execution_count": 231,
   "metadata": {},
   "outputs": [
    {
     "output_type": "execute_result",
     "data": {
      "text/plain": "array([8.18605127e-04, 8.17521128e-04, 8.32487534e-04, 8.20673293e-04,\n       1.21162775e-08])"
     },
     "metadata": {},
     "execution_count": 231
    }
   ],
   "source": [
    "scaler.scale_"
   ]
  },
  {
   "cell_type": "code",
   "execution_count": 232,
   "metadata": {},
   "outputs": [
    {
     "output_type": "execute_result",
     "data": {
      "text/plain": "1221.5901990069017"
     },
     "metadata": {},
     "execution_count": 232
    }
   ],
   "source": [
    "scale = 1/8.18605127e-04\n",
    "scale"
   ]
  },
  {
   "cell_type": "code",
   "execution_count": 233,
   "metadata": {},
   "outputs": [
    {
     "output_type": "execute_result",
     "data": {
      "text/plain": "array([[ 907.3879 ],\n       [ 911.581  ],\n       [ 915.0907 ],\n       [ 918.4868 ],\n       [ 923.14636],\n       [ 928.8978 ],\n       [ 935.13727],\n       [ 940.10706],\n       [ 942.9004 ],\n       [ 943.12024],\n       [ 942.67004],\n       [ 943.8845 ],\n       [ 946.4266 ],\n       [ 950.5463 ],\n       [ 953.87036],\n       [ 955.82275],\n       [ 956.3781 ],\n       [ 957.239  ],\n       [ 957.4697 ],\n       [ 956.68524],\n       [ 955.9785 ],\n       [ 957.67303],\n       [ 961.5907 ],\n       [ 966.5999 ],\n       [ 972.1683 ],\n       [ 977.86816],\n       [ 980.5832 ],\n       [ 980.5772 ],\n       [ 979.4224 ],\n       [ 978.9456 ],\n       [ 980.32355],\n       [ 982.4801 ],\n       [ 984.8548 ],\n       [ 986.51697],\n       [ 987.54987],\n       [ 987.0665 ],\n       [ 985.71313],\n       [ 984.7117 ],\n       [ 983.8857 ],\n       [ 983.4992 ],\n       [ 983.8319 ],\n       [ 985.7574 ],\n       [ 989.5662 ],\n       [ 994.8616 ],\n       [1001.02234],\n       [1005.9257 ],\n       [1008.09845],\n       [1009.8327 ],\n       [1013.45074],\n       [1019.2202 ],\n       [1025.488  ],\n       [1030.6044 ],\n       [1034.2037 ],\n       [1037.1091 ],\n       [1040.3032 ],\n       [1044.8965 ],\n       [1049.594  ],\n       [1052.0359 ],\n       [1052.1195 ],\n       [1049.8999 ],\n       [1046.1191 ],\n       [1042.2274 ],\n       [1040.1616 ],\n       [1040.4004 ],\n       [1043.0217 ],\n       [1046.872  ],\n       [1051.0767 ],\n       [1054.369  ],\n       [1055.9116 ],\n       [1056.5084 ],\n       [1056.8779 ],\n       [1057.8113 ],\n       [1059.3865 ],\n       [1061.9226 ],\n       [1065.2672 ],\n       [1069.0035 ],\n       [1072.6853 ],\n       [1076.96   ],\n       [1081.7448 ],\n       [1086.2755 ],\n       [1090.5215 ],\n       [1094.358  ],\n       [1089.213  ],\n       [1079.5641 ],\n       [1067.8094 ],\n       [1057.4202 ],\n       [1049.5399 ],\n       [1044.2987 ],\n       [1040.8788 ],\n       [1037.8861 ],\n       [1035.181  ],\n       [1030.9232 ],\n       [1025.4607 ],\n       [1020.19434],\n       [1018.4844 ],\n       [1019.4659 ],\n       [1019.6794 ],\n       [1019.42267],\n       [1019.14215],\n       [1017.96027],\n       [1016.43896],\n       [1014.55835],\n       [1011.33405],\n       [1007.3853 ],\n       [1002.3187 ],\n       [ 992.2384 ],\n       [ 979.882  ],\n       [ 967.6972 ],\n       [ 957.068  ],\n       [ 949.63104],\n       [ 946.7752 ],\n       [ 948.1352 ],\n       [ 951.00305],\n       [ 954.7892 ],\n       [ 958.5047 ],\n       [ 961.9589 ],\n       [ 965.90216],\n       [ 969.4379 ],\n       [ 973.1575 ],\n       [ 976.4352 ],\n       [ 979.44586],\n       [ 980.6432 ],\n       [ 978.9707 ],\n       [ 975.7406 ],\n       [ 971.60834],\n       [ 969.1417 ],\n       [ 968.9858 ],\n       [ 971.54266],\n       [ 975.65875],\n       [ 979.9663 ],\n       [ 983.3894 ],\n       [ 987.17706],\n       [ 991.63745],\n       [ 996.171  ],\n       [1000.40173],\n       [1004.1099 ],\n       [1007.1785 ],\n       [1008.7673 ],\n       [1009.05927],\n       [1008.085  ],\n       [1007.2582 ],\n       [1006.1191 ],\n       [1004.6456 ],\n       [1008.8877 ],\n       [1018.07983],\n       [1029.1592 ],\n       [1039.4271 ],\n       [1047.4146 ],\n       [1051.6086 ],\n       [1049.7737 ],\n       [1045.3375 ],\n       [1040.0212 ],\n       [1037.1393 ],\n       [1037.0975 ],\n       [1037.5454 ],\n       [1038.3483 ],\n       [1038.227  ],\n       [1037.1616 ],\n       [1036.4523 ],\n       [1037.576  ],\n       [1039.5762 ],\n       [1042.0411 ],\n       [1044.0925 ],\n       [1043.6956 ],\n       [1041.1198 ],\n       [1038.5938 ],\n       [1036.1344 ],\n       [1035.5612 ],\n       [1036.9554 ],\n       [1037.7334 ],\n       [1038.157  ],\n       [1039.87   ],\n       [1043.0991 ],\n       [1046.5667 ],\n       [1049.3668 ],\n       [1052.0804 ],\n       [1055.8019 ],\n       [1060.3096 ],\n       [1064.7087 ],\n       [1068.3561 ],\n       [1070.802  ],\n       [1073.0254 ],\n       [1074.2168 ],\n       [1074.9271 ],\n       [1075.1578 ],\n       [1074.9113 ],\n       [1075.5367 ],\n       [1076.2091 ],\n       [1075.7571 ],\n       [1074.3091 ],\n       [1070.0809 ],\n       [1063.9012 ]], dtype=float32)"
     },
     "metadata": {},
     "execution_count": 233
    }
   ],
   "source": [
    "y_pred = y_pred*scale\n",
    "y_test = y_test*scale\n",
    "y_pred\n"
   ]
  },
  {
   "cell_type": "code",
   "execution_count": 47,
   "metadata": {},
   "outputs": [
    {
     "output_type": "display_data",
     "data": {
      "text/plain": "<Figure size 1008x360 with 1 Axes>",
      "image/svg+xml": "<?xml version=\"1.0\" encoding=\"utf-8\" standalone=\"no\"?>\r\n<!DOCTYPE svg PUBLIC \"-//W3C//DTD SVG 1.1//EN\"\r\n  \"http://www.w3.org/Graphics/SVG/1.1/DTD/svg11.dtd\">\r\n<!-- Created with matplotlib (https://matplotlib.org/) -->\r\n<svg height=\"331.674375pt\" version=\"1.1\" viewBox=\"0 0 849.226849 331.674375\" width=\"849.226849pt\" xmlns=\"http://www.w3.org/2000/svg\" xmlns:xlink=\"http://www.w3.org/1999/xlink\">\r\n <defs>\r\n  <style type=\"text/css\">\r\n*{stroke-linecap:butt;stroke-linejoin:round;}\r\n  </style>\r\n </defs>\r\n <g id=\"figure_1\">\r\n  <g id=\"patch_1\">\r\n   <path d=\"M 0 331.674375 \r\nL 849.226849 331.674375 \r\nL 849.226849 0 \r\nL 0 0 \r\nz\r\n\" style=\"fill:none;\"/>\r\n  </g>\r\n  <g id=\"axes_1\">\r\n   <g id=\"patch_2\">\r\n    <path d=\"M 53.328125 294.118125 \r\nL 834.528125 294.118125 \r\nL 834.528125 22.318125 \r\nL 53.328125 22.318125 \r\nz\r\n\" style=\"fill:#ffffff;\"/>\r\n   </g>\r\n   <g id=\"matplotlib.axis_1\">\r\n    <g id=\"xtick_1\">\r\n     <g id=\"line2d_1\">\r\n      <defs>\r\n       <path d=\"M 0 0 \r\nL 0 3.5 \r\n\" id=\"mec6ed3addb\" style=\"stroke:#000000;stroke-width:0.8;\"/>\r\n      </defs>\r\n      <g>\r\n       <use style=\"stroke:#000000;stroke-width:0.8;\" x=\"88.837216\" xlink:href=\"#mec6ed3addb\" y=\"294.118125\"/>\r\n      </g>\r\n     </g>\r\n     <g id=\"text_1\">\r\n      <!-- 0 -->\r\n      <defs>\r\n       <path d=\"M 31.78125 66.40625 \r\nQ 24.171875 66.40625 20.328125 58.90625 \r\nQ 16.5 51.421875 16.5 36.375 \r\nQ 16.5 21.390625 20.328125 13.890625 \r\nQ 24.171875 6.390625 31.78125 6.390625 \r\nQ 39.453125 6.390625 43.28125 13.890625 \r\nQ 47.125 21.390625 47.125 36.375 \r\nQ 47.125 51.421875 43.28125 58.90625 \r\nQ 39.453125 66.40625 31.78125 66.40625 \r\nz\r\nM 31.78125 74.21875 \r\nQ 44.046875 74.21875 50.515625 64.515625 \r\nQ 56.984375 54.828125 56.984375 36.375 \r\nQ 56.984375 17.96875 50.515625 8.265625 \r\nQ 44.046875 -1.421875 31.78125 -1.421875 \r\nQ 19.53125 -1.421875 13.0625 8.265625 \r\nQ 6.59375 17.96875 6.59375 36.375 \r\nQ 6.59375 54.828125 13.0625 64.515625 \r\nQ 19.53125 74.21875 31.78125 74.21875 \r\nz\r\n\" id=\"DejaVuSans-48\"/>\r\n      </defs>\r\n      <g transform=\"translate(85.655966 308.716563)scale(0.1 -0.1)\">\r\n       <use xlink:href=\"#DejaVuSans-48\"/>\r\n      </g>\r\n     </g>\r\n    </g>\r\n    <g id=\"xtick_2\">\r\n     <g id=\"line2d_2\">\r\n      <g>\r\n       <use style=\"stroke:#000000;stroke-width:0.8;\" x=\"181.792951\" xlink:href=\"#mec6ed3addb\" y=\"294.118125\"/>\r\n      </g>\r\n     </g>\r\n     <g id=\"text_2\">\r\n      <!-- 25 -->\r\n      <defs>\r\n       <path d=\"M 19.1875 8.296875 \r\nL 53.609375 8.296875 \r\nL 53.609375 0 \r\nL 7.328125 0 \r\nL 7.328125 8.296875 \r\nQ 12.9375 14.109375 22.625 23.890625 \r\nQ 32.328125 33.6875 34.8125 36.53125 \r\nQ 39.546875 41.84375 41.421875 45.53125 \r\nQ 43.3125 49.21875 43.3125 52.78125 \r\nQ 43.3125 58.59375 39.234375 62.25 \r\nQ 35.15625 65.921875 28.609375 65.921875 \r\nQ 23.96875 65.921875 18.8125 64.3125 \r\nQ 13.671875 62.703125 7.8125 59.421875 \r\nL 7.8125 69.390625 \r\nQ 13.765625 71.78125 18.9375 73 \r\nQ 24.125 74.21875 28.421875 74.21875 \r\nQ 39.75 74.21875 46.484375 68.546875 \r\nQ 53.21875 62.890625 53.21875 53.421875 \r\nQ 53.21875 48.921875 51.53125 44.890625 \r\nQ 49.859375 40.875 45.40625 35.40625 \r\nQ 44.1875 33.984375 37.640625 27.21875 \r\nQ 31.109375 20.453125 19.1875 8.296875 \r\nz\r\n\" id=\"DejaVuSans-50\"/>\r\n       <path d=\"M 10.796875 72.90625 \r\nL 49.515625 72.90625 \r\nL 49.515625 64.59375 \r\nL 19.828125 64.59375 \r\nL 19.828125 46.734375 \r\nQ 21.96875 47.46875 24.109375 47.828125 \r\nQ 26.265625 48.1875 28.421875 48.1875 \r\nQ 40.625 48.1875 47.75 41.5 \r\nQ 54.890625 34.8125 54.890625 23.390625 \r\nQ 54.890625 11.625 47.5625 5.09375 \r\nQ 40.234375 -1.421875 26.90625 -1.421875 \r\nQ 22.3125 -1.421875 17.546875 -0.640625 \r\nQ 12.796875 0.140625 7.71875 1.703125 \r\nL 7.71875 11.625 \r\nQ 12.109375 9.234375 16.796875 8.0625 \r\nQ 21.484375 6.890625 26.703125 6.890625 \r\nQ 35.15625 6.890625 40.078125 11.328125 \r\nQ 45.015625 15.765625 45.015625 23.390625 \r\nQ 45.015625 31 40.078125 35.4375 \r\nQ 35.15625 39.890625 26.703125 39.890625 \r\nQ 22.75 39.890625 18.8125 39.015625 \r\nQ 14.890625 38.140625 10.796875 36.28125 \r\nz\r\n\" id=\"DejaVuSans-53\"/>\r\n      </defs>\r\n      <g transform=\"translate(175.430451 308.716563)scale(0.1 -0.1)\">\r\n       <use xlink:href=\"#DejaVuSans-50\"/>\r\n       <use x=\"63.623047\" xlink:href=\"#DejaVuSans-53\"/>\r\n      </g>\r\n     </g>\r\n    </g>\r\n    <g id=\"xtick_3\">\r\n     <g id=\"line2d_3\">\r\n      <g>\r\n       <use style=\"stroke:#000000;stroke-width:0.8;\" x=\"274.748687\" xlink:href=\"#mec6ed3addb\" y=\"294.118125\"/>\r\n      </g>\r\n     </g>\r\n     <g id=\"text_3\">\r\n      <!-- 50 -->\r\n      <g transform=\"translate(268.386187 308.716563)scale(0.1 -0.1)\">\r\n       <use xlink:href=\"#DejaVuSans-53\"/>\r\n       <use x=\"63.623047\" xlink:href=\"#DejaVuSans-48\"/>\r\n      </g>\r\n     </g>\r\n    </g>\r\n    <g id=\"xtick_4\">\r\n     <g id=\"line2d_4\">\r\n      <g>\r\n       <use style=\"stroke:#000000;stroke-width:0.8;\" x=\"367.704422\" xlink:href=\"#mec6ed3addb\" y=\"294.118125\"/>\r\n      </g>\r\n     </g>\r\n     <g id=\"text_4\">\r\n      <!-- 75 -->\r\n      <defs>\r\n       <path d=\"M 8.203125 72.90625 \r\nL 55.078125 72.90625 \r\nL 55.078125 68.703125 \r\nL 28.609375 0 \r\nL 18.3125 0 \r\nL 43.21875 64.59375 \r\nL 8.203125 64.59375 \r\nz\r\n\" id=\"DejaVuSans-55\"/>\r\n      </defs>\r\n      <g transform=\"translate(361.341922 308.716563)scale(0.1 -0.1)\">\r\n       <use xlink:href=\"#DejaVuSans-55\"/>\r\n       <use x=\"63.623047\" xlink:href=\"#DejaVuSans-53\"/>\r\n      </g>\r\n     </g>\r\n    </g>\r\n    <g id=\"xtick_5\">\r\n     <g id=\"line2d_5\">\r\n      <g>\r\n       <use style=\"stroke:#000000;stroke-width:0.8;\" x=\"460.660157\" xlink:href=\"#mec6ed3addb\" y=\"294.118125\"/>\r\n      </g>\r\n     </g>\r\n     <g id=\"text_5\">\r\n      <!-- 100 -->\r\n      <defs>\r\n       <path d=\"M 12.40625 8.296875 \r\nL 28.515625 8.296875 \r\nL 28.515625 63.921875 \r\nL 10.984375 60.40625 \r\nL 10.984375 69.390625 \r\nL 28.421875 72.90625 \r\nL 38.28125 72.90625 \r\nL 38.28125 8.296875 \r\nL 54.390625 8.296875 \r\nL 54.390625 0 \r\nL 12.40625 0 \r\nz\r\n\" id=\"DejaVuSans-49\"/>\r\n      </defs>\r\n      <g transform=\"translate(451.116407 308.716563)scale(0.1 -0.1)\">\r\n       <use xlink:href=\"#DejaVuSans-49\"/>\r\n       <use x=\"63.623047\" xlink:href=\"#DejaVuSans-48\"/>\r\n       <use x=\"127.246094\" xlink:href=\"#DejaVuSans-48\"/>\r\n      </g>\r\n     </g>\r\n    </g>\r\n    <g id=\"xtick_6\">\r\n     <g id=\"line2d_6\">\r\n      <g>\r\n       <use style=\"stroke:#000000;stroke-width:0.8;\" x=\"553.615893\" xlink:href=\"#mec6ed3addb\" y=\"294.118125\"/>\r\n      </g>\r\n     </g>\r\n     <g id=\"text_6\">\r\n      <!-- 125 -->\r\n      <g transform=\"translate(544.072143 308.716563)scale(0.1 -0.1)\">\r\n       <use xlink:href=\"#DejaVuSans-49\"/>\r\n       <use x=\"63.623047\" xlink:href=\"#DejaVuSans-50\"/>\r\n       <use x=\"127.246094\" xlink:href=\"#DejaVuSans-53\"/>\r\n      </g>\r\n     </g>\r\n    </g>\r\n    <g id=\"xtick_7\">\r\n     <g id=\"line2d_7\">\r\n      <g>\r\n       <use style=\"stroke:#000000;stroke-width:0.8;\" x=\"646.571628\" xlink:href=\"#mec6ed3addb\" y=\"294.118125\"/>\r\n      </g>\r\n     </g>\r\n     <g id=\"text_7\">\r\n      <!-- 150 -->\r\n      <g transform=\"translate(637.027878 308.716563)scale(0.1 -0.1)\">\r\n       <use xlink:href=\"#DejaVuSans-49\"/>\r\n       <use x=\"63.623047\" xlink:href=\"#DejaVuSans-53\"/>\r\n       <use x=\"127.246094\" xlink:href=\"#DejaVuSans-48\"/>\r\n      </g>\r\n     </g>\r\n    </g>\r\n    <g id=\"xtick_8\">\r\n     <g id=\"line2d_8\">\r\n      <g>\r\n       <use style=\"stroke:#000000;stroke-width:0.8;\" x=\"739.527363\" xlink:href=\"#mec6ed3addb\" y=\"294.118125\"/>\r\n      </g>\r\n     </g>\r\n     <g id=\"text_8\">\r\n      <!-- 175 -->\r\n      <g transform=\"translate(729.983613 308.716563)scale(0.1 -0.1)\">\r\n       <use xlink:href=\"#DejaVuSans-49\"/>\r\n       <use x=\"63.623047\" xlink:href=\"#DejaVuSans-55\"/>\r\n       <use x=\"127.246094\" xlink:href=\"#DejaVuSans-53\"/>\r\n      </g>\r\n     </g>\r\n    </g>\r\n    <g id=\"xtick_9\">\r\n     <g id=\"line2d_9\">\r\n      <g>\r\n       <use style=\"stroke:#000000;stroke-width:0.8;\" x=\"832.483099\" xlink:href=\"#mec6ed3addb\" y=\"294.118125\"/>\r\n      </g>\r\n     </g>\r\n     <g id=\"text_9\">\r\n      <!-- 200 -->\r\n      <g transform=\"translate(822.939349 308.716563)scale(0.1 -0.1)\">\r\n       <use xlink:href=\"#DejaVuSans-50\"/>\r\n       <use x=\"63.623047\" xlink:href=\"#DejaVuSans-48\"/>\r\n       <use x=\"127.246094\" xlink:href=\"#DejaVuSans-48\"/>\r\n      </g>\r\n     </g>\r\n    </g>\r\n    <g id=\"text_10\">\r\n     <!-- Time -->\r\n     <defs>\r\n      <path d=\"M -0.296875 72.90625 \r\nL 61.375 72.90625 \r\nL 61.375 64.59375 \r\nL 35.5 64.59375 \r\nL 35.5 0 \r\nL 25.59375 0 \r\nL 25.59375 64.59375 \r\nL -0.296875 64.59375 \r\nz\r\n\" id=\"DejaVuSans-84\"/>\r\n      <path d=\"M 9.421875 54.6875 \r\nL 18.40625 54.6875 \r\nL 18.40625 0 \r\nL 9.421875 0 \r\nz\r\nM 9.421875 75.984375 \r\nL 18.40625 75.984375 \r\nL 18.40625 64.59375 \r\nL 9.421875 64.59375 \r\nz\r\n\" id=\"DejaVuSans-105\"/>\r\n      <path d=\"M 52 44.1875 \r\nQ 55.375 50.25 60.0625 53.125 \r\nQ 64.75 56 71.09375 56 \r\nQ 79.640625 56 84.28125 50.015625 \r\nQ 88.921875 44.046875 88.921875 33.015625 \r\nL 88.921875 0 \r\nL 79.890625 0 \r\nL 79.890625 32.71875 \r\nQ 79.890625 40.578125 77.09375 44.375 \r\nQ 74.3125 48.1875 68.609375 48.1875 \r\nQ 61.625 48.1875 57.5625 43.546875 \r\nQ 53.515625 38.921875 53.515625 30.90625 \r\nL 53.515625 0 \r\nL 44.484375 0 \r\nL 44.484375 32.71875 \r\nQ 44.484375 40.625 41.703125 44.40625 \r\nQ 38.921875 48.1875 33.109375 48.1875 \r\nQ 26.21875 48.1875 22.15625 43.53125 \r\nQ 18.109375 38.875 18.109375 30.90625 \r\nL 18.109375 0 \r\nL 9.078125 0 \r\nL 9.078125 54.6875 \r\nL 18.109375 54.6875 \r\nL 18.109375 46.1875 \r\nQ 21.1875 51.21875 25.484375 53.609375 \r\nQ 29.78125 56 35.6875 56 \r\nQ 41.65625 56 45.828125 52.96875 \r\nQ 50 49.953125 52 44.1875 \r\nz\r\n\" id=\"DejaVuSans-109\"/>\r\n      <path d=\"M 56.203125 29.59375 \r\nL 56.203125 25.203125 \r\nL 14.890625 25.203125 \r\nQ 15.484375 15.921875 20.484375 11.0625 \r\nQ 25.484375 6.203125 34.421875 6.203125 \r\nQ 39.59375 6.203125 44.453125 7.46875 \r\nQ 49.3125 8.734375 54.109375 11.28125 \r\nL 54.109375 2.78125 \r\nQ 49.265625 0.734375 44.1875 -0.34375 \r\nQ 39.109375 -1.421875 33.890625 -1.421875 \r\nQ 20.796875 -1.421875 13.15625 6.1875 \r\nQ 5.515625 13.8125 5.515625 26.8125 \r\nQ 5.515625 40.234375 12.765625 48.109375 \r\nQ 20.015625 56 32.328125 56 \r\nQ 43.359375 56 49.78125 48.890625 \r\nQ 56.203125 41.796875 56.203125 29.59375 \r\nz\r\nM 47.21875 32.234375 \r\nQ 47.125 39.59375 43.09375 43.984375 \r\nQ 39.0625 48.390625 32.421875 48.390625 \r\nQ 24.90625 48.390625 20.390625 44.140625 \r\nQ 15.875 39.890625 15.1875 32.171875 \r\nz\r\n\" id=\"DejaVuSans-101\"/>\r\n     </defs>\r\n     <g transform=\"translate(431.694531 322.394687)scale(0.1 -0.1)\">\r\n      <use xlink:href=\"#DejaVuSans-84\"/>\r\n      <use x=\"57.958984\" xlink:href=\"#DejaVuSans-105\"/>\r\n      <use x=\"85.742188\" xlink:href=\"#DejaVuSans-109\"/>\r\n      <use x=\"183.154297\" xlink:href=\"#DejaVuSans-101\"/>\r\n     </g>\r\n    </g>\r\n   </g>\r\n   <g id=\"matplotlib.axis_2\">\r\n    <g id=\"ytick_1\">\r\n     <g id=\"line2d_10\">\r\n      <defs>\r\n       <path d=\"M 0 0 \r\nL -3.5 0 \r\n\" id=\"m3b0fa48107\" style=\"stroke:#000000;stroke-width:0.8;\"/>\r\n      </defs>\r\n      <g>\r\n       <use style=\"stroke:#000000;stroke-width:0.8;\" x=\"53.328125\" xlink:href=\"#m3b0fa48107\" y=\"287.518511\"/>\r\n      </g>\r\n     </g>\r\n     <g id=\"text_11\">\r\n      <!-- 900 -->\r\n      <defs>\r\n       <path d=\"M 10.984375 1.515625 \r\nL 10.984375 10.5 \r\nQ 14.703125 8.734375 18.5 7.8125 \r\nQ 22.3125 6.890625 25.984375 6.890625 \r\nQ 35.75 6.890625 40.890625 13.453125 \r\nQ 46.046875 20.015625 46.78125 33.40625 \r\nQ 43.953125 29.203125 39.59375 26.953125 \r\nQ 35.25 24.703125 29.984375 24.703125 \r\nQ 19.046875 24.703125 12.671875 31.3125 \r\nQ 6.296875 37.9375 6.296875 49.421875 \r\nQ 6.296875 60.640625 12.9375 67.421875 \r\nQ 19.578125 74.21875 30.609375 74.21875 \r\nQ 43.265625 74.21875 49.921875 64.515625 \r\nQ 56.59375 54.828125 56.59375 36.375 \r\nQ 56.59375 19.140625 48.40625 8.859375 \r\nQ 40.234375 -1.421875 26.421875 -1.421875 \r\nQ 22.703125 -1.421875 18.890625 -0.6875 \r\nQ 15.09375 0.046875 10.984375 1.515625 \r\nz\r\nM 30.609375 32.421875 \r\nQ 37.25 32.421875 41.125 36.953125 \r\nQ 45.015625 41.5 45.015625 49.421875 \r\nQ 45.015625 57.28125 41.125 61.84375 \r\nQ 37.25 66.40625 30.609375 66.40625 \r\nQ 23.96875 66.40625 20.09375 61.84375 \r\nQ 16.21875 57.28125 16.21875 49.421875 \r\nQ 16.21875 41.5 20.09375 36.953125 \r\nQ 23.96875 32.421875 30.609375 32.421875 \r\nz\r\n\" id=\"DejaVuSans-57\"/>\r\n      </defs>\r\n      <g transform=\"translate(27.240625 291.31773)scale(0.1 -0.1)\">\r\n       <use xlink:href=\"#DejaVuSans-57\"/>\r\n       <use x=\"63.623047\" xlink:href=\"#DejaVuSans-48\"/>\r\n       <use x=\"127.246094\" xlink:href=\"#DejaVuSans-48\"/>\r\n      </g>\r\n     </g>\r\n    </g>\r\n    <g id=\"ytick_2\">\r\n     <g id=\"line2d_11\">\r\n      <g>\r\n       <use style=\"stroke:#000000;stroke-width:0.8;\" x=\"53.328125\" xlink:href=\"#m3b0fa48107\" y=\"248.57004\"/>\r\n      </g>\r\n     </g>\r\n     <g id=\"text_12\">\r\n      <!-- 950 -->\r\n      <g transform=\"translate(27.240625 252.369258)scale(0.1 -0.1)\">\r\n       <use xlink:href=\"#DejaVuSans-57\"/>\r\n       <use x=\"63.623047\" xlink:href=\"#DejaVuSans-53\"/>\r\n       <use x=\"127.246094\" xlink:href=\"#DejaVuSans-48\"/>\r\n      </g>\r\n     </g>\r\n    </g>\r\n    <g id=\"ytick_3\">\r\n     <g id=\"line2d_12\">\r\n      <g>\r\n       <use style=\"stroke:#000000;stroke-width:0.8;\" x=\"53.328125\" xlink:href=\"#m3b0fa48107\" y=\"209.621569\"/>\r\n      </g>\r\n     </g>\r\n     <g id=\"text_13\">\r\n      <!-- 1000 -->\r\n      <g transform=\"translate(20.878125 213.420787)scale(0.1 -0.1)\">\r\n       <use xlink:href=\"#DejaVuSans-49\"/>\r\n       <use x=\"63.623047\" xlink:href=\"#DejaVuSans-48\"/>\r\n       <use x=\"127.246094\" xlink:href=\"#DejaVuSans-48\"/>\r\n       <use x=\"190.869141\" xlink:href=\"#DejaVuSans-48\"/>\r\n      </g>\r\n     </g>\r\n    </g>\r\n    <g id=\"ytick_4\">\r\n     <g id=\"line2d_13\">\r\n      <g>\r\n       <use style=\"stroke:#000000;stroke-width:0.8;\" x=\"53.328125\" xlink:href=\"#m3b0fa48107\" y=\"170.673097\"/>\r\n      </g>\r\n     </g>\r\n     <g id=\"text_14\">\r\n      <!-- 1050 -->\r\n      <g transform=\"translate(20.878125 174.472316)scale(0.1 -0.1)\">\r\n       <use xlink:href=\"#DejaVuSans-49\"/>\r\n       <use x=\"63.623047\" xlink:href=\"#DejaVuSans-48\"/>\r\n       <use x=\"127.246094\" xlink:href=\"#DejaVuSans-53\"/>\r\n       <use x=\"190.869141\" xlink:href=\"#DejaVuSans-48\"/>\r\n      </g>\r\n     </g>\r\n    </g>\r\n    <g id=\"ytick_5\">\r\n     <g id=\"line2d_14\">\r\n      <g>\r\n       <use style=\"stroke:#000000;stroke-width:0.8;\" x=\"53.328125\" xlink:href=\"#m3b0fa48107\" y=\"131.724626\"/>\r\n      </g>\r\n     </g>\r\n     <g id=\"text_15\">\r\n      <!-- 1100 -->\r\n      <g transform=\"translate(20.878125 135.523845)scale(0.1 -0.1)\">\r\n       <use xlink:href=\"#DejaVuSans-49\"/>\r\n       <use x=\"63.623047\" xlink:href=\"#DejaVuSans-49\"/>\r\n       <use x=\"127.246094\" xlink:href=\"#DejaVuSans-48\"/>\r\n       <use x=\"190.869141\" xlink:href=\"#DejaVuSans-48\"/>\r\n      </g>\r\n     </g>\r\n    </g>\r\n    <g id=\"ytick_6\">\r\n     <g id=\"line2d_15\">\r\n      <g>\r\n       <use style=\"stroke:#000000;stroke-width:0.8;\" x=\"53.328125\" xlink:href=\"#m3b0fa48107\" y=\"92.776155\"/>\r\n      </g>\r\n     </g>\r\n     <g id=\"text_16\">\r\n      <!-- 1150 -->\r\n      <g transform=\"translate(20.878125 96.575374)scale(0.1 -0.1)\">\r\n       <use xlink:href=\"#DejaVuSans-49\"/>\r\n       <use x=\"63.623047\" xlink:href=\"#DejaVuSans-49\"/>\r\n       <use x=\"127.246094\" xlink:href=\"#DejaVuSans-53\"/>\r\n       <use x=\"190.869141\" xlink:href=\"#DejaVuSans-48\"/>\r\n      </g>\r\n     </g>\r\n    </g>\r\n    <g id=\"ytick_7\">\r\n     <g id=\"line2d_16\">\r\n      <g>\r\n       <use style=\"stroke:#000000;stroke-width:0.8;\" x=\"53.328125\" xlink:href=\"#m3b0fa48107\" y=\"53.827684\"/>\r\n      </g>\r\n     </g>\r\n     <g id=\"text_17\">\r\n      <!-- 1200 -->\r\n      <g transform=\"translate(20.878125 57.626902)scale(0.1 -0.1)\">\r\n       <use xlink:href=\"#DejaVuSans-49\"/>\r\n       <use x=\"63.623047\" xlink:href=\"#DejaVuSans-50\"/>\r\n       <use x=\"127.246094\" xlink:href=\"#DejaVuSans-48\"/>\r\n       <use x=\"190.869141\" xlink:href=\"#DejaVuSans-48\"/>\r\n      </g>\r\n     </g>\r\n    </g>\r\n    <g id=\"text_18\">\r\n     <!-- Google Stock Price -->\r\n     <defs>\r\n      <path d=\"M 59.515625 10.40625 \r\nL 59.515625 29.984375 \r\nL 43.40625 29.984375 \r\nL 43.40625 38.09375 \r\nL 69.28125 38.09375 \r\nL 69.28125 6.78125 \r\nQ 63.578125 2.734375 56.6875 0.65625 \r\nQ 49.8125 -1.421875 42 -1.421875 \r\nQ 24.90625 -1.421875 15.25 8.5625 \r\nQ 5.609375 18.5625 5.609375 36.375 \r\nQ 5.609375 54.25 15.25 64.234375 \r\nQ 24.90625 74.21875 42 74.21875 \r\nQ 49.125 74.21875 55.546875 72.453125 \r\nQ 61.96875 70.703125 67.390625 67.28125 \r\nL 67.390625 56.78125 \r\nQ 61.921875 61.421875 55.765625 63.765625 \r\nQ 49.609375 66.109375 42.828125 66.109375 \r\nQ 29.4375 66.109375 22.71875 58.640625 \r\nQ 16.015625 51.171875 16.015625 36.375 \r\nQ 16.015625 21.625 22.71875 14.15625 \r\nQ 29.4375 6.6875 42.828125 6.6875 \r\nQ 48.046875 6.6875 52.140625 7.59375 \r\nQ 56.25 8.5 59.515625 10.40625 \r\nz\r\n\" id=\"DejaVuSans-71\"/>\r\n      <path d=\"M 30.609375 48.390625 \r\nQ 23.390625 48.390625 19.1875 42.75 \r\nQ 14.984375 37.109375 14.984375 27.296875 \r\nQ 14.984375 17.484375 19.15625 11.84375 \r\nQ 23.34375 6.203125 30.609375 6.203125 \r\nQ 37.796875 6.203125 41.984375 11.859375 \r\nQ 46.1875 17.53125 46.1875 27.296875 \r\nQ 46.1875 37.015625 41.984375 42.703125 \r\nQ 37.796875 48.390625 30.609375 48.390625 \r\nz\r\nM 30.609375 56 \r\nQ 42.328125 56 49.015625 48.375 \r\nQ 55.71875 40.765625 55.71875 27.296875 \r\nQ 55.71875 13.875 49.015625 6.21875 \r\nQ 42.328125 -1.421875 30.609375 -1.421875 \r\nQ 18.84375 -1.421875 12.171875 6.21875 \r\nQ 5.515625 13.875 5.515625 27.296875 \r\nQ 5.515625 40.765625 12.171875 48.375 \r\nQ 18.84375 56 30.609375 56 \r\nz\r\n\" id=\"DejaVuSans-111\"/>\r\n      <path d=\"M 45.40625 27.984375 \r\nQ 45.40625 37.75 41.375 43.109375 \r\nQ 37.359375 48.484375 30.078125 48.484375 \r\nQ 22.859375 48.484375 18.828125 43.109375 \r\nQ 14.796875 37.75 14.796875 27.984375 \r\nQ 14.796875 18.265625 18.828125 12.890625 \r\nQ 22.859375 7.515625 30.078125 7.515625 \r\nQ 37.359375 7.515625 41.375 12.890625 \r\nQ 45.40625 18.265625 45.40625 27.984375 \r\nz\r\nM 54.390625 6.78125 \r\nQ 54.390625 -7.171875 48.1875 -13.984375 \r\nQ 42 -20.796875 29.203125 -20.796875 \r\nQ 24.46875 -20.796875 20.265625 -20.09375 \r\nQ 16.0625 -19.390625 12.109375 -17.921875 \r\nL 12.109375 -9.1875 \r\nQ 16.0625 -11.328125 19.921875 -12.34375 \r\nQ 23.78125 -13.375 27.78125 -13.375 \r\nQ 36.625 -13.375 41.015625 -8.765625 \r\nQ 45.40625 -4.15625 45.40625 5.171875 \r\nL 45.40625 9.625 \r\nQ 42.625 4.78125 38.28125 2.390625 \r\nQ 33.9375 0 27.875 0 \r\nQ 17.828125 0 11.671875 7.65625 \r\nQ 5.515625 15.328125 5.515625 27.984375 \r\nQ 5.515625 40.671875 11.671875 48.328125 \r\nQ 17.828125 56 27.875 56 \r\nQ 33.9375 56 38.28125 53.609375 \r\nQ 42.625 51.21875 45.40625 46.390625 \r\nL 45.40625 54.6875 \r\nL 54.390625 54.6875 \r\nz\r\n\" id=\"DejaVuSans-103\"/>\r\n      <path d=\"M 9.421875 75.984375 \r\nL 18.40625 75.984375 \r\nL 18.40625 0 \r\nL 9.421875 0 \r\nz\r\n\" id=\"DejaVuSans-108\"/>\r\n      <path id=\"DejaVuSans-32\"/>\r\n      <path d=\"M 53.515625 70.515625 \r\nL 53.515625 60.890625 \r\nQ 47.90625 63.578125 42.921875 64.890625 \r\nQ 37.9375 66.21875 33.296875 66.21875 \r\nQ 25.25 66.21875 20.875 63.09375 \r\nQ 16.5 59.96875 16.5 54.203125 \r\nQ 16.5 49.359375 19.40625 46.890625 \r\nQ 22.3125 44.4375 30.421875 42.921875 \r\nL 36.375 41.703125 \r\nQ 47.40625 39.59375 52.65625 34.296875 \r\nQ 57.90625 29 57.90625 20.125 \r\nQ 57.90625 9.515625 50.796875 4.046875 \r\nQ 43.703125 -1.421875 29.984375 -1.421875 \r\nQ 24.8125 -1.421875 18.96875 -0.25 \r\nQ 13.140625 0.921875 6.890625 3.21875 \r\nL 6.890625 13.375 \r\nQ 12.890625 10.015625 18.65625 8.296875 \r\nQ 24.421875 6.59375 29.984375 6.59375 \r\nQ 38.421875 6.59375 43.015625 9.90625 \r\nQ 47.609375 13.234375 47.609375 19.390625 \r\nQ 47.609375 24.75 44.3125 27.78125 \r\nQ 41.015625 30.8125 33.5 32.328125 \r\nL 27.484375 33.5 \r\nQ 16.453125 35.6875 11.515625 40.375 \r\nQ 6.59375 45.0625 6.59375 53.421875 \r\nQ 6.59375 63.09375 13.40625 68.65625 \r\nQ 20.21875 74.21875 32.171875 74.21875 \r\nQ 37.3125 74.21875 42.625 73.28125 \r\nQ 47.953125 72.359375 53.515625 70.515625 \r\nz\r\n\" id=\"DejaVuSans-83\"/>\r\n      <path d=\"M 18.3125 70.21875 \r\nL 18.3125 54.6875 \r\nL 36.8125 54.6875 \r\nL 36.8125 47.703125 \r\nL 18.3125 47.703125 \r\nL 18.3125 18.015625 \r\nQ 18.3125 11.328125 20.140625 9.421875 \r\nQ 21.96875 7.515625 27.59375 7.515625 \r\nL 36.8125 7.515625 \r\nL 36.8125 0 \r\nL 27.59375 0 \r\nQ 17.1875 0 13.234375 3.875 \r\nQ 9.28125 7.765625 9.28125 18.015625 \r\nL 9.28125 47.703125 \r\nL 2.6875 47.703125 \r\nL 2.6875 54.6875 \r\nL 9.28125 54.6875 \r\nL 9.28125 70.21875 \r\nz\r\n\" id=\"DejaVuSans-116\"/>\r\n      <path d=\"M 48.78125 52.59375 \r\nL 48.78125 44.1875 \r\nQ 44.96875 46.296875 41.140625 47.34375 \r\nQ 37.3125 48.390625 33.40625 48.390625 \r\nQ 24.65625 48.390625 19.8125 42.84375 \r\nQ 14.984375 37.3125 14.984375 27.296875 \r\nQ 14.984375 17.28125 19.8125 11.734375 \r\nQ 24.65625 6.203125 33.40625 6.203125 \r\nQ 37.3125 6.203125 41.140625 7.25 \r\nQ 44.96875 8.296875 48.78125 10.40625 \r\nL 48.78125 2.09375 \r\nQ 45.015625 0.34375 40.984375 -0.53125 \r\nQ 36.96875 -1.421875 32.421875 -1.421875 \r\nQ 20.0625 -1.421875 12.78125 6.34375 \r\nQ 5.515625 14.109375 5.515625 27.296875 \r\nQ 5.515625 40.671875 12.859375 48.328125 \r\nQ 20.21875 56 33.015625 56 \r\nQ 37.15625 56 41.109375 55.140625 \r\nQ 45.0625 54.296875 48.78125 52.59375 \r\nz\r\n\" id=\"DejaVuSans-99\"/>\r\n      <path d=\"M 9.078125 75.984375 \r\nL 18.109375 75.984375 \r\nL 18.109375 31.109375 \r\nL 44.921875 54.6875 \r\nL 56.390625 54.6875 \r\nL 27.390625 29.109375 \r\nL 57.625 0 \r\nL 45.90625 0 \r\nL 18.109375 26.703125 \r\nL 18.109375 0 \r\nL 9.078125 0 \r\nz\r\n\" id=\"DejaVuSans-107\"/>\r\n      <path d=\"M 19.671875 64.796875 \r\nL 19.671875 37.40625 \r\nL 32.078125 37.40625 \r\nQ 38.96875 37.40625 42.71875 40.96875 \r\nQ 46.484375 44.53125 46.484375 51.125 \r\nQ 46.484375 57.671875 42.71875 61.234375 \r\nQ 38.96875 64.796875 32.078125 64.796875 \r\nz\r\nM 9.8125 72.90625 \r\nL 32.078125 72.90625 \r\nQ 44.34375 72.90625 50.609375 67.359375 \r\nQ 56.890625 61.8125 56.890625 51.125 \r\nQ 56.890625 40.328125 50.609375 34.8125 \r\nQ 44.34375 29.296875 32.078125 29.296875 \r\nL 19.671875 29.296875 \r\nL 19.671875 0 \r\nL 9.8125 0 \r\nz\r\n\" id=\"DejaVuSans-80\"/>\r\n      <path d=\"M 41.109375 46.296875 \r\nQ 39.59375 47.171875 37.8125 47.578125 \r\nQ 36.03125 48 33.890625 48 \r\nQ 26.265625 48 22.1875 43.046875 \r\nQ 18.109375 38.09375 18.109375 28.8125 \r\nL 18.109375 0 \r\nL 9.078125 0 \r\nL 9.078125 54.6875 \r\nL 18.109375 54.6875 \r\nL 18.109375 46.1875 \r\nQ 20.953125 51.171875 25.484375 53.578125 \r\nQ 30.03125 56 36.53125 56 \r\nQ 37.453125 56 38.578125 55.875 \r\nQ 39.703125 55.765625 41.0625 55.515625 \r\nz\r\n\" id=\"DejaVuSans-114\"/>\r\n     </defs>\r\n     <g transform=\"translate(14.798438 205.065)rotate(-90)scale(0.1 -0.1)\">\r\n      <use xlink:href=\"#DejaVuSans-71\"/>\r\n      <use x=\"77.490234\" xlink:href=\"#DejaVuSans-111\"/>\r\n      <use x=\"138.671875\" xlink:href=\"#DejaVuSans-111\"/>\r\n      <use x=\"199.853516\" xlink:href=\"#DejaVuSans-103\"/>\r\n      <use x=\"263.330078\" xlink:href=\"#DejaVuSans-108\"/>\r\n      <use x=\"291.113281\" xlink:href=\"#DejaVuSans-101\"/>\r\n      <use x=\"352.636719\" xlink:href=\"#DejaVuSans-32\"/>\r\n      <use x=\"384.423828\" xlink:href=\"#DejaVuSans-83\"/>\r\n      <use x=\"447.900391\" xlink:href=\"#DejaVuSans-116\"/>\r\n      <use x=\"487.109375\" xlink:href=\"#DejaVuSans-111\"/>\r\n      <use x=\"548.291016\" xlink:href=\"#DejaVuSans-99\"/>\r\n      <use x=\"603.271484\" xlink:href=\"#DejaVuSans-107\"/>\r\n      <use x=\"661.181641\" xlink:href=\"#DejaVuSans-32\"/>\r\n      <use x=\"692.96875\" xlink:href=\"#DejaVuSans-80\"/>\r\n      <use x=\"751.521484\" xlink:href=\"#DejaVuSans-114\"/>\r\n      <use x=\"792.634766\" xlink:href=\"#DejaVuSans-105\"/>\r\n      <use x=\"820.417969\" xlink:href=\"#DejaVuSans-99\"/>\r\n      <use x=\"875.398438\" xlink:href=\"#DejaVuSans-101\"/>\r\n     </g>\r\n    </g>\r\n   </g>\r\n   <g id=\"line2d_17\">\r\n    <path clip-path=\"url(#p3b0f9a0925)\" d=\"M 88.837216 235.202764 \r\nL 92.555445 216.172546 \r\nL 96.273675 222.723706 \r\nL 99.991904 192.413979 \r\nL 103.710134 188.822942 \r\nL 107.428363 184.507421 \r\nL 111.146592 195.405195 \r\nL 114.864822 198.894962 \r\nL 118.583051 211.561013 \r\nL 122.301281 209.029362 \r\nL 126.01951 185.792739 \r\nL 129.737739 186.205615 \r\nL 133.455969 170.21335 \r\nL 137.174198 179.560983 \r\nL 140.892428 187.857026 \r\nL 144.610657 188.534727 \r\nL 148.328887 181.897892 \r\nL 152.047116 185.707064 \r\nL 155.765345 191.494753 \r\nL 159.483575 194.805373 \r\nL 163.201804 167.876442 \r\nL 166.920034 160.554111 \r\nL 170.638263 160.351571 \r\nL 174.356492 150.863776 \r\nL 178.074722 139.389572 \r\nL 181.792951 166.972811 \r\nL 185.511181 180.339953 \r\nL 192.94764 164.91632 \r\nL 196.665869 150.746912 \r\nL 200.384098 156.152914 \r\nL 204.102328 146.781984 \r\nL 207.820557 162.423656 \r\nL 211.538787 154.641759 \r\nL 215.257016 161.769348 \r\nL 218.975245 169.512259 \r\nL 222.693475 157.74984 \r\nL 226.411704 165.734276 \r\nL 230.129934 164.799551 \r\nL 233.848163 161.410958 \r\nL 237.566392 150.816993 \r\nL 241.284622 133.609585 \r\nL 245.002851 131.218095 \r\nL 248.721081 121.535559 \r\nL 252.43931 126.809197 \r\nL 256.15754 149.391513 \r\nL 259.875769 135.588198 \r\nL 263.593998 109.251195 \r\nL 267.312228 91.813957 \r\nL 271.030457 96.592942 \r\nL 274.748687 97.473182 \r\nL 278.466916 105.325159 \r\nL 282.185145 101.03303 \r\nL 285.903375 94.380696 \r\nL 289.621604 79.852897 \r\nL 293.339834 71.813975 \r\nL 297.058063 94.707802 \r\nL 300.776293 93.46147 \r\nL 304.494522 103.611465 \r\nL 308.212751 114.485847 \r\nL 311.930981 111.868522 \r\nL 315.64921 104.70204 \r\nL 319.36744 95.962027 \r\nL 323.085669 86.489732 \r\nL 326.803898 87.689375 \r\nL 330.522128 80.639664 \r\nL 334.240357 86.170327 \r\nL 337.958587 95.432286 \r\nL 341.676816 91.786667 \r\nL 345.395046 89.231719 \r\nL 349.113275 84.526714 \r\nL 352.831504 78.294958 \r\nL 356.549734 72.842172 \r\nL 360.267963 66.610417 \r\nL 363.986193 61.796344 \r\nL 367.704422 64.281306 \r\nL 371.422651 52.830494 \r\nL 375.140881 42.368892 \r\nL 378.85911 41.862543 \r\nL 382.57734 38.567518 \r\nL 386.295569 34.67267 \r\nL 390.013798 104.000949 \r\nL 393.732028 101.625054 \r\nL 397.450257 117.430374 \r\nL 401.168487 112.842233 \r\nL 404.886716 118.598828 \r\nL 408.604946 107.529703 \r\nL 412.323175 114.119754 \r\nL 416.041404 124.230763 \r\nL 419.759634 120.678711 \r\nL 423.477863 137.527824 \r\nL 427.196093 141.227928 \r\nL 430.914322 156.293171 \r\nL 434.632551 119.962025 \r\nL 438.350781 116.877336 \r\nL 442.06901 135.549211 \r\nL 445.78724 132.441131 \r\nL 449.505469 133.79653 \r\nL 453.223699 138.665089 \r\nL 456.941928 133.32137 \r\nL 460.660157 143.72839 \r\nL 464.378387 148.776096 \r\nL 468.096616 158.108135 \r\nL 471.814846 169.208449 \r\nL 475.533075 197.087795 \r\nL 479.251304 214.692486 \r\nL 482.969534 207.962178 \r\nL 486.687763 213.064466 \r\nL 490.405993 208.671067 \r\nL 494.124222 191.26112 \r\nL 497.842452 174.902762 \r\nL 501.560681 187.350678 \r\nL 505.27891 182.957278 \r\nL 508.99714 180.791721 \r\nL 512.715369 180.900788 \r\nL 516.433599 162.665183 \r\nL 520.151828 165.85114 \r\nL 523.870057 154.641759 \r\nL 527.588287 163.015681 \r\nL 531.306516 154.937772 \r\nL 535.024746 160.351571 \r\nL 538.742975 180.729438 \r\nL 542.461204 182.676861 \r\nL 546.179434 188.604807 \r\nL 549.897663 171.771289 \r\nL 553.615893 168.468467 \r\nL 557.334122 156.651466 \r\nL 561.052352 156.347656 \r\nL 564.770581 150.606656 \r\nL 568.48881 161.021473 \r\nL 572.20704 145.893947 \r\nL 575.925269 136.522923 \r\nL 579.643499 135.946493 \r\nL 583.361728 133.710855 \r\nL 587.079957 134.380757 \r\nL 590.798187 130.509301 \r\nL 594.516416 137.699174 \r\nL 598.234646 132.67486 \r\nL 601.952875 144.156861 \r\nL 605.671105 135.938696 \r\nL 609.389334 145.364207 \r\nL 613.107563 140.752769 \r\nL 616.825793 73.589953 \r\nL 620.544022 60.339675 \r\nL 624.262252 72.522768 \r\nL 627.980481 74.400111 \r\nL 631.69871 81.387444 \r\nL 635.41694 91.739978 \r\nL 639.135169 115.654301 \r\nL 642.853399 120.89675 \r\nL 646.571628 126.591063 \r\nL 650.289858 105.691347 \r\nL 654.008087 93.882144 \r\nL 657.726316 108.511213 \r\nL 661.444546 114.548226 \r\nL 665.162775 110.770148 \r\nL 668.881005 120.748792 \r\nL 672.599234 108.246294 \r\nL 676.317463 100.036021 \r\nL 680.035693 96.016513 \r\nL 683.753922 97.65233 \r\nL 687.472152 96.935739 \r\nL 691.190381 106.345655 \r\nL 694.90861 125.609553 \r\nL 698.62684 107.48292 \r\nL 702.345069 122.143178 \r\nL 706.063299 107.023354 \r\nL 709.781528 93.484862 \r\nL 713.499758 110.209313 \r\nL 717.217987 110.458636 \r\nL 720.936216 98.914256 \r\nL 724.654446 85.983383 \r\nL 728.372675 89.20053 \r\nL 732.090905 96.094391 \r\nL 735.809134 89.660096 \r\nL 739.527363 73.387413 \r\nL 743.245593 67.895735 \r\nL 746.963822 69.321215 \r\nL 750.682052 68.635719 \r\nL 754.400281 70.886951 \r\nL 758.118511 67.342602 \r\nL 761.83674 66.516944 \r\nL 765.554969 72.063203 \r\nL 769.273199 61.157631 \r\nL 772.991428 79.993154 \r\nL 776.709658 59.630881 \r\nL 780.427887 58.812925 \r\nL 784.146116 75.981442 \r\nL 787.864346 77.515989 \r\nL 791.582575 94.668911 \r\nL 795.300805 107.895796 \r\nL 799.019034 98.633838 \r\nL 799.019034 98.633838 \r\n\" style=\"fill:none;stroke:#ff0000;stroke-linecap:square;stroke-width:1.5;\"/>\r\n   </g>\r\n   <g id=\"line2d_18\">\r\n    <path clip-path=\"url(#p3b0f9a0925)\" d=\"M 88.837216 281.76358 \r\nL 92.555445 278.497271 \r\nL 99.991904 273.117846 \r\nL 103.710134 269.488202 \r\nL 107.428363 265.007987 \r\nL 111.146592 260.147653 \r\nL 114.864822 256.276341 \r\nL 118.583051 254.100418 \r\nL 122.301281 253.929163 \r\nL 126.01951 254.279851 \r\nL 129.737739 253.333811 \r\nL 133.455969 251.353629 \r\nL 137.174198 248.144469 \r\nL 140.892428 245.555147 \r\nL 144.610657 244.034292 \r\nL 148.328887 243.601685 \r\nL 152.047116 242.931069 \r\nL 155.765345 242.751351 \r\nL 163.201804 243.912959 \r\nL 166.920034 242.59298 \r\nL 170.638263 239.54124 \r\nL 174.356492 235.639214 \r\nL 181.792951 226.861592 \r\nL 185.511181 224.746669 \r\nL 189.22941 224.751328 \r\nL 192.94764 225.650871 \r\nL 196.665869 226.022289 \r\nL 200.384098 224.948923 \r\nL 204.102328 223.269033 \r\nL 207.820557 221.419218 \r\nL 211.538787 220.124438 \r\nL 215.257016 219.319842 \r\nL 218.975245 219.696347 \r\nL 222.693475 220.7506 \r\nL 226.411704 221.53071 \r\nL 230.129934 222.17413 \r\nL 233.848163 222.475182 \r\nL 237.566392 222.216017 \r\nL 241.284622 220.71613 \r\nL 245.002851 217.749162 \r\nL 248.721081 213.624247 \r\nL 252.43931 208.825198 \r\nL 256.15754 205.005614 \r\nL 259.875769 203.313124 \r\nL 263.593998 201.962194 \r\nL 267.312228 199.14385 \r\nL 271.030457 194.649609 \r\nL 274.748687 189.767167 \r\nL 278.466916 185.7817 \r\nL 282.185145 182.977904 \r\nL 285.903375 180.71469 \r\nL 289.621604 178.22659 \r\nL 297.058063 170.989363 \r\nL 300.776293 169.087202 \r\nL 304.494522 169.022066 \r\nL 308.212751 170.75107 \r\nL 315.64921 176.727702 \r\nL 319.36744 178.336894 \r\nL 323.085669 178.150899 \r\nL 326.803898 176.108957 \r\nL 330.522128 173.109754 \r\nL 334.240357 169.834412 \r\nL 337.958587 167.269765 \r\nL 341.676816 166.068125 \r\nL 345.395046 165.603235 \r\nL 349.113275 165.3154 \r\nL 352.831504 164.58835 \r\nL 356.549734 163.361321 \r\nL 360.267963 161.385751 \r\nL 363.986193 158.780406 \r\nL 371.422651 153.00194 \r\nL 375.140881 149.672112 \r\nL 378.85911 145.944907 \r\nL 382.57734 142.415582 \r\nL 386.295569 139.1081 \r\nL 390.013798 136.119546 \r\nL 393.732028 140.127359 \r\nL 397.450257 147.643578 \r\nL 401.168487 156.800082 \r\nL 404.886716 164.893015 \r\nL 408.604946 171.031488 \r\nL 412.323175 175.114231 \r\nL 416.041404 177.778246 \r\nL 419.759634 180.109448 \r\nL 423.477863 182.216622 \r\nL 427.196093 185.533327 \r\nL 434.632551 193.890798 \r\nL 438.350781 195.222806 \r\nL 442.06901 194.458242 \r\nL 445.78724 194.291931 \r\nL 453.223699 194.710418 \r\nL 456.941928 195.63107 \r\nL 460.660157 196.816118 \r\nL 464.378387 198.281059 \r\nL 468.096616 200.792694 \r\nL 471.814846 203.868634 \r\nL 475.533075 207.815352 \r\nL 479.251304 215.667615 \r\nL 486.687763 234.784458 \r\nL 490.405993 243.064289 \r\nL 494.124222 248.857446 \r\nL 497.842452 251.082054 \r\nL 501.560681 250.022667 \r\nL 505.27891 247.788693 \r\nL 512.715369 241.945139 \r\nL 516.433599 239.254404 \r\nL 520.151828 236.182743 \r\nL 523.870057 233.428489 \r\nL 527.588287 230.531078 \r\nL 531.306516 227.977842 \r\nL 535.024746 225.632614 \r\nL 538.742975 224.699933 \r\nL 542.461204 226.002748 \r\nL 546.179434 228.518899 \r\nL 549.897663 231.737806 \r\nL 553.615893 233.659222 \r\nL 557.334122 233.780699 \r\nL 561.052352 231.788963 \r\nL 564.770581 228.582656 \r\nL 568.48881 225.227202 \r\nL 572.20704 222.560715 \r\nL 575.925269 219.610244 \r\nL 587.079957 209.30863 \r\nL 590.798187 206.420063 \r\nL 594.516416 204.029715 \r\nL 598.234646 202.792131 \r\nL 601.952875 202.564678 \r\nL 605.671105 203.323584 \r\nL 609.389334 203.967669 \r\nL 613.107563 204.854993 \r\nL 616.825793 206.002765 \r\nL 620.544022 202.698326 \r\nL 624.262252 195.537931 \r\nL 627.980481 186.907459 \r\nL 631.69871 178.909044 \r\nL 635.41694 172.687083 \r\nL 639.135169 169.420014 \r\nL 642.853399 170.849392 \r\nL 646.571628 174.305023 \r\nL 650.289858 178.446246 \r\nL 654.008087 180.691203 \r\nL 657.726316 180.723724 \r\nL 661.444546 180.374842 \r\nL 665.162775 179.749441 \r\nL 668.881005 179.843865 \r\nL 672.599234 180.673802 \r\nL 676.317463 181.226364 \r\nL 680.035693 180.350975 \r\nL 683.753922 178.792941 \r\nL 687.472152 176.872808 \r\nL 691.190381 175.274836 \r\nL 694.90861 175.584066 \r\nL 702.345069 179.558217 \r\nL 706.063299 181.473976 \r\nL 709.781528 181.920514 \r\nL 713.499758 180.834407 \r\nL 717.217987 180.228405 \r\nL 720.936216 179.898446 \r\nL 724.654446 178.564061 \r\nL 728.372675 176.048671 \r\nL 732.090905 173.347572 \r\nL 739.527363 169.052495 \r\nL 743.245593 166.15361 \r\nL 750.682052 159.215438 \r\nL 754.400281 156.374273 \r\nL 758.118511 154.468974 \r\nL 761.83674 152.737022 \r\nL 765.554969 151.808953 \r\nL 769.273199 151.25563 \r\nL 772.991428 151.075912 \r\nL 776.709658 151.267991 \r\nL 784.146116 150.257005 \r\nL 787.864346 150.609119 \r\nL 791.582575 151.737066 \r\nL 795.300805 155.030665 \r\nL 799.019034 159.844452 \r\nL 799.019034 159.844452 \r\n\" style=\"fill:none;stroke:#0000ff;stroke-linecap:square;stroke-width:1.5;\"/>\r\n   </g>\r\n   <g id=\"patch_3\">\r\n    <path d=\"M 53.328125 294.118125 \r\nL 53.328125 22.318125 \r\n\" style=\"fill:none;stroke:#000000;stroke-linecap:square;stroke-linejoin:miter;stroke-width:0.8;\"/>\r\n   </g>\r\n   <g id=\"patch_4\">\r\n    <path d=\"M 834.528125 294.118125 \r\nL 834.528125 22.318125 \r\n\" style=\"fill:none;stroke:#000000;stroke-linecap:square;stroke-linejoin:miter;stroke-width:0.8;\"/>\r\n   </g>\r\n   <g id=\"patch_5\">\r\n    <path d=\"M 53.328125 294.118125 \r\nL 834.528125 294.118125 \r\n\" style=\"fill:none;stroke:#000000;stroke-linecap:square;stroke-linejoin:miter;stroke-width:0.8;\"/>\r\n   </g>\r\n   <g id=\"patch_6\">\r\n    <path d=\"M 53.328125 22.318125 \r\nL 834.528125 22.318125 \r\n\" style=\"fill:none;stroke:#000000;stroke-linecap:square;stroke-linejoin:miter;stroke-width:0.8;\"/>\r\n   </g>\r\n   <g id=\"text_19\">\r\n    <!-- Google Stock Price Prediction -->\r\n    <defs>\r\n     <path d=\"M 45.40625 46.390625 \r\nL 45.40625 75.984375 \r\nL 54.390625 75.984375 \r\nL 54.390625 0 \r\nL 45.40625 0 \r\nL 45.40625 8.203125 \r\nQ 42.578125 3.328125 38.25 0.953125 \r\nQ 33.9375 -1.421875 27.875 -1.421875 \r\nQ 17.96875 -1.421875 11.734375 6.484375 \r\nQ 5.515625 14.40625 5.515625 27.296875 \r\nQ 5.515625 40.1875 11.734375 48.09375 \r\nQ 17.96875 56 27.875 56 \r\nQ 33.9375 56 38.25 53.625 \r\nQ 42.578125 51.265625 45.40625 46.390625 \r\nz\r\nM 14.796875 27.296875 \r\nQ 14.796875 17.390625 18.875 11.75 \r\nQ 22.953125 6.109375 30.078125 6.109375 \r\nQ 37.203125 6.109375 41.296875 11.75 \r\nQ 45.40625 17.390625 45.40625 27.296875 \r\nQ 45.40625 37.203125 41.296875 42.84375 \r\nQ 37.203125 48.484375 30.078125 48.484375 \r\nQ 22.953125 48.484375 18.875 42.84375 \r\nQ 14.796875 37.203125 14.796875 27.296875 \r\nz\r\n\" id=\"DejaVuSans-100\"/>\r\n     <path d=\"M 54.890625 33.015625 \r\nL 54.890625 0 \r\nL 45.90625 0 \r\nL 45.90625 32.71875 \r\nQ 45.90625 40.484375 42.875 44.328125 \r\nQ 39.84375 48.1875 33.796875 48.1875 \r\nQ 26.515625 48.1875 22.3125 43.546875 \r\nQ 18.109375 38.921875 18.109375 30.90625 \r\nL 18.109375 0 \r\nL 9.078125 0 \r\nL 9.078125 54.6875 \r\nL 18.109375 54.6875 \r\nL 18.109375 46.1875 \r\nQ 21.34375 51.125 25.703125 53.5625 \r\nQ 30.078125 56 35.796875 56 \r\nQ 45.21875 56 50.046875 50.171875 \r\nQ 54.890625 44.34375 54.890625 33.015625 \r\nz\r\n\" id=\"DejaVuSans-110\"/>\r\n    </defs>\r\n    <g transform=\"translate(356.000938 16.318125)scale(0.12 -0.12)\">\r\n     <use xlink:href=\"#DejaVuSans-71\"/>\r\n     <use x=\"77.490234\" xlink:href=\"#DejaVuSans-111\"/>\r\n     <use x=\"138.671875\" xlink:href=\"#DejaVuSans-111\"/>\r\n     <use x=\"199.853516\" xlink:href=\"#DejaVuSans-103\"/>\r\n     <use x=\"263.330078\" xlink:href=\"#DejaVuSans-108\"/>\r\n     <use x=\"291.113281\" xlink:href=\"#DejaVuSans-101\"/>\r\n     <use x=\"352.636719\" xlink:href=\"#DejaVuSans-32\"/>\r\n     <use x=\"384.423828\" xlink:href=\"#DejaVuSans-83\"/>\r\n     <use x=\"447.900391\" xlink:href=\"#DejaVuSans-116\"/>\r\n     <use x=\"487.109375\" xlink:href=\"#DejaVuSans-111\"/>\r\n     <use x=\"548.291016\" xlink:href=\"#DejaVuSans-99\"/>\r\n     <use x=\"603.271484\" xlink:href=\"#DejaVuSans-107\"/>\r\n     <use x=\"661.181641\" xlink:href=\"#DejaVuSans-32\"/>\r\n     <use x=\"692.96875\" xlink:href=\"#DejaVuSans-80\"/>\r\n     <use x=\"751.521484\" xlink:href=\"#DejaVuSans-114\"/>\r\n     <use x=\"792.634766\" xlink:href=\"#DejaVuSans-105\"/>\r\n     <use x=\"820.417969\" xlink:href=\"#DejaVuSans-99\"/>\r\n     <use x=\"875.398438\" xlink:href=\"#DejaVuSans-101\"/>\r\n     <use x=\"936.921875\" xlink:href=\"#DejaVuSans-32\"/>\r\n     <use x=\"968.708984\" xlink:href=\"#DejaVuSans-80\"/>\r\n     <use x=\"1027.261719\" xlink:href=\"#DejaVuSans-114\"/>\r\n     <use x=\"1066.125\" xlink:href=\"#DejaVuSans-101\"/>\r\n     <use x=\"1127.648438\" xlink:href=\"#DejaVuSans-100\"/>\r\n     <use x=\"1191.125\" xlink:href=\"#DejaVuSans-105\"/>\r\n     <use x=\"1218.908203\" xlink:href=\"#DejaVuSans-99\"/>\r\n     <use x=\"1273.888672\" xlink:href=\"#DejaVuSans-116\"/>\r\n     <use x=\"1313.097656\" xlink:href=\"#DejaVuSans-105\"/>\r\n     <use x=\"1340.880859\" xlink:href=\"#DejaVuSans-111\"/>\r\n     <use x=\"1402.0625\" xlink:href=\"#DejaVuSans-110\"/>\r\n    </g>\r\n   </g>\r\n   <g id=\"legend_1\">\r\n    <g id=\"patch_7\">\r\n     <path d=\"M 60.328125 59.674375 \r\nL 236.140625 59.674375 \r\nQ 238.140625 59.674375 238.140625 57.674375 \r\nL 238.140625 29.318125 \r\nQ 238.140625 27.318125 236.140625 27.318125 \r\nL 60.328125 27.318125 \r\nQ 58.328125 27.318125 58.328125 29.318125 \r\nL 58.328125 57.674375 \r\nQ 58.328125 59.674375 60.328125 59.674375 \r\nz\r\n\" style=\"fill:#ffffff;opacity:0.8;stroke:#cccccc;stroke-linejoin:miter;\"/>\r\n    </g>\r\n    <g id=\"line2d_19\">\r\n     <path d=\"M 62.328125 35.416562 \r\nL 82.328125 35.416562 \r\n\" style=\"fill:none;stroke:#ff0000;stroke-linecap:square;stroke-width:1.5;\"/>\r\n    </g>\r\n    <g id=\"line2d_20\"/>\r\n    <g id=\"text_20\">\r\n     <!-- Real Google Stock Price -->\r\n     <defs>\r\n      <path d=\"M 44.390625 34.1875 \r\nQ 47.5625 33.109375 50.5625 29.59375 \r\nQ 53.5625 26.078125 56.59375 19.921875 \r\nL 66.609375 0 \r\nL 56 0 \r\nL 46.6875 18.703125 \r\nQ 43.0625 26.03125 39.671875 28.421875 \r\nQ 36.28125 30.8125 30.421875 30.8125 \r\nL 19.671875 30.8125 \r\nL 19.671875 0 \r\nL 9.8125 0 \r\nL 9.8125 72.90625 \r\nL 32.078125 72.90625 \r\nQ 44.578125 72.90625 50.734375 67.671875 \r\nQ 56.890625 62.453125 56.890625 51.90625 \r\nQ 56.890625 45.015625 53.6875 40.46875 \r\nQ 50.484375 35.9375 44.390625 34.1875 \r\nz\r\nM 19.671875 64.796875 \r\nL 19.671875 38.921875 \r\nL 32.078125 38.921875 \r\nQ 39.203125 38.921875 42.84375 42.21875 \r\nQ 46.484375 45.515625 46.484375 51.90625 \r\nQ 46.484375 58.296875 42.84375 61.546875 \r\nQ 39.203125 64.796875 32.078125 64.796875 \r\nz\r\n\" id=\"DejaVuSans-82\"/>\r\n      <path d=\"M 34.28125 27.484375 \r\nQ 23.390625 27.484375 19.1875 25 \r\nQ 14.984375 22.515625 14.984375 16.5 \r\nQ 14.984375 11.71875 18.140625 8.90625 \r\nQ 21.296875 6.109375 26.703125 6.109375 \r\nQ 34.1875 6.109375 38.703125 11.40625 \r\nQ 43.21875 16.703125 43.21875 25.484375 \r\nL 43.21875 27.484375 \r\nz\r\nM 52.203125 31.203125 \r\nL 52.203125 0 \r\nL 43.21875 0 \r\nL 43.21875 8.296875 \r\nQ 40.140625 3.328125 35.546875 0.953125 \r\nQ 30.953125 -1.421875 24.3125 -1.421875 \r\nQ 15.921875 -1.421875 10.953125 3.296875 \r\nQ 6 8.015625 6 15.921875 \r\nQ 6 25.140625 12.171875 29.828125 \r\nQ 18.359375 34.515625 30.609375 34.515625 \r\nL 43.21875 34.515625 \r\nL 43.21875 35.40625 \r\nQ 43.21875 41.609375 39.140625 45 \r\nQ 35.0625 48.390625 27.6875 48.390625 \r\nQ 23 48.390625 18.546875 47.265625 \r\nQ 14.109375 46.140625 10.015625 43.890625 \r\nL 10.015625 52.203125 \r\nQ 14.9375 54.109375 19.578125 55.046875 \r\nQ 24.21875 56 28.609375 56 \r\nQ 40.484375 56 46.34375 49.84375 \r\nQ 52.203125 43.703125 52.203125 31.203125 \r\nz\r\n\" id=\"DejaVuSans-97\"/>\r\n     </defs>\r\n     <g transform=\"translate(90.328125 38.916562)scale(0.1 -0.1)\">\r\n      <use xlink:href=\"#DejaVuSans-82\"/>\r\n      <use x=\"64.982422\" xlink:href=\"#DejaVuSans-101\"/>\r\n      <use x=\"126.505859\" xlink:href=\"#DejaVuSans-97\"/>\r\n      <use x=\"187.785156\" xlink:href=\"#DejaVuSans-108\"/>\r\n      <use x=\"215.568359\" xlink:href=\"#DejaVuSans-32\"/>\r\n      <use x=\"247.355469\" xlink:href=\"#DejaVuSans-71\"/>\r\n      <use x=\"324.845703\" xlink:href=\"#DejaVuSans-111\"/>\r\n      <use x=\"386.027344\" xlink:href=\"#DejaVuSans-111\"/>\r\n      <use x=\"447.208984\" xlink:href=\"#DejaVuSans-103\"/>\r\n      <use x=\"510.685547\" xlink:href=\"#DejaVuSans-108\"/>\r\n      <use x=\"538.46875\" xlink:href=\"#DejaVuSans-101\"/>\r\n      <use x=\"599.992188\" xlink:href=\"#DejaVuSans-32\"/>\r\n      <use x=\"631.779297\" xlink:href=\"#DejaVuSans-83\"/>\r\n      <use x=\"695.255859\" xlink:href=\"#DejaVuSans-116\"/>\r\n      <use x=\"734.464844\" xlink:href=\"#DejaVuSans-111\"/>\r\n      <use x=\"795.646484\" xlink:href=\"#DejaVuSans-99\"/>\r\n      <use x=\"850.626953\" xlink:href=\"#DejaVuSans-107\"/>\r\n      <use x=\"908.537109\" xlink:href=\"#DejaVuSans-32\"/>\r\n      <use x=\"940.324219\" xlink:href=\"#DejaVuSans-80\"/>\r\n      <use x=\"998.876953\" xlink:href=\"#DejaVuSans-114\"/>\r\n      <use x=\"1039.990234\" xlink:href=\"#DejaVuSans-105\"/>\r\n      <use x=\"1067.773438\" xlink:href=\"#DejaVuSans-99\"/>\r\n      <use x=\"1122.753906\" xlink:href=\"#DejaVuSans-101\"/>\r\n     </g>\r\n    </g>\r\n    <g id=\"line2d_21\">\r\n     <path d=\"M 62.328125 50.094688 \r\nL 82.328125 50.094688 \r\n\" style=\"fill:none;stroke:#0000ff;stroke-linecap:square;stroke-width:1.5;\"/>\r\n    </g>\r\n    <g id=\"line2d_22\"/>\r\n    <g id=\"text_21\">\r\n     <!-- Predicted Google Stock Price -->\r\n     <g transform=\"translate(90.328125 53.594688)scale(0.1 -0.1)\">\r\n      <use xlink:href=\"#DejaVuSans-80\"/>\r\n      <use x=\"58.552734\" xlink:href=\"#DejaVuSans-114\"/>\r\n      <use x=\"97.416016\" xlink:href=\"#DejaVuSans-101\"/>\r\n      <use x=\"158.939453\" xlink:href=\"#DejaVuSans-100\"/>\r\n      <use x=\"222.416016\" xlink:href=\"#DejaVuSans-105\"/>\r\n      <use x=\"250.199219\" xlink:href=\"#DejaVuSans-99\"/>\r\n      <use x=\"305.179688\" xlink:href=\"#DejaVuSans-116\"/>\r\n      <use x=\"344.388672\" xlink:href=\"#DejaVuSans-101\"/>\r\n      <use x=\"405.912109\" xlink:href=\"#DejaVuSans-100\"/>\r\n      <use x=\"469.388672\" xlink:href=\"#DejaVuSans-32\"/>\r\n      <use x=\"501.175781\" xlink:href=\"#DejaVuSans-71\"/>\r\n      <use x=\"578.666016\" xlink:href=\"#DejaVuSans-111\"/>\r\n      <use x=\"639.847656\" xlink:href=\"#DejaVuSans-111\"/>\r\n      <use x=\"701.029297\" xlink:href=\"#DejaVuSans-103\"/>\r\n      <use x=\"764.505859\" xlink:href=\"#DejaVuSans-108\"/>\r\n      <use x=\"792.289062\" xlink:href=\"#DejaVuSans-101\"/>\r\n      <use x=\"853.8125\" xlink:href=\"#DejaVuSans-32\"/>\r\n      <use x=\"885.599609\" xlink:href=\"#DejaVuSans-83\"/>\r\n      <use x=\"949.076172\" xlink:href=\"#DejaVuSans-116\"/>\r\n      <use x=\"988.285156\" xlink:href=\"#DejaVuSans-111\"/>\r\n      <use x=\"1049.466797\" xlink:href=\"#DejaVuSans-99\"/>\r\n      <use x=\"1104.447266\" xlink:href=\"#DejaVuSans-107\"/>\r\n      <use x=\"1162.357422\" xlink:href=\"#DejaVuSans-32\"/>\r\n      <use x=\"1194.144531\" xlink:href=\"#DejaVuSans-80\"/>\r\n      <use x=\"1252.697266\" xlink:href=\"#DejaVuSans-114\"/>\r\n      <use x=\"1293.810547\" xlink:href=\"#DejaVuSans-105\"/>\r\n      <use x=\"1321.59375\" xlink:href=\"#DejaVuSans-99\"/>\r\n      <use x=\"1376.574219\" xlink:href=\"#DejaVuSans-101\"/>\r\n     </g>\r\n    </g>\r\n   </g>\r\n  </g>\r\n </g>\r\n <defs>\r\n  <clipPath id=\"p3b0f9a0925\">\r\n   <rect height=\"271.8\" width=\"781.2\" x=\"53.328125\" y=\"22.318125\"/>\r\n  </clipPath>\r\n </defs>\r\n</svg>\r\n",
      "image/png": "[encoded data removed]"
     },
     "metadata": {
      "needs_background": "light"
     }
    }
   ],
   "source": [
    "# Visualising the results\n",
    "plt.figure(figsize=(14,5))\n",
    "plt.plot(y_test, color = 'red', label = 'Real Google Stock Price')\n",
    "plt.plot(y_pred, color = 'blue', label = 'Predicted Google Stock Price')\n",
    "plt.title('Google Stock Price Prediction')\n",
    "plt.xlabel('Time')\n",
    "plt.ylabel('Google Stock Price')\n",
    "plt.legend()\n",
    "plt.show()"
   ]
  },
  {
   "cell_type": "code",
   "execution_count": 234,
   "metadata": {},
   "outputs": [
    {
     "output_type": "execute_result",
     "data": {
      "text/plain": "(60, 7)"
     },
     "metadata": {},
     "execution_count": 234
    }
   ],
   "source": [
    "past_60_days = data_test.tail(60)\n",
    "past_60_days.shape"
   ]
  },
  {
   "cell_type": "code",
   "execution_count": 235,
   "metadata": {},
   "outputs": [
    {
     "output_type": "execute_result",
     "data": {
      "text/plain": "(60, 5)"
     },
     "metadata": {},
     "execution_count": 235
    }
   ],
   "source": [
    "df = past_60_days\n",
    "df = df.drop(['Date', 'Adj Close'], axis = 1)\n",
    "df.shape"
   ]
  },
  {
   "cell_type": "code",
   "execution_count": 236,
   "metadata": {},
   "outputs": [
    {
     "output_type": "execute_result",
     "data": {
      "text/plain": "(60, 5)"
     },
     "metadata": {},
     "execution_count": 236
    }
   ],
   "source": [
    "inputs = scaler.transform(df)\n",
    "inputs.shape"
   ]
  },
  {
   "cell_type": "code",
   "execution_count": 241,
   "metadata": {},
   "outputs": [
    {
     "output_type": "execute_result",
     "data": {
      "text/plain": "((60,), (0,))"
     },
     "metadata": {},
     "execution_count": 241
    }
   ],
   "source": [
    "X_test = []\n",
    "y_test = []\n",
    "\n",
    "for i in range(60, 61):\n",
    "    X_test.append(inputs[i-60:i])\n",
    "    y_test.append(inputs[i, 0])\n",
    "\n",
    "X_test, y_test = np.array(X_test), np.array(y_test)\n",
    "X_test.shape, y_test.shape"
   ]
  },
  {
   "cell_type": "code",
   "execution_count": 214,
   "metadata": {},
   "outputs": [],
   "source": [
    "y_pred = regressor.predict(X_test)"
   ]
  },
  {
   "cell_type": "code",
   "execution_count": 215,
   "metadata": {},
   "outputs": [
    {
     "output_type": "execute_result",
     "data": {
      "text/plain": "array([8.18605127e-04, 8.17521128e-04, 8.32487534e-04, 8.20673293e-04,\n       1.21162775e-08])"
     },
     "metadata": {},
     "execution_count": 215
    }
   ],
   "source": [
    "scaler.scale_"
   ]
  },
  {
   "cell_type": "code",
   "execution_count": 216,
   "metadata": {},
   "outputs": [
    {
     "output_type": "execute_result",
     "data": {
      "text/plain": "1221.5901990069017"
     },
     "metadata": {},
     "execution_count": 216
    }
   ],
   "source": [
    "scale = 1/8.18605127e-04\n",
    "scale"
   ]
  },
  {
   "cell_type": "code",
   "execution_count": 217,
   "metadata": {},
   "outputs": [
    {
     "output_type": "execute_result",
     "data": {
      "text/plain": "array([[1059.1274]], dtype=float32)"
     },
     "metadata": {},
     "execution_count": 217
    }
   ],
   "source": [
    "y_pred = y_pred*scale\n",
    "y_test = y_test*scale\n",
    "y_pred"
   ]
  },
  {
   "cell_type": "code",
   "execution_count": 218,
   "metadata": {},
   "outputs": [
    {
     "output_type": "display_data",
     "data": {
      "text/plain": "<Figure size 1008x360 with 1 Axes>",
      "image/svg+xml": "<?xml version=\"1.0\" encoding=\"utf-8\" standalone=\"no\"?>\r\n<!DOCTYPE svg PUBLIC \"-//W3C//DTD SVG 1.1//EN\"\r\n  \"http://www.w3.org/Graphics/SVG/1.1/DTD/svg11.dtd\">\r\n<!-- Created with matplotlib (https://matplotlib.org/) -->\r\n<svg height=\"331.674375pt\" version=\"1.1\" viewBox=\"0 0 841.728125 331.674375\" width=\"841.728125pt\" xmlns=\"http://www.w3.org/2000/svg\" xmlns:xlink=\"http://www.w3.org/1999/xlink\">\r\n <defs>\r\n  <style type=\"text/css\">\r\n*{stroke-linecap:butt;stroke-linejoin:round;}\r\n  </style>\r\n </defs>\r\n <g id=\"figure_1\">\r\n  <g id=\"patch_1\">\r\n   <path d=\"M 0 331.674375 \r\nL 841.728125 331.674375 \r\nL 841.728125 0 \r\nL 0 0 \r\nz\r\n\" style=\"fill:none;\"/>\r\n  </g>\r\n  <g id=\"axes_1\">\r\n   <g id=\"patch_2\">\r\n    <path d=\"M 53.328125 294.118125 \r\nL 834.528125 294.118125 \r\nL 834.528125 22.318125 \r\nL 53.328125 22.318125 \r\nz\r\n\" style=\"fill:#ffffff;\"/>\r\n   </g>\r\n   <g id=\"matplotlib.axis_1\">\r\n    <g id=\"xtick_1\">\r\n     <g id=\"line2d_1\">\r\n      <defs>\r\n       <path d=\"M 0 0 \r\nL 0 3.5 \r\n\" id=\"m120eb8a2bf\" style=\"stroke:#000000;stroke-width:0.8;\"/>\r\n      </defs>\r\n      <g>\r\n       <use style=\"stroke:#000000;stroke-width:0.8;\" x=\"159.855398\" xlink:href=\"#m120eb8a2bf\" y=\"294.118125\"/>\r\n      </g>\r\n     </g>\r\n     <g id=\"text_1\">\r\n      <!-- −0.04 -->\r\n      <defs>\r\n       <path d=\"M 10.59375 35.5 \r\nL 73.1875 35.5 \r\nL 73.1875 27.203125 \r\nL 10.59375 27.203125 \r\nz\r\n\" id=\"DejaVuSans-8722\"/>\r\n       <path d=\"M 31.78125 66.40625 \r\nQ 24.171875 66.40625 20.328125 58.90625 \r\nQ 16.5 51.421875 16.5 36.375 \r\nQ 16.5 21.390625 20.328125 13.890625 \r\nQ 24.171875 6.390625 31.78125 6.390625 \r\nQ 39.453125 6.390625 43.28125 13.890625 \r\nQ 47.125 21.390625 47.125 36.375 \r\nQ 47.125 51.421875 43.28125 58.90625 \r\nQ 39.453125 66.40625 31.78125 66.40625 \r\nz\r\nM 31.78125 74.21875 \r\nQ 44.046875 74.21875 50.515625 64.515625 \r\nQ 56.984375 54.828125 56.984375 36.375 \r\nQ 56.984375 17.96875 50.515625 8.265625 \r\nQ 44.046875 -1.421875 31.78125 -1.421875 \r\nQ 19.53125 -1.421875 13.0625 8.265625 \r\nQ 6.59375 17.96875 6.59375 36.375 \r\nQ 6.59375 54.828125 13.0625 64.515625 \r\nQ 19.53125 74.21875 31.78125 74.21875 \r\nz\r\n\" id=\"DejaVuSans-48\"/>\r\n       <path d=\"M 10.6875 12.40625 \r\nL 21 12.40625 \r\nL 21 0 \r\nL 10.6875 0 \r\nz\r\n\" id=\"DejaVuSans-46\"/>\r\n       <path d=\"M 37.796875 64.3125 \r\nL 12.890625 25.390625 \r\nL 37.796875 25.390625 \r\nz\r\nM 35.203125 72.90625 \r\nL 47.609375 72.90625 \r\nL 47.609375 25.390625 \r\nL 58.015625 25.390625 \r\nL 58.015625 17.1875 \r\nL 47.609375 17.1875 \r\nL 47.609375 0 \r\nL 37.796875 0 \r\nL 37.796875 17.1875 \r\nL 4.890625 17.1875 \r\nL 4.890625 26.703125 \r\nz\r\n\" id=\"DejaVuSans-52\"/>\r\n      </defs>\r\n      <g transform=\"translate(144.532741 308.716563)scale(0.1 -0.1)\">\r\n       <use xlink:href=\"#DejaVuSans-8722\"/>\r\n       <use x=\"83.789062\" xlink:href=\"#DejaVuSans-48\"/>\r\n       <use x=\"147.412109\" xlink:href=\"#DejaVuSans-46\"/>\r\n       <use x=\"179.199219\" xlink:href=\"#DejaVuSans-48\"/>\r\n       <use x=\"242.822266\" xlink:href=\"#DejaVuSans-52\"/>\r\n      </g>\r\n     </g>\r\n    </g>\r\n    <g id=\"xtick_2\">\r\n     <g id=\"line2d_2\">\r\n      <g>\r\n       <use style=\"stroke:#000000;stroke-width:0.8;\" x=\"301.891761\" xlink:href=\"#m120eb8a2bf\" y=\"294.118125\"/>\r\n      </g>\r\n     </g>\r\n     <g id=\"text_2\">\r\n      <!-- −0.02 -->\r\n      <defs>\r\n       <path d=\"M 19.1875 8.296875 \r\nL 53.609375 8.296875 \r\nL 53.609375 0 \r\nL 7.328125 0 \r\nL 7.328125 8.296875 \r\nQ 12.9375 14.109375 22.625 23.890625 \r\nQ 32.328125 33.6875 34.8125 36.53125 \r\nQ 39.546875 41.84375 41.421875 45.53125 \r\nQ 43.3125 49.21875 43.3125 52.78125 \r\nQ 43.3125 58.59375 39.234375 62.25 \r\nQ 35.15625 65.921875 28.609375 65.921875 \r\nQ 23.96875 65.921875 18.8125 64.3125 \r\nQ 13.671875 62.703125 7.8125 59.421875 \r\nL 7.8125 69.390625 \r\nQ 13.765625 71.78125 18.9375 73 \r\nQ 24.125 74.21875 28.421875 74.21875 \r\nQ 39.75 74.21875 46.484375 68.546875 \r\nQ 53.21875 62.890625 53.21875 53.421875 \r\nQ 53.21875 48.921875 51.53125 44.890625 \r\nQ 49.859375 40.875 45.40625 35.40625 \r\nQ 44.1875 33.984375 37.640625 27.21875 \r\nQ 31.109375 20.453125 19.1875 8.296875 \r\nz\r\n\" id=\"DejaVuSans-50\"/>\r\n      </defs>\r\n      <g transform=\"translate(286.569105 308.716563)scale(0.1 -0.1)\">\r\n       <use xlink:href=\"#DejaVuSans-8722\"/>\r\n       <use x=\"83.789062\" xlink:href=\"#DejaVuSans-48\"/>\r\n       <use x=\"147.412109\" xlink:href=\"#DejaVuSans-46\"/>\r\n       <use x=\"179.199219\" xlink:href=\"#DejaVuSans-48\"/>\r\n       <use x=\"242.822266\" xlink:href=\"#DejaVuSans-50\"/>\r\n      </g>\r\n     </g>\r\n    </g>\r\n    <g id=\"xtick_3\">\r\n     <g id=\"line2d_3\">\r\n      <g>\r\n       <use style=\"stroke:#000000;stroke-width:0.8;\" x=\"443.928125\" xlink:href=\"#m120eb8a2bf\" y=\"294.118125\"/>\r\n      </g>\r\n     </g>\r\n     <g id=\"text_3\">\r\n      <!-- 0.00 -->\r\n      <g transform=\"translate(432.795313 308.716563)scale(0.1 -0.1)\">\r\n       <use xlink:href=\"#DejaVuSans-48\"/>\r\n       <use x=\"63.623047\" xlink:href=\"#DejaVuSans-46\"/>\r\n       <use x=\"95.410156\" xlink:href=\"#DejaVuSans-48\"/>\r\n       <use x=\"159.033203\" xlink:href=\"#DejaVuSans-48\"/>\r\n      </g>\r\n     </g>\r\n    </g>\r\n    <g id=\"xtick_4\">\r\n     <g id=\"line2d_4\">\r\n      <g>\r\n       <use style=\"stroke:#000000;stroke-width:0.8;\" x=\"585.964489\" xlink:href=\"#m120eb8a2bf\" y=\"294.118125\"/>\r\n      </g>\r\n     </g>\r\n     <g id=\"text_4\">\r\n      <!-- 0.02 -->\r\n      <g transform=\"translate(574.831676 308.716563)scale(0.1 -0.1)\">\r\n       <use xlink:href=\"#DejaVuSans-48\"/>\r\n       <use x=\"63.623047\" xlink:href=\"#DejaVuSans-46\"/>\r\n       <use x=\"95.410156\" xlink:href=\"#DejaVuSans-48\"/>\r\n       <use x=\"159.033203\" xlink:href=\"#DejaVuSans-50\"/>\r\n      </g>\r\n     </g>\r\n    </g>\r\n    <g id=\"xtick_5\">\r\n     <g id=\"line2d_5\">\r\n      <g>\r\n       <use style=\"stroke:#000000;stroke-width:0.8;\" x=\"728.000852\" xlink:href=\"#m120eb8a2bf\" y=\"294.118125\"/>\r\n      </g>\r\n     </g>\r\n     <g id=\"text_5\">\r\n      <!-- 0.04 -->\r\n      <g transform=\"translate(716.86804 308.716563)scale(0.1 -0.1)\">\r\n       <use xlink:href=\"#DejaVuSans-48\"/>\r\n       <use x=\"63.623047\" xlink:href=\"#DejaVuSans-46\"/>\r\n       <use x=\"95.410156\" xlink:href=\"#DejaVuSans-48\"/>\r\n       <use x=\"159.033203\" xlink:href=\"#DejaVuSans-52\"/>\r\n      </g>\r\n     </g>\r\n    </g>\r\n    <g id=\"text_6\">\r\n     <!-- Time -->\r\n     <defs>\r\n      <path d=\"M -0.296875 72.90625 \r\nL 61.375 72.90625 \r\nL 61.375 64.59375 \r\nL 35.5 64.59375 \r\nL 35.5 0 \r\nL 25.59375 0 \r\nL 25.59375 64.59375 \r\nL -0.296875 64.59375 \r\nz\r\n\" id=\"DejaVuSans-84\"/>\r\n      <path d=\"M 9.421875 54.6875 \r\nL 18.40625 54.6875 \r\nL 18.40625 0 \r\nL 9.421875 0 \r\nz\r\nM 9.421875 75.984375 \r\nL 18.40625 75.984375 \r\nL 18.40625 64.59375 \r\nL 9.421875 64.59375 \r\nz\r\n\" id=\"DejaVuSans-105\"/>\r\n      <path d=\"M 52 44.1875 \r\nQ 55.375 50.25 60.0625 53.125 \r\nQ 64.75 56 71.09375 56 \r\nQ 79.640625 56 84.28125 50.015625 \r\nQ 88.921875 44.046875 88.921875 33.015625 \r\nL 88.921875 0 \r\nL 79.890625 0 \r\nL 79.890625 32.71875 \r\nQ 79.890625 40.578125 77.09375 44.375 \r\nQ 74.3125 48.1875 68.609375 48.1875 \r\nQ 61.625 48.1875 57.5625 43.546875 \r\nQ 53.515625 38.921875 53.515625 30.90625 \r\nL 53.515625 0 \r\nL 44.484375 0 \r\nL 44.484375 32.71875 \r\nQ 44.484375 40.625 41.703125 44.40625 \r\nQ 38.921875 48.1875 33.109375 48.1875 \r\nQ 26.21875 48.1875 22.15625 43.53125 \r\nQ 18.109375 38.875 18.109375 30.90625 \r\nL 18.109375 0 \r\nL 9.078125 0 \r\nL 9.078125 54.6875 \r\nL 18.109375 54.6875 \r\nL 18.109375 46.1875 \r\nQ 21.1875 51.21875 25.484375 53.609375 \r\nQ 29.78125 56 35.6875 56 \r\nQ 41.65625 56 45.828125 52.96875 \r\nQ 50 49.953125 52 44.1875 \r\nz\r\n\" id=\"DejaVuSans-109\"/>\r\n      <path d=\"M 56.203125 29.59375 \r\nL 56.203125 25.203125 \r\nL 14.890625 25.203125 \r\nQ 15.484375 15.921875 20.484375 11.0625 \r\nQ 25.484375 6.203125 34.421875 6.203125 \r\nQ 39.59375 6.203125 44.453125 7.46875 \r\nQ 49.3125 8.734375 54.109375 11.28125 \r\nL 54.109375 2.78125 \r\nQ 49.265625 0.734375 44.1875 -0.34375 \r\nQ 39.109375 -1.421875 33.890625 -1.421875 \r\nQ 20.796875 -1.421875 13.15625 6.1875 \r\nQ 5.515625 13.8125 5.515625 26.8125 \r\nQ 5.515625 40.234375 12.765625 48.109375 \r\nQ 20.015625 56 32.328125 56 \r\nQ 43.359375 56 49.78125 48.890625 \r\nQ 56.203125 41.796875 56.203125 29.59375 \r\nz\r\nM 47.21875 32.234375 \r\nQ 47.125 39.59375 43.09375 43.984375 \r\nQ 39.0625 48.390625 32.421875 48.390625 \r\nQ 24.90625 48.390625 20.390625 44.140625 \r\nQ 15.875 39.890625 15.1875 32.171875 \r\nz\r\n\" id=\"DejaVuSans-101\"/>\r\n     </defs>\r\n     <g transform=\"translate(431.694531 322.394687)scale(0.1 -0.1)\">\r\n      <use xlink:href=\"#DejaVuSans-84\"/>\r\n      <use x=\"57.958984\" xlink:href=\"#DejaVuSans-105\"/>\r\n      <use x=\"85.742188\" xlink:href=\"#DejaVuSans-109\"/>\r\n      <use x=\"183.154297\" xlink:href=\"#DejaVuSans-101\"/>\r\n     </g>\r\n    </g>\r\n   </g>\r\n   <g id=\"matplotlib.axis_2\">\r\n    <g id=\"ytick_1\">\r\n     <g id=\"line2d_6\">\r\n      <defs>\r\n       <path d=\"M 0 0 \r\nL -3.5 0 \r\n\" id=\"m9dd8574104\" style=\"stroke:#000000;stroke-width:0.8;\"/>\r\n      </defs>\r\n      <g>\r\n       <use style=\"stroke:#000000;stroke-width:0.8;\" x=\"53.328125\" xlink:href=\"#m9dd8574104\" y=\"279.176967\"/>\r\n      </g>\r\n     </g>\r\n     <g id=\"text_7\">\r\n      <!-- 1060 -->\r\n      <defs>\r\n       <path d=\"M 12.40625 8.296875 \r\nL 28.515625 8.296875 \r\nL 28.515625 63.921875 \r\nL 10.984375 60.40625 \r\nL 10.984375 69.390625 \r\nL 28.421875 72.90625 \r\nL 38.28125 72.90625 \r\nL 38.28125 8.296875 \r\nL 54.390625 8.296875 \r\nL 54.390625 0 \r\nL 12.40625 0 \r\nz\r\n\" id=\"DejaVuSans-49\"/>\r\n       <path d=\"M 33.015625 40.375 \r\nQ 26.375 40.375 22.484375 35.828125 \r\nQ 18.609375 31.296875 18.609375 23.390625 \r\nQ 18.609375 15.53125 22.484375 10.953125 \r\nQ 26.375 6.390625 33.015625 6.390625 \r\nQ 39.65625 6.390625 43.53125 10.953125 \r\nQ 47.40625 15.53125 47.40625 23.390625 \r\nQ 47.40625 31.296875 43.53125 35.828125 \r\nQ 39.65625 40.375 33.015625 40.375 \r\nz\r\nM 52.59375 71.296875 \r\nL 52.59375 62.3125 \r\nQ 48.875 64.0625 45.09375 64.984375 \r\nQ 41.3125 65.921875 37.59375 65.921875 \r\nQ 27.828125 65.921875 22.671875 59.328125 \r\nQ 17.53125 52.734375 16.796875 39.40625 \r\nQ 19.671875 43.65625 24.015625 45.921875 \r\nQ 28.375 48.1875 33.59375 48.1875 \r\nQ 44.578125 48.1875 50.953125 41.515625 \r\nQ 57.328125 34.859375 57.328125 23.390625 \r\nQ 57.328125 12.15625 50.6875 5.359375 \r\nQ 44.046875 -1.421875 33.015625 -1.421875 \r\nQ 20.359375 -1.421875 13.671875 8.265625 \r\nQ 6.984375 17.96875 6.984375 36.375 \r\nQ 6.984375 53.65625 15.1875 63.9375 \r\nQ 23.390625 74.21875 37.203125 74.21875 \r\nQ 40.921875 74.21875 44.703125 73.484375 \r\nQ 48.484375 72.75 52.59375 71.296875 \r\nz\r\n\" id=\"DejaVuSans-54\"/>\r\n      </defs>\r\n      <g transform=\"translate(20.878125 282.976186)scale(0.1 -0.1)\">\r\n       <use xlink:href=\"#DejaVuSans-49\"/>\r\n       <use x=\"63.623047\" xlink:href=\"#DejaVuSans-48\"/>\r\n       <use x=\"127.246094\" xlink:href=\"#DejaVuSans-54\"/>\r\n       <use x=\"190.869141\" xlink:href=\"#DejaVuSans-48\"/>\r\n      </g>\r\n     </g>\r\n    </g>\r\n    <g id=\"ytick_2\">\r\n     <g id=\"line2d_7\">\r\n      <g>\r\n       <use style=\"stroke:#000000;stroke-width:0.8;\" x=\"53.328125\" xlink:href=\"#m9dd8574104\" y=\"219.888979\"/>\r\n      </g>\r\n     </g>\r\n     <g id=\"text_8\">\r\n      <!-- 1080 -->\r\n      <defs>\r\n       <path d=\"M 31.78125 34.625 \r\nQ 24.75 34.625 20.71875 30.859375 \r\nQ 16.703125 27.09375 16.703125 20.515625 \r\nQ 16.703125 13.921875 20.71875 10.15625 \r\nQ 24.75 6.390625 31.78125 6.390625 \r\nQ 38.8125 6.390625 42.859375 10.171875 \r\nQ 46.921875 13.96875 46.921875 20.515625 \r\nQ 46.921875 27.09375 42.890625 30.859375 \r\nQ 38.875 34.625 31.78125 34.625 \r\nz\r\nM 21.921875 38.8125 \r\nQ 15.578125 40.375 12.03125 44.71875 \r\nQ 8.5 49.078125 8.5 55.328125 \r\nQ 8.5 64.0625 14.71875 69.140625 \r\nQ 20.953125 74.21875 31.78125 74.21875 \r\nQ 42.671875 74.21875 48.875 69.140625 \r\nQ 55.078125 64.0625 55.078125 55.328125 \r\nQ 55.078125 49.078125 51.53125 44.71875 \r\nQ 48 40.375 41.703125 38.8125 \r\nQ 48.828125 37.15625 52.796875 32.3125 \r\nQ 56.78125 27.484375 56.78125 20.515625 \r\nQ 56.78125 9.90625 50.3125 4.234375 \r\nQ 43.84375 -1.421875 31.78125 -1.421875 \r\nQ 19.734375 -1.421875 13.25 4.234375 \r\nQ 6.78125 9.90625 6.78125 20.515625 \r\nQ 6.78125 27.484375 10.78125 32.3125 \r\nQ 14.796875 37.15625 21.921875 38.8125 \r\nz\r\nM 18.3125 54.390625 \r\nQ 18.3125 48.734375 21.84375 45.5625 \r\nQ 25.390625 42.390625 31.78125 42.390625 \r\nQ 38.140625 42.390625 41.71875 45.5625 \r\nQ 45.3125 48.734375 45.3125 54.390625 \r\nQ 45.3125 60.0625 41.71875 63.234375 \r\nQ 38.140625 66.40625 31.78125 66.40625 \r\nQ 25.390625 66.40625 21.84375 63.234375 \r\nQ 18.3125 60.0625 18.3125 54.390625 \r\nz\r\n\" id=\"DejaVuSans-56\"/>\r\n      </defs>\r\n      <g transform=\"translate(20.878125 223.688198)scale(0.1 -0.1)\">\r\n       <use xlink:href=\"#DejaVuSans-49\"/>\r\n       <use x=\"63.623047\" xlink:href=\"#DejaVuSans-48\"/>\r\n       <use x=\"127.246094\" xlink:href=\"#DejaVuSans-56\"/>\r\n       <use x=\"190.869141\" xlink:href=\"#DejaVuSans-48\"/>\r\n      </g>\r\n     </g>\r\n    </g>\r\n    <g id=\"ytick_3\">\r\n     <g id=\"line2d_8\">\r\n      <g>\r\n       <use style=\"stroke:#000000;stroke-width:0.8;\" x=\"53.328125\" xlink:href=\"#m9dd8574104\" y=\"160.600991\"/>\r\n      </g>\r\n     </g>\r\n     <g id=\"text_9\">\r\n      <!-- 1100 -->\r\n      <g transform=\"translate(20.878125 164.40021)scale(0.1 -0.1)\">\r\n       <use xlink:href=\"#DejaVuSans-49\"/>\r\n       <use x=\"63.623047\" xlink:href=\"#DejaVuSans-49\"/>\r\n       <use x=\"127.246094\" xlink:href=\"#DejaVuSans-48\"/>\r\n       <use x=\"190.869141\" xlink:href=\"#DejaVuSans-48\"/>\r\n      </g>\r\n     </g>\r\n    </g>\r\n    <g id=\"ytick_4\">\r\n     <g id=\"line2d_9\">\r\n      <g>\r\n       <use style=\"stroke:#000000;stroke-width:0.8;\" x=\"53.328125\" xlink:href=\"#m9dd8574104\" y=\"101.313003\"/>\r\n      </g>\r\n     </g>\r\n     <g id=\"text_10\">\r\n      <!-- 1120 -->\r\n      <g transform=\"translate(20.878125 105.112222)scale(0.1 -0.1)\">\r\n       <use xlink:href=\"#DejaVuSans-49\"/>\r\n       <use x=\"63.623047\" xlink:href=\"#DejaVuSans-49\"/>\r\n       <use x=\"127.246094\" xlink:href=\"#DejaVuSans-50\"/>\r\n       <use x=\"190.869141\" xlink:href=\"#DejaVuSans-48\"/>\r\n      </g>\r\n     </g>\r\n    </g>\r\n    <g id=\"ytick_5\">\r\n     <g id=\"line2d_10\">\r\n      <g>\r\n       <use style=\"stroke:#000000;stroke-width:0.8;\" x=\"53.328125\" xlink:href=\"#m9dd8574104\" y=\"42.025015\"/>\r\n      </g>\r\n     </g>\r\n     <g id=\"text_11\">\r\n      <!-- 1140 -->\r\n      <g transform=\"translate(20.878125 45.824234)scale(0.1 -0.1)\">\r\n       <use xlink:href=\"#DejaVuSans-49\"/>\r\n       <use x=\"63.623047\" xlink:href=\"#DejaVuSans-49\"/>\r\n       <use x=\"127.246094\" xlink:href=\"#DejaVuSans-52\"/>\r\n       <use x=\"190.869141\" xlink:href=\"#DejaVuSans-48\"/>\r\n      </g>\r\n     </g>\r\n    </g>\r\n    <g id=\"text_12\">\r\n     <!-- Google Stock Price -->\r\n     <defs>\r\n      <path d=\"M 59.515625 10.40625 \r\nL 59.515625 29.984375 \r\nL 43.40625 29.984375 \r\nL 43.40625 38.09375 \r\nL 69.28125 38.09375 \r\nL 69.28125 6.78125 \r\nQ 63.578125 2.734375 56.6875 0.65625 \r\nQ 49.8125 -1.421875 42 -1.421875 \r\nQ 24.90625 -1.421875 15.25 8.5625 \r\nQ 5.609375 18.5625 5.609375 36.375 \r\nQ 5.609375 54.25 15.25 64.234375 \r\nQ 24.90625 74.21875 42 74.21875 \r\nQ 49.125 74.21875 55.546875 72.453125 \r\nQ 61.96875 70.703125 67.390625 67.28125 \r\nL 67.390625 56.78125 \r\nQ 61.921875 61.421875 55.765625 63.765625 \r\nQ 49.609375 66.109375 42.828125 66.109375 \r\nQ 29.4375 66.109375 22.71875 58.640625 \r\nQ 16.015625 51.171875 16.015625 36.375 \r\nQ 16.015625 21.625 22.71875 14.15625 \r\nQ 29.4375 6.6875 42.828125 6.6875 \r\nQ 48.046875 6.6875 52.140625 7.59375 \r\nQ 56.25 8.5 59.515625 10.40625 \r\nz\r\n\" id=\"DejaVuSans-71\"/>\r\n      <path d=\"M 30.609375 48.390625 \r\nQ 23.390625 48.390625 19.1875 42.75 \r\nQ 14.984375 37.109375 14.984375 27.296875 \r\nQ 14.984375 17.484375 19.15625 11.84375 \r\nQ 23.34375 6.203125 30.609375 6.203125 \r\nQ 37.796875 6.203125 41.984375 11.859375 \r\nQ 46.1875 17.53125 46.1875 27.296875 \r\nQ 46.1875 37.015625 41.984375 42.703125 \r\nQ 37.796875 48.390625 30.609375 48.390625 \r\nz\r\nM 30.609375 56 \r\nQ 42.328125 56 49.015625 48.375 \r\nQ 55.71875 40.765625 55.71875 27.296875 \r\nQ 55.71875 13.875 49.015625 6.21875 \r\nQ 42.328125 -1.421875 30.609375 -1.421875 \r\nQ 18.84375 -1.421875 12.171875 6.21875 \r\nQ 5.515625 13.875 5.515625 27.296875 \r\nQ 5.515625 40.765625 12.171875 48.375 \r\nQ 18.84375 56 30.609375 56 \r\nz\r\n\" id=\"DejaVuSans-111\"/>\r\n      <path d=\"M 45.40625 27.984375 \r\nQ 45.40625 37.75 41.375 43.109375 \r\nQ 37.359375 48.484375 30.078125 48.484375 \r\nQ 22.859375 48.484375 18.828125 43.109375 \r\nQ 14.796875 37.75 14.796875 27.984375 \r\nQ 14.796875 18.265625 18.828125 12.890625 \r\nQ 22.859375 7.515625 30.078125 7.515625 \r\nQ 37.359375 7.515625 41.375 12.890625 \r\nQ 45.40625 18.265625 45.40625 27.984375 \r\nz\r\nM 54.390625 6.78125 \r\nQ 54.390625 -7.171875 48.1875 -13.984375 \r\nQ 42 -20.796875 29.203125 -20.796875 \r\nQ 24.46875 -20.796875 20.265625 -20.09375 \r\nQ 16.0625 -19.390625 12.109375 -17.921875 \r\nL 12.109375 -9.1875 \r\nQ 16.0625 -11.328125 19.921875 -12.34375 \r\nQ 23.78125 -13.375 27.78125 -13.375 \r\nQ 36.625 -13.375 41.015625 -8.765625 \r\nQ 45.40625 -4.15625 45.40625 5.171875 \r\nL 45.40625 9.625 \r\nQ 42.625 4.78125 38.28125 2.390625 \r\nQ 33.9375 0 27.875 0 \r\nQ 17.828125 0 11.671875 7.65625 \r\nQ 5.515625 15.328125 5.515625 27.984375 \r\nQ 5.515625 40.671875 11.671875 48.328125 \r\nQ 17.828125 56 27.875 56 \r\nQ 33.9375 56 38.28125 53.609375 \r\nQ 42.625 51.21875 45.40625 46.390625 \r\nL 45.40625 54.6875 \r\nL 54.390625 54.6875 \r\nz\r\n\" id=\"DejaVuSans-103\"/>\r\n      <path d=\"M 9.421875 75.984375 \r\nL 18.40625 75.984375 \r\nL 18.40625 0 \r\nL 9.421875 0 \r\nz\r\n\" id=\"DejaVuSans-108\"/>\r\n      <path id=\"DejaVuSans-32\"/>\r\n      <path d=\"M 53.515625 70.515625 \r\nL 53.515625 60.890625 \r\nQ 47.90625 63.578125 42.921875 64.890625 \r\nQ 37.9375 66.21875 33.296875 66.21875 \r\nQ 25.25 66.21875 20.875 63.09375 \r\nQ 16.5 59.96875 16.5 54.203125 \r\nQ 16.5 49.359375 19.40625 46.890625 \r\nQ 22.3125 44.4375 30.421875 42.921875 \r\nL 36.375 41.703125 \r\nQ 47.40625 39.59375 52.65625 34.296875 \r\nQ 57.90625 29 57.90625 20.125 \r\nQ 57.90625 9.515625 50.796875 4.046875 \r\nQ 43.703125 -1.421875 29.984375 -1.421875 \r\nQ 24.8125 -1.421875 18.96875 -0.25 \r\nQ 13.140625 0.921875 6.890625 3.21875 \r\nL 6.890625 13.375 \r\nQ 12.890625 10.015625 18.65625 8.296875 \r\nQ 24.421875 6.59375 29.984375 6.59375 \r\nQ 38.421875 6.59375 43.015625 9.90625 \r\nQ 47.609375 13.234375 47.609375 19.390625 \r\nQ 47.609375 24.75 44.3125 27.78125 \r\nQ 41.015625 30.8125 33.5 32.328125 \r\nL 27.484375 33.5 \r\nQ 16.453125 35.6875 11.515625 40.375 \r\nQ 6.59375 45.0625 6.59375 53.421875 \r\nQ 6.59375 63.09375 13.40625 68.65625 \r\nQ 20.21875 74.21875 32.171875 74.21875 \r\nQ 37.3125 74.21875 42.625 73.28125 \r\nQ 47.953125 72.359375 53.515625 70.515625 \r\nz\r\n\" id=\"DejaVuSans-83\"/>\r\n      <path d=\"M 18.3125 70.21875 \r\nL 18.3125 54.6875 \r\nL 36.8125 54.6875 \r\nL 36.8125 47.703125 \r\nL 18.3125 47.703125 \r\nL 18.3125 18.015625 \r\nQ 18.3125 11.328125 20.140625 9.421875 \r\nQ 21.96875 7.515625 27.59375 7.515625 \r\nL 36.8125 7.515625 \r\nL 36.8125 0 \r\nL 27.59375 0 \r\nQ 17.1875 0 13.234375 3.875 \r\nQ 9.28125 7.765625 9.28125 18.015625 \r\nL 9.28125 47.703125 \r\nL 2.6875 47.703125 \r\nL 2.6875 54.6875 \r\nL 9.28125 54.6875 \r\nL 9.28125 70.21875 \r\nz\r\n\" id=\"DejaVuSans-116\"/>\r\n      <path d=\"M 48.78125 52.59375 \r\nL 48.78125 44.1875 \r\nQ 44.96875 46.296875 41.140625 47.34375 \r\nQ 37.3125 48.390625 33.40625 48.390625 \r\nQ 24.65625 48.390625 19.8125 42.84375 \r\nQ 14.984375 37.3125 14.984375 27.296875 \r\nQ 14.984375 17.28125 19.8125 11.734375 \r\nQ 24.65625 6.203125 33.40625 6.203125 \r\nQ 37.3125 6.203125 41.140625 7.25 \r\nQ 44.96875 8.296875 48.78125 10.40625 \r\nL 48.78125 2.09375 \r\nQ 45.015625 0.34375 40.984375 -0.53125 \r\nQ 36.96875 -1.421875 32.421875 -1.421875 \r\nQ 20.0625 -1.421875 12.78125 6.34375 \r\nQ 5.515625 14.109375 5.515625 27.296875 \r\nQ 5.515625 40.671875 12.859375 48.328125 \r\nQ 20.21875 56 33.015625 56 \r\nQ 37.15625 56 41.109375 55.140625 \r\nQ 45.0625 54.296875 48.78125 52.59375 \r\nz\r\n\" id=\"DejaVuSans-99\"/>\r\n      <path d=\"M 9.078125 75.984375 \r\nL 18.109375 75.984375 \r\nL 18.109375 31.109375 \r\nL 44.921875 54.6875 \r\nL 56.390625 54.6875 \r\nL 27.390625 29.109375 \r\nL 57.625 0 \r\nL 45.90625 0 \r\nL 18.109375 26.703125 \r\nL 18.109375 0 \r\nL 9.078125 0 \r\nz\r\n\" id=\"DejaVuSans-107\"/>\r\n      <path d=\"M 19.671875 64.796875 \r\nL 19.671875 37.40625 \r\nL 32.078125 37.40625 \r\nQ 38.96875 37.40625 42.71875 40.96875 \r\nQ 46.484375 44.53125 46.484375 51.125 \r\nQ 46.484375 57.671875 42.71875 61.234375 \r\nQ 38.96875 64.796875 32.078125 64.796875 \r\nz\r\nM 9.8125 72.90625 \r\nL 32.078125 72.90625 \r\nQ 44.34375 72.90625 50.609375 67.359375 \r\nQ 56.890625 61.8125 56.890625 51.125 \r\nQ 56.890625 40.328125 50.609375 34.8125 \r\nQ 44.34375 29.296875 32.078125 29.296875 \r\nL 19.671875 29.296875 \r\nL 19.671875 0 \r\nL 9.8125 0 \r\nz\r\n\" id=\"DejaVuSans-80\"/>\r\n      <path d=\"M 41.109375 46.296875 \r\nQ 39.59375 47.171875 37.8125 47.578125 \r\nQ 36.03125 48 33.890625 48 \r\nQ 26.265625 48 22.1875 43.046875 \r\nQ 18.109375 38.09375 18.109375 28.8125 \r\nL 18.109375 0 \r\nL 9.078125 0 \r\nL 9.078125 54.6875 \r\nL 18.109375 54.6875 \r\nL 18.109375 46.1875 \r\nQ 20.953125 51.171875 25.484375 53.578125 \r\nQ 30.03125 56 36.53125 56 \r\nQ 37.453125 56 38.578125 55.875 \r\nQ 39.703125 55.765625 41.0625 55.515625 \r\nz\r\n\" id=\"DejaVuSans-114\"/>\r\n     </defs>\r\n     <g transform=\"translate(14.798438 205.065)rotate(-90)scale(0.1 -0.1)\">\r\n      <use xlink:href=\"#DejaVuSans-71\"/>\r\n      <use x=\"77.490234\" xlink:href=\"#DejaVuSans-111\"/>\r\n      <use x=\"138.671875\" xlink:href=\"#DejaVuSans-111\"/>\r\n      <use x=\"199.853516\" xlink:href=\"#DejaVuSans-103\"/>\r\n      <use x=\"263.330078\" xlink:href=\"#DejaVuSans-108\"/>\r\n      <use x=\"291.113281\" xlink:href=\"#DejaVuSans-101\"/>\r\n      <use x=\"352.636719\" xlink:href=\"#DejaVuSans-32\"/>\r\n      <use x=\"384.423828\" xlink:href=\"#DejaVuSans-83\"/>\r\n      <use x=\"447.900391\" xlink:href=\"#DejaVuSans-116\"/>\r\n      <use x=\"487.109375\" xlink:href=\"#DejaVuSans-111\"/>\r\n      <use x=\"548.291016\" xlink:href=\"#DejaVuSans-99\"/>\r\n      <use x=\"603.271484\" xlink:href=\"#DejaVuSans-107\"/>\r\n      <use x=\"661.181641\" xlink:href=\"#DejaVuSans-32\"/>\r\n      <use x=\"692.96875\" xlink:href=\"#DejaVuSans-80\"/>\r\n      <use x=\"751.521484\" xlink:href=\"#DejaVuSans-114\"/>\r\n      <use x=\"792.634766\" xlink:href=\"#DejaVuSans-105\"/>\r\n      <use x=\"820.417969\" xlink:href=\"#DejaVuSans-99\"/>\r\n      <use x=\"875.398438\" xlink:href=\"#DejaVuSans-101\"/>\r\n     </g>\r\n    </g>\r\n   </g>\r\n   <g id=\"line2d_11\">\r\n    <path clip-path=\"url(#p0e06ed6bad)\" d=\"M 443.928125 34.67267 \r\n\" style=\"fill:none;stroke:#ff0000;stroke-linecap:square;stroke-width:1.5;\"/>\r\n   </g>\r\n   <g id=\"line2d_12\">\r\n    <path clip-path=\"url(#p0e06ed6bad)\" d=\"M 443.928125 281.76358 \r\n\" style=\"fill:none;stroke:#0000ff;stroke-linecap:square;stroke-width:1.5;\"/>\r\n   </g>\r\n   <g id=\"patch_3\">\r\n    <path d=\"M 53.328125 294.118125 \r\nL 53.328125 22.318125 \r\n\" style=\"fill:none;stroke:#000000;stroke-linecap:square;stroke-linejoin:miter;stroke-width:0.8;\"/>\r\n   </g>\r\n   <g id=\"patch_4\">\r\n    <path d=\"M 834.528125 294.118125 \r\nL 834.528125 22.318125 \r\n\" style=\"fill:none;stroke:#000000;stroke-linecap:square;stroke-linejoin:miter;stroke-width:0.8;\"/>\r\n   </g>\r\n   <g id=\"patch_5\">\r\n    <path d=\"M 53.328125 294.118125 \r\nL 834.528125 294.118125 \r\n\" style=\"fill:none;stroke:#000000;stroke-linecap:square;stroke-linejoin:miter;stroke-width:0.8;\"/>\r\n   </g>\r\n   <g id=\"patch_6\">\r\n    <path d=\"M 53.328125 22.318125 \r\nL 834.528125 22.318125 \r\n\" style=\"fill:none;stroke:#000000;stroke-linecap:square;stroke-linejoin:miter;stroke-width:0.8;\"/>\r\n   </g>\r\n   <g id=\"text_13\">\r\n    <!-- Google Stock Price Prediction -->\r\n    <defs>\r\n     <path d=\"M 45.40625 46.390625 \r\nL 45.40625 75.984375 \r\nL 54.390625 75.984375 \r\nL 54.390625 0 \r\nL 45.40625 0 \r\nL 45.40625 8.203125 \r\nQ 42.578125 3.328125 38.25 0.953125 \r\nQ 33.9375 -1.421875 27.875 -1.421875 \r\nQ 17.96875 -1.421875 11.734375 6.484375 \r\nQ 5.515625 14.40625 5.515625 27.296875 \r\nQ 5.515625 40.1875 11.734375 48.09375 \r\nQ 17.96875 56 27.875 56 \r\nQ 33.9375 56 38.25 53.625 \r\nQ 42.578125 51.265625 45.40625 46.390625 \r\nz\r\nM 14.796875 27.296875 \r\nQ 14.796875 17.390625 18.875 11.75 \r\nQ 22.953125 6.109375 30.078125 6.109375 \r\nQ 37.203125 6.109375 41.296875 11.75 \r\nQ 45.40625 17.390625 45.40625 27.296875 \r\nQ 45.40625 37.203125 41.296875 42.84375 \r\nQ 37.203125 48.484375 30.078125 48.484375 \r\nQ 22.953125 48.484375 18.875 42.84375 \r\nQ 14.796875 37.203125 14.796875 27.296875 \r\nz\r\n\" id=\"DejaVuSans-100\"/>\r\n     <path d=\"M 54.890625 33.015625 \r\nL 54.890625 0 \r\nL 45.90625 0 \r\nL 45.90625 32.71875 \r\nQ 45.90625 40.484375 42.875 44.328125 \r\nQ 39.84375 48.1875 33.796875 48.1875 \r\nQ 26.515625 48.1875 22.3125 43.546875 \r\nQ 18.109375 38.921875 18.109375 30.90625 \r\nL 18.109375 0 \r\nL 9.078125 0 \r\nL 9.078125 54.6875 \r\nL 18.109375 54.6875 \r\nL 18.109375 46.1875 \r\nQ 21.34375 51.125 25.703125 53.5625 \r\nQ 30.078125 56 35.796875 56 \r\nQ 45.21875 56 50.046875 50.171875 \r\nQ 54.890625 44.34375 54.890625 33.015625 \r\nz\r\n\" id=\"DejaVuSans-110\"/>\r\n    </defs>\r\n    <g transform=\"translate(356.000938 16.318125)scale(0.12 -0.12)\">\r\n     <use xlink:href=\"#DejaVuSans-71\"/>\r\n     <use x=\"77.490234\" xlink:href=\"#DejaVuSans-111\"/>\r\n     <use x=\"138.671875\" xlink:href=\"#DejaVuSans-111\"/>\r\n     <use x=\"199.853516\" xlink:href=\"#DejaVuSans-103\"/>\r\n     <use x=\"263.330078\" xlink:href=\"#DejaVuSans-108\"/>\r\n     <use x=\"291.113281\" xlink:href=\"#DejaVuSans-101\"/>\r\n     <use x=\"352.636719\" xlink:href=\"#DejaVuSans-32\"/>\r\n     <use x=\"384.423828\" xlink:href=\"#DejaVuSans-83\"/>\r\n     <use x=\"447.900391\" xlink:href=\"#DejaVuSans-116\"/>\r\n     <use x=\"487.109375\" xlink:href=\"#DejaVuSans-111\"/>\r\n     <use x=\"548.291016\" xlink:href=\"#DejaVuSans-99\"/>\r\n     <use x=\"603.271484\" xlink:href=\"#DejaVuSans-107\"/>\r\n     <use x=\"661.181641\" xlink:href=\"#DejaVuSans-32\"/>\r\n     <use x=\"692.96875\" xlink:href=\"#DejaVuSans-80\"/>\r\n     <use x=\"751.521484\" xlink:href=\"#DejaVuSans-114\"/>\r\n     <use x=\"792.634766\" xlink:href=\"#DejaVuSans-105\"/>\r\n     <use x=\"820.417969\" xlink:href=\"#DejaVuSans-99\"/>\r\n     <use x=\"875.398438\" xlink:href=\"#DejaVuSans-101\"/>\r\n     <use x=\"936.921875\" xlink:href=\"#DejaVuSans-32\"/>\r\n     <use x=\"968.708984\" xlink:href=\"#DejaVuSans-80\"/>\r\n     <use x=\"1027.261719\" xlink:href=\"#DejaVuSans-114\"/>\r\n     <use x=\"1066.125\" xlink:href=\"#DejaVuSans-101\"/>\r\n     <use x=\"1127.648438\" xlink:href=\"#DejaVuSans-100\"/>\r\n     <use x=\"1191.125\" xlink:href=\"#DejaVuSans-105\"/>\r\n     <use x=\"1218.908203\" xlink:href=\"#DejaVuSans-99\"/>\r\n     <use x=\"1273.888672\" xlink:href=\"#DejaVuSans-116\"/>\r\n     <use x=\"1313.097656\" xlink:href=\"#DejaVuSans-105\"/>\r\n     <use x=\"1340.880859\" xlink:href=\"#DejaVuSans-111\"/>\r\n     <use x=\"1402.0625\" xlink:href=\"#DejaVuSans-110\"/>\r\n    </g>\r\n   </g>\r\n   <g id=\"legend_1\">\r\n    <g id=\"patch_7\">\r\n     <path d=\"M 651.715625 59.674375 \r\nL 827.528125 59.674375 \r\nQ 829.528125 59.674375 829.528125 57.674375 \r\nL 829.528125 29.318125 \r\nQ 829.528125 27.318125 827.528125 27.318125 \r\nL 651.715625 27.318125 \r\nQ 649.715625 27.318125 649.715625 29.318125 \r\nL 649.715625 57.674375 \r\nQ 649.715625 59.674375 651.715625 59.674375 \r\nz\r\n\" style=\"fill:#ffffff;opacity:0.8;stroke:#cccccc;stroke-linejoin:miter;\"/>\r\n    </g>\r\n    <g id=\"line2d_13\">\r\n     <path d=\"M 653.715625 35.416562 \r\nL 673.715625 35.416562 \r\n\" style=\"fill:none;stroke:#ff0000;stroke-linecap:square;stroke-width:1.5;\"/>\r\n    </g>\r\n    <g id=\"line2d_14\"/>\r\n    <g id=\"text_14\">\r\n     <!-- Real Google Stock Price -->\r\n     <defs>\r\n      <path d=\"M 44.390625 34.1875 \r\nQ 47.5625 33.109375 50.5625 29.59375 \r\nQ 53.5625 26.078125 56.59375 19.921875 \r\nL 66.609375 0 \r\nL 56 0 \r\nL 46.6875 18.703125 \r\nQ 43.0625 26.03125 39.671875 28.421875 \r\nQ 36.28125 30.8125 30.421875 30.8125 \r\nL 19.671875 30.8125 \r\nL 19.671875 0 \r\nL 9.8125 0 \r\nL 9.8125 72.90625 \r\nL 32.078125 72.90625 \r\nQ 44.578125 72.90625 50.734375 67.671875 \r\nQ 56.890625 62.453125 56.890625 51.90625 \r\nQ 56.890625 45.015625 53.6875 40.46875 \r\nQ 50.484375 35.9375 44.390625 34.1875 \r\nz\r\nM 19.671875 64.796875 \r\nL 19.671875 38.921875 \r\nL 32.078125 38.921875 \r\nQ 39.203125 38.921875 42.84375 42.21875 \r\nQ 46.484375 45.515625 46.484375 51.90625 \r\nQ 46.484375 58.296875 42.84375 61.546875 \r\nQ 39.203125 64.796875 32.078125 64.796875 \r\nz\r\n\" id=\"DejaVuSans-82\"/>\r\n      <path d=\"M 34.28125 27.484375 \r\nQ 23.390625 27.484375 19.1875 25 \r\nQ 14.984375 22.515625 14.984375 16.5 \r\nQ 14.984375 11.71875 18.140625 8.90625 \r\nQ 21.296875 6.109375 26.703125 6.109375 \r\nQ 34.1875 6.109375 38.703125 11.40625 \r\nQ 43.21875 16.703125 43.21875 25.484375 \r\nL 43.21875 27.484375 \r\nz\r\nM 52.203125 31.203125 \r\nL 52.203125 0 \r\nL 43.21875 0 \r\nL 43.21875 8.296875 \r\nQ 40.140625 3.328125 35.546875 0.953125 \r\nQ 30.953125 -1.421875 24.3125 -1.421875 \r\nQ 15.921875 -1.421875 10.953125 3.296875 \r\nQ 6 8.015625 6 15.921875 \r\nQ 6 25.140625 12.171875 29.828125 \r\nQ 18.359375 34.515625 30.609375 34.515625 \r\nL 43.21875 34.515625 \r\nL 43.21875 35.40625 \r\nQ 43.21875 41.609375 39.140625 45 \r\nQ 35.0625 48.390625 27.6875 48.390625 \r\nQ 23 48.390625 18.546875 47.265625 \r\nQ 14.109375 46.140625 10.015625 43.890625 \r\nL 10.015625 52.203125 \r\nQ 14.9375 54.109375 19.578125 55.046875 \r\nQ 24.21875 56 28.609375 56 \r\nQ 40.484375 56 46.34375 49.84375 \r\nQ 52.203125 43.703125 52.203125 31.203125 \r\nz\r\n\" id=\"DejaVuSans-97\"/>\r\n     </defs>\r\n     <g transform=\"translate(681.715625 38.916562)scale(0.1 -0.1)\">\r\n      <use xlink:href=\"#DejaVuSans-82\"/>\r\n      <use x=\"64.982422\" xlink:href=\"#DejaVuSans-101\"/>\r\n      <use x=\"126.505859\" xlink:href=\"#DejaVuSans-97\"/>\r\n      <use x=\"187.785156\" xlink:href=\"#DejaVuSans-108\"/>\r\n      <use x=\"215.568359\" xlink:href=\"#DejaVuSans-32\"/>\r\n      <use x=\"247.355469\" xlink:href=\"#DejaVuSans-71\"/>\r\n      <use x=\"324.845703\" xlink:href=\"#DejaVuSans-111\"/>\r\n      <use x=\"386.027344\" xlink:href=\"#DejaVuSans-111\"/>\r\n      <use x=\"447.208984\" xlink:href=\"#DejaVuSans-103\"/>\r\n      <use x=\"510.685547\" xlink:href=\"#DejaVuSans-108\"/>\r\n      <use x=\"538.46875\" xlink:href=\"#DejaVuSans-101\"/>\r\n      <use x=\"599.992188\" xlink:href=\"#DejaVuSans-32\"/>\r\n      <use x=\"631.779297\" xlink:href=\"#DejaVuSans-83\"/>\r\n      <use x=\"695.255859\" xlink:href=\"#DejaVuSans-116\"/>\r\n      <use x=\"734.464844\" xlink:href=\"#DejaVuSans-111\"/>\r\n      <use x=\"795.646484\" xlink:href=\"#DejaVuSans-99\"/>\r\n      <use x=\"850.626953\" xlink:href=\"#DejaVuSans-107\"/>\r\n      <use x=\"908.537109\" xlink:href=\"#DejaVuSans-32\"/>\r\n      <use x=\"940.324219\" xlink:href=\"#DejaVuSans-80\"/>\r\n      <use x=\"998.876953\" xlink:href=\"#DejaVuSans-114\"/>\r\n      <use x=\"1039.990234\" xlink:href=\"#DejaVuSans-105\"/>\r\n      <use x=\"1067.773438\" xlink:href=\"#DejaVuSans-99\"/>\r\n      <use x=\"1122.753906\" xlink:href=\"#DejaVuSans-101\"/>\r\n     </g>\r\n    </g>\r\n    <g id=\"line2d_15\">\r\n     <path d=\"M 653.715625 50.094688 \r\nL 673.715625 50.094688 \r\n\" style=\"fill:none;stroke:#0000ff;stroke-linecap:square;stroke-width:1.5;\"/>\r\n    </g>\r\n    <g id=\"line2d_16\"/>\r\n    <g id=\"text_15\">\r\n     <!-- Predicted Google Stock Price -->\r\n     <g transform=\"translate(681.715625 53.594688)scale(0.1 -0.1)\">\r\n      <use xlink:href=\"#DejaVuSans-80\"/>\r\n      <use x=\"58.552734\" xlink:href=\"#DejaVuSans-114\"/>\r\n      <use x=\"97.416016\" xlink:href=\"#DejaVuSans-101\"/>\r\n      <use x=\"158.939453\" xlink:href=\"#DejaVuSans-100\"/>\r\n      <use x=\"222.416016\" xlink:href=\"#DejaVuSans-105\"/>\r\n      <use x=\"250.199219\" xlink:href=\"#DejaVuSans-99\"/>\r\n      <use x=\"305.179688\" xlink:href=\"#DejaVuSans-116\"/>\r\n      <use x=\"344.388672\" xlink:href=\"#DejaVuSans-101\"/>\r\n      <use x=\"405.912109\" xlink:href=\"#DejaVuSans-100\"/>\r\n      <use x=\"469.388672\" xlink:href=\"#DejaVuSans-32\"/>\r\n      <use x=\"501.175781\" xlink:href=\"#DejaVuSans-71\"/>\r\n      <use x=\"578.666016\" xlink:href=\"#DejaVuSans-111\"/>\r\n      <use x=\"639.847656\" xlink:href=\"#DejaVuSans-111\"/>\r\n      <use x=\"701.029297\" xlink:href=\"#DejaVuSans-103\"/>\r\n      <use x=\"764.505859\" xlink:href=\"#DejaVuSans-108\"/>\r\n      <use x=\"792.289062\" xlink:href=\"#DejaVuSans-101\"/>\r\n      <use x=\"853.8125\" xlink:href=\"#DejaVuSans-32\"/>\r\n      <use x=\"885.599609\" xlink:href=\"#DejaVuSans-83\"/>\r\n      <use x=\"949.076172\" xlink:href=\"#DejaVuSans-116\"/>\r\n      <use x=\"988.285156\" xlink:href=\"#DejaVuSans-111\"/>\r\n      <use x=\"1049.466797\" xlink:href=\"#DejaVuSans-99\"/>\r\n      <use x=\"1104.447266\" xlink:href=\"#DejaVuSans-107\"/>\r\n      <use x=\"1162.357422\" xlink:href=\"#DejaVuSans-32\"/>\r\n      <use x=\"1194.144531\" xlink:href=\"#DejaVuSans-80\"/>\r\n      <use x=\"1252.697266\" xlink:href=\"#DejaVuSans-114\"/>\r\n      <use x=\"1293.810547\" xlink:href=\"#DejaVuSans-105\"/>\r\n      <use x=\"1321.59375\" xlink:href=\"#DejaVuSans-99\"/>\r\n      <use x=\"1376.574219\" xlink:href=\"#DejaVuSans-101\"/>\r\n     </g>\r\n    </g>\r\n   </g>\r\n  </g>\r\n </g>\r\n <defs>\r\n  <clipPath id=\"p0e06ed6bad\">\r\n   <rect height=\"271.8\" width=\"781.2\" x=\"53.328125\" y=\"22.318125\"/>\r\n  </clipPath>\r\n </defs>\r\n</svg>\r\n",
      "image/png": "[encoded data removed]"
     },
     "metadata": {
      "needs_background": "light"
     }
    }
   ],
   "source": [
    "# Visualising the results\n",
    "plt.figure(figsize=(14,5))\n",
    "plt.plot(y_test, color = 'red', label = 'Real Google Stock Price')\n",
    "plt.plot(y_pred, color = 'blue', label = 'Predicted Google Stock Price')\n",
    "plt.title('Google Stock Price Prediction')\n",
    "plt.xlabel('Time')\n",
    "plt.ylabel('Google Stock Price')\n",
    "plt.legend()\n",
    "plt.show()"
   ]
  },
  {
   "cell_type": "code",
   "execution_count": null,
   "metadata": {},
   "outputs": [],
   "source": [
    "# ------------------------------End---------------------------------------------\n",
    "# --------------------------------------------------------------------------------------\n",
    "# -------------------------------------------------"
   ]
  },
  {
   "cell_type": "code",
   "execution_count": 78,
   "metadata": {},
   "outputs": [],
   "source": [
    "### Lets Do the prediction and check performance metrics\n",
    "train_predict=model.predict(X_train)\n",
    "test_predict=model.predict(X_test)"
   ]
  },
  {
   "cell_type": "code",
   "execution_count": 79,
   "metadata": {},
   "outputs": [],
   "source": [
    "##Transformback to original form\n",
    "train_predict=scaler.inverse_transform(train_predict)\n",
    "test_predict=scaler.inverse_transform(test_predict)"
   ]
  },
  {
   "cell_type": "code",
   "execution_count": 80,
   "metadata": {},
   "outputs": [
    {
     "output_type": "execute_result",
     "data": {
      "text/plain": "111.31522046359272"
     },
     "metadata": {},
     "execution_count": 80
    }
   ],
   "source": [
    "### Calculate RMSE performance metrics\n",
    "import math\n",
    "from sklearn.metrics import mean_squared_error\n",
    "math.sqrt(mean_squared_error(y_train,train_predict))"
   ]
  },
  {
   "cell_type": "code",
   "execution_count": 81,
   "metadata": {},
   "outputs": [
    {
     "output_type": "execute_result",
     "data": {
      "text/plain": "111.07326863782176"
     },
     "metadata": {},
     "execution_count": 81
    }
   ],
   "source": [
    "### Test Data RMSE\n",
    "math.sqrt(mean_squared_error(ytest,test_predict))"
   ]
  },
  {
   "cell_type": "code",
   "execution_count": 82,
   "metadata": {},
   "outputs": [
    {
     "output_type": "error",
     "ename": "ValueError",
     "evalue": "could not broadcast input array from shape (716,2) into shape (716,1)",
     "traceback": [
      "\u001b[1;31m---------------------------------------------------------------------------\u001b[0m",
      "\u001b[1;31mValueError\u001b[0m                                Traceback (most recent call last)",
      "\u001b[1;32m<ipython-input-82-0fdf7ea26463>\u001b[0m in \u001b[0;36m<module>\u001b[1;34m\u001b[0m\n\u001b[0;32m      4\u001b[0m \u001b[0mtrainPredictPlot\u001b[0m \u001b[1;33m=\u001b[0m \u001b[0mnumpy\u001b[0m\u001b[1;33m.\u001b[0m\u001b[0mempty_like\u001b[0m\u001b[1;33m(\u001b[0m\u001b[0mdf1\u001b[0m\u001b[1;33m)\u001b[0m\u001b[1;33m\u001b[0m\u001b[1;33m\u001b[0m\u001b[0m\n\u001b[0;32m      5\u001b[0m \u001b[0mtrainPredictPlot\u001b[0m\u001b[1;33m[\u001b[0m\u001b[1;33m:\u001b[0m\u001b[1;33m,\u001b[0m \u001b[1;33m:\u001b[0m\u001b[1;33m]\u001b[0m \u001b[1;33m=\u001b[0m \u001b[0mnp\u001b[0m\u001b[1;33m.\u001b[0m\u001b[0mnan\u001b[0m\u001b[1;33m\u001b[0m\u001b[1;33m\u001b[0m\u001b[0m\n\u001b[1;32m----> 6\u001b[1;33m \u001b[0mtrainPredictPlot\u001b[0m\u001b[1;33m[\u001b[0m\u001b[0mlook_back\u001b[0m\u001b[1;33m:\u001b[0m\u001b[0mlen\u001b[0m\u001b[1;33m(\u001b[0m\u001b[0mtrain_predict\u001b[0m\u001b[1;33m)\u001b[0m\u001b[1;33m+\u001b[0m\u001b[0mlook_back\u001b[0m\u001b[1;33m,\u001b[0m \u001b[1;33m:\u001b[0m\u001b[1;33m]\u001b[0m \u001b[1;33m=\u001b[0m \u001b[0mtrain_predict\u001b[0m\u001b[1;33m\u001b[0m\u001b[1;33m\u001b[0m\u001b[0m\n\u001b[0m\u001b[0;32m      7\u001b[0m \u001b[1;31m# shift test predictions for plotting\u001b[0m\u001b[1;33m\u001b[0m\u001b[1;33m\u001b[0m\u001b[1;33m\u001b[0m\u001b[0m\n\u001b[0;32m      8\u001b[0m \u001b[0mtestPredictPlot\u001b[0m \u001b[1;33m=\u001b[0m \u001b[0mnumpy\u001b[0m\u001b[1;33m.\u001b[0m\u001b[0mempty_like\u001b[0m\u001b[1;33m(\u001b[0m\u001b[0mdf1\u001b[0m\u001b[1;33m)\u001b[0m\u001b[1;33m\u001b[0m\u001b[1;33m\u001b[0m\u001b[0m\n",
      "\u001b[1;31mValueError\u001b[0m: could not broadcast input array from shape (716,2) into shape (716,1)"
     ]
    }
   ],
   "source": [
    "### Plotting \n",
    "# shift train predictions for plotting\n",
    "look_back=100\n",
    "trainPredictPlot = numpy.empty_like(df1)\n",
    "trainPredictPlot[:, :] = np.nan\n",
    "trainPredictPlot[look_back:len(train_predict)+look_back, :] = train_predict\n",
    "# shift test predictions for plotting\n",
    "testPredictPlot = numpy.empty_like(df1)\n",
    "testPredictPlot[:, :] = numpy.nan\n",
    "testPredictPlot[len(train_predict)+(look_back*2)+1:len(df1)-1, :] = test_predict\n",
    "# plot baseline and predictions\n",
    "plt.plot(scaler.inverse_transform(df1))\n",
    "plt.plot(trainPredictPlot)\n",
    "plt.plot(testPredictPlot)\n",
    "plt.show()"
   ]
  },
  {
   "cell_type": "code",
   "execution_count": 437,
   "metadata": {},
   "outputs": [
    {
     "data": {
      "text/plain": [
       "441"
      ]
     },
     "execution_count": 437,
     "metadata": {},
     "output_type": "execute_result"
    }
   ],
   "source": [
    "len(test_data)"
   ]
  },
  {
   "cell_type": "code",
   "execution_count": 438,
   "metadata": {},
   "outputs": [
    {
     "data": {
      "text/plain": [
       "(1, 100)"
      ]
     },
     "execution_count": 438,
     "metadata": {},
     "output_type": "execute_result"
    }
   ],
   "source": [
    "x_input=test_data[341:].reshape(1,-1)\n",
    "x_input.shape\n"
   ]
  },
  {
   "cell_type": "code",
   "execution_count": null,
   "metadata": {},
   "outputs": [],
   "source": []
  },
  {
   "cell_type": "code",
   "execution_count": null,
   "metadata": {},
   "outputs": [],
   "source": []
  },
  {
   "cell_type": "code",
   "execution_count": 439,
   "metadata": {},
   "outputs": [],
   "source": [
    "temp_input=list(x_input)\n",
    "temp_input=temp_input[0].tolist()"
   ]
  },
  {
   "cell_type": "code",
   "execution_count": 440,
   "metadata": {},
   "outputs": [
    {
     "data": {
      "text/plain": [
       "[0.8583551465000423,\n",
       " 0.8866418981676942,\n",
       " 0.8743139407244789,\n",
       " 0.8843198513890065,\n",
       " 0.8783669678290975,\n",
       " 0.8986321033521913,\n",
       " 0.925821160179009,\n",
       " 0.9287764924427933,\n",
       " 0.9567677108840666,\n",
       " 0.9386979650426415,\n",
       " 0.933040614709111,\n",
       " 0.9495060373216249,\n",
       " 0.9642404796082076,\n",
       " 0.9551211686228154,\n",
       " 0.9598919192772104,\n",
       " 0.9663514312251966,\n",
       " 0.9624672802499368,\n",
       " 0.9229502659799038,\n",
       " 0.9598497002448705,\n",
       " 0.9879253567508233,\n",
       " 0.985941062230854,\n",
       " 0.9253145317909315,\n",
       " 0.9217259140420504,\n",
       " 0.964747107996285,\n",
       " 0.9757240564046274,\n",
       " 0.9915984125643842,\n",
       " 0.9697289538123788,\n",
       " 0.9761462467280253,\n",
       " 0.9679557544541082,\n",
       " 1.0000000000000002,\n",
       " 0.9901629654648318,\n",
       " 0.9905007177235499,\n",
       " 0.9653803934813816,\n",
       " 0.9848855864223593,\n",
       " 0.9708688676855528,\n",
       " 0.9402600692392133,\n",
       " 0.8774803681499621,\n",
       " 0.8348391454867856,\n",
       " 0.8541332432660644,\n",
       " 0.7733682344000676,\n",
       " 0.7726927298826314,\n",
       " 0.8801401671873683,\n",
       " 0.8400743054969182,\n",
       " 0.8967322468969012,\n",
       " 0.8552731571392387,\n",
       " 0.8388499535590646,\n",
       " 0.7423372456303303,\n",
       " 0.8232711306256861,\n",
       " 0.7814320695769654,\n",
       " 0.6665963016127672,\n",
       " 0.7921557037912694,\n",
       " 0.6411804441442204,\n",
       " 0.6861437135860848,\n",
       " 0.6600101325677616,\n",
       " 0.6520307354555435,\n",
       " 0.5864223591995272,\n",
       " 0.5658616904500551,\n",
       " 0.660896732246897,\n",
       " 0.6551549438486872,\n",
       " 0.7097019336316812,\n",
       " 0.664527569028118,\n",
       " 0.6943764248923416,\n",
       " 0.692181035210673,\n",
       " 0.6356919699400492,\n",
       " 0.6526640209406402,\n",
       " 0.637802921557038,\n",
       " 0.7267162036646122,\n",
       " 0.7138816178333194,\n",
       " 0.7419150553069325,\n",
       " 0.7500211095161702,\n",
       " 0.7722283205268936,\n",
       " 0.8304905851557884,\n",
       " 0.8194291986827664,\n",
       " 0.8289706999915563,\n",
       " 0.8125474964113824,\n",
       " 0.7877649244279323,\n",
       " 0.7516254327450818,\n",
       " 0.7842607447437306,\n",
       " 0.7797433082833742,\n",
       " 0.8132652199611587,\n",
       " 0.8141096006079542,\n",
       " 0.7947310647639958,\n",
       " 0.8333614793548934,\n",
       " 0.8589884319851391,\n",
       " 0.8390188296884238,\n",
       " 0.8562864139153934,\n",
       " 0.8748627881448958,\n",
       " 0.887824031073208,\n",
       " 0.9009541501308793,\n",
       " 0.9279321117959978,\n",
       " 0.9485349995778098,\n",
       " 0.9333361479354896,\n",
       " 0.9174617917757326,\n",
       " 0.925441188887951,\n",
       " 0.9177151059697712,\n",
       " 0.9483239044161109,\n",
       " 0.9406400405302711,\n",
       " 0.9663514312251966,\n",
       " 0.9563033015283293,\n",
       " 0.964915984125644]"
      ]
     },
     "execution_count": 440,
     "metadata": {},
     "output_type": "execute_result"
    }
   ],
   "source": [
    "temp_input"
   ]
  },
  {
   "cell_type": "code",
   "execution_count": 441,
   "metadata": {},
   "outputs": [
    {
     "name": "stdout",
     "output_type": "stream",
     "text": [
      "[0.94413203]\n",
      "101\n",
      "1 day input [0.8866419  0.87431394 0.88431985 0.87836697 0.8986321  0.92582116\n",
      " 0.92877649 0.95676771 0.93869797 0.93304061 0.94950604 0.96424048\n",
      " 0.95512117 0.95989192 0.96635143 0.96246728 0.92295027 0.9598497\n",
      " 0.98792536 0.98594106 0.92531453 0.92172591 0.96474711 0.97572406\n",
      " 0.99159841 0.96972895 0.97614625 0.96795575 1.         0.99016297\n",
      " 0.99050072 0.96538039 0.98488559 0.97086887 0.94026007 0.87748037\n",
      " 0.83483915 0.85413324 0.77336823 0.77269273 0.88014017 0.84007431\n",
      " 0.89673225 0.85527316 0.83884995 0.74233725 0.82327113 0.78143207\n",
      " 0.6665963  0.7921557  0.64118044 0.68614371 0.66001013 0.65203074\n",
      " 0.58642236 0.56586169 0.66089673 0.65515494 0.70970193 0.66452757\n",
      " 0.69437642 0.69218104 0.63569197 0.65266402 0.63780292 0.7267162\n",
      " 0.71388162 0.74191506 0.75002111 0.77222832 0.83049059 0.8194292\n",
      " 0.8289707  0.8125475  0.78776492 0.75162543 0.78426074 0.77974331\n",
      " 0.81326522 0.8141096  0.79473106 0.83336148 0.85898843 0.83901883\n",
      " 0.85628641 0.87486279 0.88782403 0.90095415 0.92793211 0.948535\n",
      " 0.93333615 0.91746179 0.92544119 0.91771511 0.9483239  0.94064004\n",
      " 0.96635143 0.9563033  0.96491598 0.94413203]\n",
      "1 day output [[0.9379593]]\n",
      "2 day input [0.87431394 0.88431985 0.87836697 0.8986321  0.92582116 0.92877649\n",
      " 0.95676771 0.93869797 0.93304061 0.94950604 0.96424048 0.95512117\n",
      " 0.95989192 0.96635143 0.96246728 0.92295027 0.9598497  0.98792536\n",
      " 0.98594106 0.92531453 0.92172591 0.96474711 0.97572406 0.99159841\n",
      " 0.96972895 0.97614625 0.96795575 1.         0.99016297 0.99050072\n",
      " 0.96538039 0.98488559 0.97086887 0.94026007 0.87748037 0.83483915\n",
      " 0.85413324 0.77336823 0.77269273 0.88014017 0.84007431 0.89673225\n",
      " 0.85527316 0.83884995 0.74233725 0.82327113 0.78143207 0.6665963\n",
      " 0.7921557  0.64118044 0.68614371 0.66001013 0.65203074 0.58642236\n",
      " 0.56586169 0.66089673 0.65515494 0.70970193 0.66452757 0.69437642\n",
      " 0.69218104 0.63569197 0.65266402 0.63780292 0.7267162  0.71388162\n",
      " 0.74191506 0.75002111 0.77222832 0.83049059 0.8194292  0.8289707\n",
      " 0.8125475  0.78776492 0.75162543 0.78426074 0.77974331 0.81326522\n",
      " 0.8141096  0.79473106 0.83336148 0.85898843 0.83901883 0.85628641\n",
      " 0.87486279 0.88782403 0.90095415 0.92793211 0.948535   0.93333615\n",
      " 0.91746179 0.92544119 0.91771511 0.9483239  0.94064004 0.96635143\n",
      " 0.9563033  0.96491598 0.94413203 0.93795931]\n",
      "2 day output [[0.9286534]]\n",
      "3 day input [0.88431985 0.87836697 0.8986321  0.92582116 0.92877649 0.95676771\n",
      " 0.93869797 0.93304061 0.94950604 0.96424048 0.95512117 0.95989192\n",
      " 0.96635143 0.96246728 0.92295027 0.9598497  0.98792536 0.98594106\n",
      " 0.92531453 0.92172591 0.96474711 0.97572406 0.99159841 0.96972895\n",
      " 0.97614625 0.96795575 1.         0.99016297 0.99050072 0.96538039\n",
      " 0.98488559 0.97086887 0.94026007 0.87748037 0.83483915 0.85413324\n",
      " 0.77336823 0.77269273 0.88014017 0.84007431 0.89673225 0.85527316\n",
      " 0.83884995 0.74233725 0.82327113 0.78143207 0.6665963  0.7921557\n",
      " 0.64118044 0.68614371 0.66001013 0.65203074 0.58642236 0.56586169\n",
      " 0.66089673 0.65515494 0.70970193 0.66452757 0.69437642 0.69218104\n",
      " 0.63569197 0.65266402 0.63780292 0.7267162  0.71388162 0.74191506\n",
      " 0.75002111 0.77222832 0.83049059 0.8194292  0.8289707  0.8125475\n",
      " 0.78776492 0.75162543 0.78426074 0.77974331 0.81326522 0.8141096\n",
      " 0.79473106 0.83336148 0.85898843 0.83901883 0.85628641 0.87486279\n",
      " 0.88782403 0.90095415 0.92793211 0.948535   0.93333615 0.91746179\n",
      " 0.92544119 0.91771511 0.9483239  0.94064004 0.96635143 0.9563033\n",
      " 0.96491598 0.94413203 0.93795931 0.92865342]\n",
      "3 day output [[0.91987926]]\n",
      "4 day input [0.87836697 0.8986321  0.92582116 0.92877649 0.95676771 0.93869797\n",
      " 0.93304061 0.94950604 0.96424048 0.95512117 0.95989192 0.96635143\n",
      " 0.96246728 0.92295027 0.9598497  0.98792536 0.98594106 0.92531453\n",
      " 0.92172591 0.96474711 0.97572406 0.99159841 0.96972895 0.97614625\n",
      " 0.96795575 1.         0.99016297 0.99050072 0.96538039 0.98488559\n",
      " 0.97086887 0.94026007 0.87748037 0.83483915 0.85413324 0.77336823\n",
      " 0.77269273 0.88014017 0.84007431 0.89673225 0.85527316 0.83884995\n",
      " 0.74233725 0.82327113 0.78143207 0.6665963  0.7921557  0.64118044\n",
      " 0.68614371 0.66001013 0.65203074 0.58642236 0.56586169 0.66089673\n",
      " 0.65515494 0.70970193 0.66452757 0.69437642 0.69218104 0.63569197\n",
      " 0.65266402 0.63780292 0.7267162  0.71388162 0.74191506 0.75002111\n",
      " 0.77222832 0.83049059 0.8194292  0.8289707  0.8125475  0.78776492\n",
      " 0.75162543 0.78426074 0.77974331 0.81326522 0.8141096  0.79473106\n",
      " 0.83336148 0.85898843 0.83901883 0.85628641 0.87486279 0.88782403\n",
      " 0.90095415 0.92793211 0.948535   0.93333615 0.91746179 0.92544119\n",
      " 0.91771511 0.9483239  0.94064004 0.96635143 0.9563033  0.96491598\n",
      " 0.94413203 0.93795931 0.92865342 0.91987926]\n",
      "4 day output [[0.9128097]]\n",
      "5 day input [0.8986321  0.92582116 0.92877649 0.95676771 0.93869797 0.93304061\n",
      " 0.94950604 0.96424048 0.95512117 0.95989192 0.96635143 0.96246728\n",
      " 0.92295027 0.9598497  0.98792536 0.98594106 0.92531453 0.92172591\n",
      " 0.96474711 0.97572406 0.99159841 0.96972895 0.97614625 0.96795575\n",
      " 1.         0.99016297 0.99050072 0.96538039 0.98488559 0.97086887\n",
      " 0.94026007 0.87748037 0.83483915 0.85413324 0.77336823 0.77269273\n",
      " 0.88014017 0.84007431 0.89673225 0.85527316 0.83884995 0.74233725\n",
      " 0.82327113 0.78143207 0.6665963  0.7921557  0.64118044 0.68614371\n",
      " 0.66001013 0.65203074 0.58642236 0.56586169 0.66089673 0.65515494\n",
      " 0.70970193 0.66452757 0.69437642 0.69218104 0.63569197 0.65266402\n",
      " 0.63780292 0.7267162  0.71388162 0.74191506 0.75002111 0.77222832\n",
      " 0.83049059 0.8194292  0.8289707  0.8125475  0.78776492 0.75162543\n",
      " 0.78426074 0.77974331 0.81326522 0.8141096  0.79473106 0.83336148\n",
      " 0.85898843 0.83901883 0.85628641 0.87486279 0.88782403 0.90095415\n",
      " 0.92793211 0.948535   0.93333615 0.91746179 0.92544119 0.91771511\n",
      " 0.9483239  0.94064004 0.96635143 0.9563033  0.96491598 0.94413203\n",
      " 0.93795931 0.92865342 0.91987926 0.91280973]\n",
      "5 day output [[0.90777564]]\n",
      "6 day input [0.92582116 0.92877649 0.95676771 0.93869797 0.93304061 0.94950604\n",
      " 0.96424048 0.95512117 0.95989192 0.96635143 0.96246728 0.92295027\n",
      " 0.9598497  0.98792536 0.98594106 0.92531453 0.92172591 0.96474711\n",
      " 0.97572406 0.99159841 0.96972895 0.97614625 0.96795575 1.\n",
      " 0.99016297 0.99050072 0.96538039 0.98488559 0.97086887 0.94026007\n",
      " 0.87748037 0.83483915 0.85413324 0.77336823 0.77269273 0.88014017\n",
      " 0.84007431 0.89673225 0.85527316 0.83884995 0.74233725 0.82327113\n",
      " 0.78143207 0.6665963  0.7921557  0.64118044 0.68614371 0.66001013\n",
      " 0.65203074 0.58642236 0.56586169 0.66089673 0.65515494 0.70970193\n",
      " 0.66452757 0.69437642 0.69218104 0.63569197 0.65266402 0.63780292\n",
      " 0.7267162  0.71388162 0.74191506 0.75002111 0.77222832 0.83049059\n",
      " 0.8194292  0.8289707  0.8125475  0.78776492 0.75162543 0.78426074\n",
      " 0.77974331 0.81326522 0.8141096  0.79473106 0.83336148 0.85898843\n",
      " 0.83901883 0.85628641 0.87486279 0.88782403 0.90095415 0.92793211\n",
      " 0.948535   0.93333615 0.91746179 0.92544119 0.91771511 0.9483239\n",
      " 0.94064004 0.96635143 0.9563033  0.96491598 0.94413203 0.93795931\n",
      " 0.92865342 0.91987926 0.91280973 0.90777564]\n",
      "6 day output [[0.9047326]]\n",
      "7 day input [0.92877649 0.95676771 0.93869797 0.93304061 0.94950604 0.96424048\n",
      " 0.95512117 0.95989192 0.96635143 0.96246728 0.92295027 0.9598497\n",
      " 0.98792536 0.98594106 0.92531453 0.92172591 0.96474711 0.97572406\n",
      " 0.99159841 0.96972895 0.97614625 0.96795575 1.         0.99016297\n",
      " 0.99050072 0.96538039 0.98488559 0.97086887 0.94026007 0.87748037\n",
      " 0.83483915 0.85413324 0.77336823 0.77269273 0.88014017 0.84007431\n",
      " 0.89673225 0.85527316 0.83884995 0.74233725 0.82327113 0.78143207\n",
      " 0.6665963  0.7921557  0.64118044 0.68614371 0.66001013 0.65203074\n",
      " 0.58642236 0.56586169 0.66089673 0.65515494 0.70970193 0.66452757\n",
      " 0.69437642 0.69218104 0.63569197 0.65266402 0.63780292 0.7267162\n",
      " 0.71388162 0.74191506 0.75002111 0.77222832 0.83049059 0.8194292\n",
      " 0.8289707  0.8125475  0.78776492 0.75162543 0.78426074 0.77974331\n",
      " 0.81326522 0.8141096  0.79473106 0.83336148 0.85898843 0.83901883\n",
      " 0.85628641 0.87486279 0.88782403 0.90095415 0.92793211 0.948535\n",
      " 0.93333615 0.91746179 0.92544119 0.91771511 0.9483239  0.94064004\n",
      " 0.96635143 0.9563033  0.96491598 0.94413203 0.93795931 0.92865342\n",
      " 0.91987926 0.91280973 0.90777564 0.90473258]\n",
      "7 day output [[0.9033923]]\n",
      "8 day input [0.95676771 0.93869797 0.93304061 0.94950604 0.96424048 0.95512117\n",
      " 0.95989192 0.96635143 0.96246728 0.92295027 0.9598497  0.98792536\n",
      " 0.98594106 0.92531453 0.92172591 0.96474711 0.97572406 0.99159841\n",
      " 0.96972895 0.97614625 0.96795575 1.         0.99016297 0.99050072\n",
      " 0.96538039 0.98488559 0.97086887 0.94026007 0.87748037 0.83483915\n",
      " 0.85413324 0.77336823 0.77269273 0.88014017 0.84007431 0.89673225\n",
      " 0.85527316 0.83884995 0.74233725 0.82327113 0.78143207 0.6665963\n",
      " 0.7921557  0.64118044 0.68614371 0.66001013 0.65203074 0.58642236\n",
      " 0.56586169 0.66089673 0.65515494 0.70970193 0.66452757 0.69437642\n",
      " 0.69218104 0.63569197 0.65266402 0.63780292 0.7267162  0.71388162\n",
      " 0.74191506 0.75002111 0.77222832 0.83049059 0.8194292  0.8289707\n",
      " 0.8125475  0.78776492 0.75162543 0.78426074 0.77974331 0.81326522\n",
      " 0.8141096  0.79473106 0.83336148 0.85898843 0.83901883 0.85628641\n",
      " 0.87486279 0.88782403 0.90095415 0.92793211 0.948535   0.93333615\n",
      " 0.91746179 0.92544119 0.91771511 0.9483239  0.94064004 0.96635143\n",
      " 0.9563033  0.96491598 0.94413203 0.93795931 0.92865342 0.91987926\n",
      " 0.91280973 0.90777564 0.90473258 0.90339231]\n",
      "8 day output [[0.90332204]]\n",
      "9 day input [0.93869797 0.93304061 0.94950604 0.96424048 0.95512117 0.95989192\n",
      " 0.96635143 0.96246728 0.92295027 0.9598497  0.98792536 0.98594106\n",
      " 0.92531453 0.92172591 0.96474711 0.97572406 0.99159841 0.96972895\n",
      " 0.97614625 0.96795575 1.         0.99016297 0.99050072 0.96538039\n",
      " 0.98488559 0.97086887 0.94026007 0.87748037 0.83483915 0.85413324\n",
      " 0.77336823 0.77269273 0.88014017 0.84007431 0.89673225 0.85527316\n",
      " 0.83884995 0.74233725 0.82327113 0.78143207 0.6665963  0.7921557\n",
      " 0.64118044 0.68614371 0.66001013 0.65203074 0.58642236 0.56586169\n",
      " 0.66089673 0.65515494 0.70970193 0.66452757 0.69437642 0.69218104\n",
      " 0.63569197 0.65266402 0.63780292 0.7267162  0.71388162 0.74191506\n",
      " 0.75002111 0.77222832 0.83049059 0.8194292  0.8289707  0.8125475\n",
      " 0.78776492 0.75162543 0.78426074 0.77974331 0.81326522 0.8141096\n",
      " 0.79473106 0.83336148 0.85898843 0.83901883 0.85628641 0.87486279\n",
      " 0.88782403 0.90095415 0.92793211 0.948535   0.93333615 0.91746179\n",
      " 0.92544119 0.91771511 0.9483239  0.94064004 0.96635143 0.9563033\n",
      " 0.96491598 0.94413203 0.93795931 0.92865342 0.91987926 0.91280973\n",
      " 0.90777564 0.90473258 0.90339231 0.90332204]\n",
      "9 day output [[0.9040391]]\n",
      "10 day input [0.93304061 0.94950604 0.96424048 0.95512117 0.95989192 0.96635143\n",
      " 0.96246728 0.92295027 0.9598497  0.98792536 0.98594106 0.92531453\n",
      " 0.92172591 0.96474711 0.97572406 0.99159841 0.96972895 0.97614625\n",
      " 0.96795575 1.         0.99016297 0.99050072 0.96538039 0.98488559\n",
      " 0.97086887 0.94026007 0.87748037 0.83483915 0.85413324 0.77336823\n",
      " 0.77269273 0.88014017 0.84007431 0.89673225 0.85527316 0.83884995\n",
      " 0.74233725 0.82327113 0.78143207 0.6665963  0.7921557  0.64118044\n",
      " 0.68614371 0.66001013 0.65203074 0.58642236 0.56586169 0.66089673\n",
      " 0.65515494 0.70970193 0.66452757 0.69437642 0.69218104 0.63569197\n",
      " 0.65266402 0.63780292 0.7267162  0.71388162 0.74191506 0.75002111\n",
      " 0.77222832 0.83049059 0.8194292  0.8289707  0.8125475  0.78776492\n",
      " 0.75162543 0.78426074 0.77974331 0.81326522 0.8141096  0.79473106\n",
      " 0.83336148 0.85898843 0.83901883 0.85628641 0.87486279 0.88782403\n",
      " 0.90095415 0.92793211 0.948535   0.93333615 0.91746179 0.92544119\n",
      " 0.91771511 0.9483239  0.94064004 0.96635143 0.9563033  0.96491598\n",
      " 0.94413203 0.93795931 0.92865342 0.91987926 0.91280973 0.90777564\n",
      " 0.90473258 0.90339231 0.90332204 0.90403908]\n"
     ]
    },
    {
     "name": "stdout",
     "output_type": "stream",
     "text": [
      "10 day output [[0.9050924]]\n",
      "11 day input [0.94950604 0.96424048 0.95512117 0.95989192 0.96635143 0.96246728\n",
      " 0.92295027 0.9598497  0.98792536 0.98594106 0.92531453 0.92172591\n",
      " 0.96474711 0.97572406 0.99159841 0.96972895 0.97614625 0.96795575\n",
      " 1.         0.99016297 0.99050072 0.96538039 0.98488559 0.97086887\n",
      " 0.94026007 0.87748037 0.83483915 0.85413324 0.77336823 0.77269273\n",
      " 0.88014017 0.84007431 0.89673225 0.85527316 0.83884995 0.74233725\n",
      " 0.82327113 0.78143207 0.6665963  0.7921557  0.64118044 0.68614371\n",
      " 0.66001013 0.65203074 0.58642236 0.56586169 0.66089673 0.65515494\n",
      " 0.70970193 0.66452757 0.69437642 0.69218104 0.63569197 0.65266402\n",
      " 0.63780292 0.7267162  0.71388162 0.74191506 0.75002111 0.77222832\n",
      " 0.83049059 0.8194292  0.8289707  0.8125475  0.78776492 0.75162543\n",
      " 0.78426074 0.77974331 0.81326522 0.8141096  0.79473106 0.83336148\n",
      " 0.85898843 0.83901883 0.85628641 0.87486279 0.88782403 0.90095415\n",
      " 0.92793211 0.948535   0.93333615 0.91746179 0.92544119 0.91771511\n",
      " 0.9483239  0.94064004 0.96635143 0.9563033  0.96491598 0.94413203\n",
      " 0.93795931 0.92865342 0.91987926 0.91280973 0.90777564 0.90473258\n",
      " 0.90339231 0.90332204 0.90403908 0.90509242]\n",
      "11 day output [[0.906118]]\n",
      "12 day input [0.96424048 0.95512117 0.95989192 0.96635143 0.96246728 0.92295027\n",
      " 0.9598497  0.98792536 0.98594106 0.92531453 0.92172591 0.96474711\n",
      " 0.97572406 0.99159841 0.96972895 0.97614625 0.96795575 1.\n",
      " 0.99016297 0.99050072 0.96538039 0.98488559 0.97086887 0.94026007\n",
      " 0.87748037 0.83483915 0.85413324 0.77336823 0.77269273 0.88014017\n",
      " 0.84007431 0.89673225 0.85527316 0.83884995 0.74233725 0.82327113\n",
      " 0.78143207 0.6665963  0.7921557  0.64118044 0.68614371 0.66001013\n",
      " 0.65203074 0.58642236 0.56586169 0.66089673 0.65515494 0.70970193\n",
      " 0.66452757 0.69437642 0.69218104 0.63569197 0.65266402 0.63780292\n",
      " 0.7267162  0.71388162 0.74191506 0.75002111 0.77222832 0.83049059\n",
      " 0.8194292  0.8289707  0.8125475  0.78776492 0.75162543 0.78426074\n",
      " 0.77974331 0.81326522 0.8141096  0.79473106 0.83336148 0.85898843\n",
      " 0.83901883 0.85628641 0.87486279 0.88782403 0.90095415 0.92793211\n",
      " 0.948535   0.93333615 0.91746179 0.92544119 0.91771511 0.9483239\n",
      " 0.94064004 0.96635143 0.9563033  0.96491598 0.94413203 0.93795931\n",
      " 0.92865342 0.91987926 0.91280973 0.90777564 0.90473258 0.90339231\n",
      " 0.90332204 0.90403908 0.90509242 0.90611798]\n",
      "12 day output [[0.90686554]]\n",
      "13 day input [0.95512117 0.95989192 0.96635143 0.96246728 0.92295027 0.9598497\n",
      " 0.98792536 0.98594106 0.92531453 0.92172591 0.96474711 0.97572406\n",
      " 0.99159841 0.96972895 0.97614625 0.96795575 1.         0.99016297\n",
      " 0.99050072 0.96538039 0.98488559 0.97086887 0.94026007 0.87748037\n",
      " 0.83483915 0.85413324 0.77336823 0.77269273 0.88014017 0.84007431\n",
      " 0.89673225 0.85527316 0.83884995 0.74233725 0.82327113 0.78143207\n",
      " 0.6665963  0.7921557  0.64118044 0.68614371 0.66001013 0.65203074\n",
      " 0.58642236 0.56586169 0.66089673 0.65515494 0.70970193 0.66452757\n",
      " 0.69437642 0.69218104 0.63569197 0.65266402 0.63780292 0.7267162\n",
      " 0.71388162 0.74191506 0.75002111 0.77222832 0.83049059 0.8194292\n",
      " 0.8289707  0.8125475  0.78776492 0.75162543 0.78426074 0.77974331\n",
      " 0.81326522 0.8141096  0.79473106 0.83336148 0.85898843 0.83901883\n",
      " 0.85628641 0.87486279 0.88782403 0.90095415 0.92793211 0.948535\n",
      " 0.93333615 0.91746179 0.92544119 0.91771511 0.9483239  0.94064004\n",
      " 0.96635143 0.9563033  0.96491598 0.94413203 0.93795931 0.92865342\n",
      " 0.91987926 0.91280973 0.90777564 0.90473258 0.90339231 0.90332204\n",
      " 0.90403908 0.90509242 0.90611798 0.90686554]\n",
      "13 day output [[0.90720606]]\n",
      "14 day input [0.95989192 0.96635143 0.96246728 0.92295027 0.9598497  0.98792536\n",
      " 0.98594106 0.92531453 0.92172591 0.96474711 0.97572406 0.99159841\n",
      " 0.96972895 0.97614625 0.96795575 1.         0.99016297 0.99050072\n",
      " 0.96538039 0.98488559 0.97086887 0.94026007 0.87748037 0.83483915\n",
      " 0.85413324 0.77336823 0.77269273 0.88014017 0.84007431 0.89673225\n",
      " 0.85527316 0.83884995 0.74233725 0.82327113 0.78143207 0.6665963\n",
      " 0.7921557  0.64118044 0.68614371 0.66001013 0.65203074 0.58642236\n",
      " 0.56586169 0.66089673 0.65515494 0.70970193 0.66452757 0.69437642\n",
      " 0.69218104 0.63569197 0.65266402 0.63780292 0.7267162  0.71388162\n",
      " 0.74191506 0.75002111 0.77222832 0.83049059 0.8194292  0.8289707\n",
      " 0.8125475  0.78776492 0.75162543 0.78426074 0.77974331 0.81326522\n",
      " 0.8141096  0.79473106 0.83336148 0.85898843 0.83901883 0.85628641\n",
      " 0.87486279 0.88782403 0.90095415 0.92793211 0.948535   0.93333615\n",
      " 0.91746179 0.92544119 0.91771511 0.9483239  0.94064004 0.96635143\n",
      " 0.9563033  0.96491598 0.94413203 0.93795931 0.92865342 0.91987926\n",
      " 0.91280973 0.90777564 0.90473258 0.90339231 0.90332204 0.90403908\n",
      " 0.90509242 0.90611798 0.90686554 0.90720606]\n",
      "14 day output [[0.9071163]]\n",
      "15 day input [0.96635143 0.96246728 0.92295027 0.9598497  0.98792536 0.98594106\n",
      " 0.92531453 0.92172591 0.96474711 0.97572406 0.99159841 0.96972895\n",
      " 0.97614625 0.96795575 1.         0.99016297 0.99050072 0.96538039\n",
      " 0.98488559 0.97086887 0.94026007 0.87748037 0.83483915 0.85413324\n",
      " 0.77336823 0.77269273 0.88014017 0.84007431 0.89673225 0.85527316\n",
      " 0.83884995 0.74233725 0.82327113 0.78143207 0.6665963  0.7921557\n",
      " 0.64118044 0.68614371 0.66001013 0.65203074 0.58642236 0.56586169\n",
      " 0.66089673 0.65515494 0.70970193 0.66452757 0.69437642 0.69218104\n",
      " 0.63569197 0.65266402 0.63780292 0.7267162  0.71388162 0.74191506\n",
      " 0.75002111 0.77222832 0.83049059 0.8194292  0.8289707  0.8125475\n",
      " 0.78776492 0.75162543 0.78426074 0.77974331 0.81326522 0.8141096\n",
      " 0.79473106 0.83336148 0.85898843 0.83901883 0.85628641 0.87486279\n",
      " 0.88782403 0.90095415 0.92793211 0.948535   0.93333615 0.91746179\n",
      " 0.92544119 0.91771511 0.9483239  0.94064004 0.96635143 0.9563033\n",
      " 0.96491598 0.94413203 0.93795931 0.92865342 0.91987926 0.91280973\n",
      " 0.90777564 0.90473258 0.90339231 0.90332204 0.90403908 0.90509242\n",
      " 0.90611798 0.90686554 0.90720606 0.90711629]\n",
      "15 day output [[0.9066538]]\n",
      "16 day input [0.96246728 0.92295027 0.9598497  0.98792536 0.98594106 0.92531453\n",
      " 0.92172591 0.96474711 0.97572406 0.99159841 0.96972895 0.97614625\n",
      " 0.96795575 1.         0.99016297 0.99050072 0.96538039 0.98488559\n",
      " 0.97086887 0.94026007 0.87748037 0.83483915 0.85413324 0.77336823\n",
      " 0.77269273 0.88014017 0.84007431 0.89673225 0.85527316 0.83884995\n",
      " 0.74233725 0.82327113 0.78143207 0.6665963  0.7921557  0.64118044\n",
      " 0.68614371 0.66001013 0.65203074 0.58642236 0.56586169 0.66089673\n",
      " 0.65515494 0.70970193 0.66452757 0.69437642 0.69218104 0.63569197\n",
      " 0.65266402 0.63780292 0.7267162  0.71388162 0.74191506 0.75002111\n",
      " 0.77222832 0.83049059 0.8194292  0.8289707  0.8125475  0.78776492\n",
      " 0.75162543 0.78426074 0.77974331 0.81326522 0.8141096  0.79473106\n",
      " 0.83336148 0.85898843 0.83901883 0.85628641 0.87486279 0.88782403\n",
      " 0.90095415 0.92793211 0.948535   0.93333615 0.91746179 0.92544119\n",
      " 0.91771511 0.9483239  0.94064004 0.96635143 0.9563033  0.96491598\n",
      " 0.94413203 0.93795931 0.92865342 0.91987926 0.91280973 0.90777564\n",
      " 0.90473258 0.90339231 0.90332204 0.90403908 0.90509242 0.90611798\n",
      " 0.90686554 0.90720606 0.90711629 0.90665382]\n",
      "16 day output [[0.90592706]]\n",
      "17 day input [0.92295027 0.9598497  0.98792536 0.98594106 0.92531453 0.92172591\n",
      " 0.96474711 0.97572406 0.99159841 0.96972895 0.97614625 0.96795575\n",
      " 1.         0.99016297 0.99050072 0.96538039 0.98488559 0.97086887\n",
      " 0.94026007 0.87748037 0.83483915 0.85413324 0.77336823 0.77269273\n",
      " 0.88014017 0.84007431 0.89673225 0.85527316 0.83884995 0.74233725\n",
      " 0.82327113 0.78143207 0.6665963  0.7921557  0.64118044 0.68614371\n",
      " 0.66001013 0.65203074 0.58642236 0.56586169 0.66089673 0.65515494\n",
      " 0.70970193 0.66452757 0.69437642 0.69218104 0.63569197 0.65266402\n",
      " 0.63780292 0.7267162  0.71388162 0.74191506 0.75002111 0.77222832\n",
      " 0.83049059 0.8194292  0.8289707  0.8125475  0.78776492 0.75162543\n",
      " 0.78426074 0.77974331 0.81326522 0.8141096  0.79473106 0.83336148\n",
      " 0.85898843 0.83901883 0.85628641 0.87486279 0.88782403 0.90095415\n",
      " 0.92793211 0.948535   0.93333615 0.91746179 0.92544119 0.91771511\n",
      " 0.9483239  0.94064004 0.96635143 0.9563033  0.96491598 0.94413203\n",
      " 0.93795931 0.92865342 0.91987926 0.91280973 0.90777564 0.90473258\n",
      " 0.90339231 0.90332204 0.90403908 0.90509242 0.90611798 0.90686554\n",
      " 0.90720606 0.90711629 0.90665382 0.90592706]\n",
      "17 day output [[0.9050646]]\n",
      "18 day input [0.9598497  0.98792536 0.98594106 0.92531453 0.92172591 0.96474711\n",
      " 0.97572406 0.99159841 0.96972895 0.97614625 0.96795575 1.\n",
      " 0.99016297 0.99050072 0.96538039 0.98488559 0.97086887 0.94026007\n",
      " 0.87748037 0.83483915 0.85413324 0.77336823 0.77269273 0.88014017\n",
      " 0.84007431 0.89673225 0.85527316 0.83884995 0.74233725 0.82327113\n",
      " 0.78143207 0.6665963  0.7921557  0.64118044 0.68614371 0.66001013\n",
      " 0.65203074 0.58642236 0.56586169 0.66089673 0.65515494 0.70970193\n",
      " 0.66452757 0.69437642 0.69218104 0.63569197 0.65266402 0.63780292\n",
      " 0.7267162  0.71388162 0.74191506 0.75002111 0.77222832 0.83049059\n",
      " 0.8194292  0.8289707  0.8125475  0.78776492 0.75162543 0.78426074\n",
      " 0.77974331 0.81326522 0.8141096  0.79473106 0.83336148 0.85898843\n",
      " 0.83901883 0.85628641 0.87486279 0.88782403 0.90095415 0.92793211\n",
      " 0.948535   0.93333615 0.91746179 0.92544119 0.91771511 0.9483239\n",
      " 0.94064004 0.96635143 0.9563033  0.96491598 0.94413203 0.93795931\n",
      " 0.92865342 0.91987926 0.91280973 0.90777564 0.90473258 0.90339231\n",
      " 0.90332204 0.90403908 0.90509242 0.90611798 0.90686554 0.90720606\n",
      " 0.90711629 0.90665382 0.90592706 0.90506458]\n",
      "18 day output [[0.90419257]]\n",
      "19 day input [0.98792536 0.98594106 0.92531453 0.92172591 0.96474711 0.97572406\n",
      " 0.99159841 0.96972895 0.97614625 0.96795575 1.         0.99016297\n",
      " 0.99050072 0.96538039 0.98488559 0.97086887 0.94026007 0.87748037\n",
      " 0.83483915 0.85413324 0.77336823 0.77269273 0.88014017 0.84007431\n",
      " 0.89673225 0.85527316 0.83884995 0.74233725 0.82327113 0.78143207\n",
      " 0.6665963  0.7921557  0.64118044 0.68614371 0.66001013 0.65203074\n",
      " 0.58642236 0.56586169 0.66089673 0.65515494 0.70970193 0.66452757\n",
      " 0.69437642 0.69218104 0.63569197 0.65266402 0.63780292 0.7267162\n",
      " 0.71388162 0.74191506 0.75002111 0.77222832 0.83049059 0.8194292\n",
      " 0.8289707  0.8125475  0.78776492 0.75162543 0.78426074 0.77974331\n",
      " 0.81326522 0.8141096  0.79473106 0.83336148 0.85898843 0.83901883\n",
      " 0.85628641 0.87486279 0.88782403 0.90095415 0.92793211 0.948535\n",
      " 0.93333615 0.91746179 0.92544119 0.91771511 0.9483239  0.94064004\n",
      " 0.96635143 0.9563033  0.96491598 0.94413203 0.93795931 0.92865342\n",
      " 0.91987926 0.91280973 0.90777564 0.90473258 0.90339231 0.90332204\n",
      " 0.90403908 0.90509242 0.90611798 0.90686554 0.90720606 0.90711629\n",
      " 0.90665382 0.90592706 0.90506458 0.90419257]\n",
      "19 day output [[0.9034131]]\n",
      "20 day input [0.98594106 0.92531453 0.92172591 0.96474711 0.97572406 0.99159841\n",
      " 0.96972895 0.97614625 0.96795575 1.         0.99016297 0.99050072\n",
      " 0.96538039 0.98488559 0.97086887 0.94026007 0.87748037 0.83483915\n",
      " 0.85413324 0.77336823 0.77269273 0.88014017 0.84007431 0.89673225\n",
      " 0.85527316 0.83884995 0.74233725 0.82327113 0.78143207 0.6665963\n",
      " 0.7921557  0.64118044 0.68614371 0.66001013 0.65203074 0.58642236\n",
      " 0.56586169 0.66089673 0.65515494 0.70970193 0.66452757 0.69437642\n",
      " 0.69218104 0.63569197 0.65266402 0.63780292 0.7267162  0.71388162\n",
      " 0.74191506 0.75002111 0.77222832 0.83049059 0.8194292  0.8289707\n",
      " 0.8125475  0.78776492 0.75162543 0.78426074 0.77974331 0.81326522\n",
      " 0.8141096  0.79473106 0.83336148 0.85898843 0.83901883 0.85628641\n",
      " 0.87486279 0.88782403 0.90095415 0.92793211 0.948535   0.93333615\n",
      " 0.91746179 0.92544119 0.91771511 0.9483239  0.94064004 0.96635143\n",
      " 0.9563033  0.96491598 0.94413203 0.93795931 0.92865342 0.91987926\n",
      " 0.91280973 0.90777564 0.90473258 0.90339231 0.90332204 0.90403908\n",
      " 0.90509242 0.90611798 0.90686554 0.90720606 0.90711629 0.90665382\n",
      " 0.90592706 0.90506458 0.90419257 0.90341312]\n"
     ]
    },
    {
     "name": "stdout",
     "output_type": "stream",
     "text": [
      "20 day output [[0.90279734]]\n",
      "21 day input [0.92531453 0.92172591 0.96474711 0.97572406 0.99159841 0.96972895\n",
      " 0.97614625 0.96795575 1.         0.99016297 0.99050072 0.96538039\n",
      " 0.98488559 0.97086887 0.94026007 0.87748037 0.83483915 0.85413324\n",
      " 0.77336823 0.77269273 0.88014017 0.84007431 0.89673225 0.85527316\n",
      " 0.83884995 0.74233725 0.82327113 0.78143207 0.6665963  0.7921557\n",
      " 0.64118044 0.68614371 0.66001013 0.65203074 0.58642236 0.56586169\n",
      " 0.66089673 0.65515494 0.70970193 0.66452757 0.69437642 0.69218104\n",
      " 0.63569197 0.65266402 0.63780292 0.7267162  0.71388162 0.74191506\n",
      " 0.75002111 0.77222832 0.83049059 0.8194292  0.8289707  0.8125475\n",
      " 0.78776492 0.75162543 0.78426074 0.77974331 0.81326522 0.8141096\n",
      " 0.79473106 0.83336148 0.85898843 0.83901883 0.85628641 0.87486279\n",
      " 0.88782403 0.90095415 0.92793211 0.948535   0.93333615 0.91746179\n",
      " 0.92544119 0.91771511 0.9483239  0.94064004 0.96635143 0.9563033\n",
      " 0.96491598 0.94413203 0.93795931 0.92865342 0.91987926 0.91280973\n",
      " 0.90777564 0.90473258 0.90339231 0.90332204 0.90403908 0.90509242\n",
      " 0.90611798 0.90686554 0.90720606 0.90711629 0.90665382 0.90592706\n",
      " 0.90506458 0.90419257 0.90341312 0.90279734]\n",
      "21 day output [[0.9023812]]\n",
      "22 day input [0.92172591 0.96474711 0.97572406 0.99159841 0.96972895 0.97614625\n",
      " 0.96795575 1.         0.99016297 0.99050072 0.96538039 0.98488559\n",
      " 0.97086887 0.94026007 0.87748037 0.83483915 0.85413324 0.77336823\n",
      " 0.77269273 0.88014017 0.84007431 0.89673225 0.85527316 0.83884995\n",
      " 0.74233725 0.82327113 0.78143207 0.6665963  0.7921557  0.64118044\n",
      " 0.68614371 0.66001013 0.65203074 0.58642236 0.56586169 0.66089673\n",
      " 0.65515494 0.70970193 0.66452757 0.69437642 0.69218104 0.63569197\n",
      " 0.65266402 0.63780292 0.7267162  0.71388162 0.74191506 0.75002111\n",
      " 0.77222832 0.83049059 0.8194292  0.8289707  0.8125475  0.78776492\n",
      " 0.75162543 0.78426074 0.77974331 0.81326522 0.8141096  0.79473106\n",
      " 0.83336148 0.85898843 0.83901883 0.85628641 0.87486279 0.88782403\n",
      " 0.90095415 0.92793211 0.948535   0.93333615 0.91746179 0.92544119\n",
      " 0.91771511 0.9483239  0.94064004 0.96635143 0.9563033  0.96491598\n",
      " 0.94413203 0.93795931 0.92865342 0.91987926 0.91280973 0.90777564\n",
      " 0.90473258 0.90339231 0.90332204 0.90403908 0.90509242 0.90611798\n",
      " 0.90686554 0.90720606 0.90711629 0.90665382 0.90592706 0.90506458\n",
      " 0.90419257 0.90341312 0.90279734 0.90238118]\n",
      "22 day output [[0.9021694]]\n",
      "23 day input [0.96474711 0.97572406 0.99159841 0.96972895 0.97614625 0.96795575\n",
      " 1.         0.99016297 0.99050072 0.96538039 0.98488559 0.97086887\n",
      " 0.94026007 0.87748037 0.83483915 0.85413324 0.77336823 0.77269273\n",
      " 0.88014017 0.84007431 0.89673225 0.85527316 0.83884995 0.74233725\n",
      " 0.82327113 0.78143207 0.6665963  0.7921557  0.64118044 0.68614371\n",
      " 0.66001013 0.65203074 0.58642236 0.56586169 0.66089673 0.65515494\n",
      " 0.70970193 0.66452757 0.69437642 0.69218104 0.63569197 0.65266402\n",
      " 0.63780292 0.7267162  0.71388162 0.74191506 0.75002111 0.77222832\n",
      " 0.83049059 0.8194292  0.8289707  0.8125475  0.78776492 0.75162543\n",
      " 0.78426074 0.77974331 0.81326522 0.8141096  0.79473106 0.83336148\n",
      " 0.85898843 0.83901883 0.85628641 0.87486279 0.88782403 0.90095415\n",
      " 0.92793211 0.948535   0.93333615 0.91746179 0.92544119 0.91771511\n",
      " 0.9483239  0.94064004 0.96635143 0.9563033  0.96491598 0.94413203\n",
      " 0.93795931 0.92865342 0.91987926 0.91280973 0.90777564 0.90473258\n",
      " 0.90339231 0.90332204 0.90403908 0.90509242 0.90611798 0.90686554\n",
      " 0.90720606 0.90711629 0.90665382 0.90592706 0.90506458 0.90419257\n",
      " 0.90341312 0.90279734 0.90238118 0.90216941]\n",
      "23 day output [[0.90213937]]\n",
      "24 day input [0.97572406 0.99159841 0.96972895 0.97614625 0.96795575 1.\n",
      " 0.99016297 0.99050072 0.96538039 0.98488559 0.97086887 0.94026007\n",
      " 0.87748037 0.83483915 0.85413324 0.77336823 0.77269273 0.88014017\n",
      " 0.84007431 0.89673225 0.85527316 0.83884995 0.74233725 0.82327113\n",
      " 0.78143207 0.6665963  0.7921557  0.64118044 0.68614371 0.66001013\n",
      " 0.65203074 0.58642236 0.56586169 0.66089673 0.65515494 0.70970193\n",
      " 0.66452757 0.69437642 0.69218104 0.63569197 0.65266402 0.63780292\n",
      " 0.7267162  0.71388162 0.74191506 0.75002111 0.77222832 0.83049059\n",
      " 0.8194292  0.8289707  0.8125475  0.78776492 0.75162543 0.78426074\n",
      " 0.77974331 0.81326522 0.8141096  0.79473106 0.83336148 0.85898843\n",
      " 0.83901883 0.85628641 0.87486279 0.88782403 0.90095415 0.92793211\n",
      " 0.948535   0.93333615 0.91746179 0.92544119 0.91771511 0.9483239\n",
      " 0.94064004 0.96635143 0.9563033  0.96491598 0.94413203 0.93795931\n",
      " 0.92865342 0.91987926 0.91280973 0.90777564 0.90473258 0.90339231\n",
      " 0.90332204 0.90403908 0.90509242 0.90611798 0.90686554 0.90720606\n",
      " 0.90711629 0.90665382 0.90592706 0.90506458 0.90419257 0.90341312\n",
      " 0.90279734 0.90238118 0.90216941 0.90213937]\n",
      "24 day output [[0.9022528]]\n",
      "25 day input [0.99159841 0.96972895 0.97614625 0.96795575 1.         0.99016297\n",
      " 0.99050072 0.96538039 0.98488559 0.97086887 0.94026007 0.87748037\n",
      " 0.83483915 0.85413324 0.77336823 0.77269273 0.88014017 0.84007431\n",
      " 0.89673225 0.85527316 0.83884995 0.74233725 0.82327113 0.78143207\n",
      " 0.6665963  0.7921557  0.64118044 0.68614371 0.66001013 0.65203074\n",
      " 0.58642236 0.56586169 0.66089673 0.65515494 0.70970193 0.66452757\n",
      " 0.69437642 0.69218104 0.63569197 0.65266402 0.63780292 0.7267162\n",
      " 0.71388162 0.74191506 0.75002111 0.77222832 0.83049059 0.8194292\n",
      " 0.8289707  0.8125475  0.78776492 0.75162543 0.78426074 0.77974331\n",
      " 0.81326522 0.8141096  0.79473106 0.83336148 0.85898843 0.83901883\n",
      " 0.85628641 0.87486279 0.88782403 0.90095415 0.92793211 0.948535\n",
      " 0.93333615 0.91746179 0.92544119 0.91771511 0.9483239  0.94064004\n",
      " 0.96635143 0.9563033  0.96491598 0.94413203 0.93795931 0.92865342\n",
      " 0.91987926 0.91280973 0.90777564 0.90473258 0.90339231 0.90332204\n",
      " 0.90403908 0.90509242 0.90611798 0.90686554 0.90720606 0.90711629\n",
      " 0.90665382 0.90592706 0.90506458 0.90419257 0.90341312 0.90279734\n",
      " 0.90238118 0.90216941 0.90213937 0.90225279]\n",
      "25 day output [[0.90246403]]\n",
      "26 day input [0.96972895 0.97614625 0.96795575 1.         0.99016297 0.99050072\n",
      " 0.96538039 0.98488559 0.97086887 0.94026007 0.87748037 0.83483915\n",
      " 0.85413324 0.77336823 0.77269273 0.88014017 0.84007431 0.89673225\n",
      " 0.85527316 0.83884995 0.74233725 0.82327113 0.78143207 0.6665963\n",
      " 0.7921557  0.64118044 0.68614371 0.66001013 0.65203074 0.58642236\n",
      " 0.56586169 0.66089673 0.65515494 0.70970193 0.66452757 0.69437642\n",
      " 0.69218104 0.63569197 0.65266402 0.63780292 0.7267162  0.71388162\n",
      " 0.74191506 0.75002111 0.77222832 0.83049059 0.8194292  0.8289707\n",
      " 0.8125475  0.78776492 0.75162543 0.78426074 0.77974331 0.81326522\n",
      " 0.8141096  0.79473106 0.83336148 0.85898843 0.83901883 0.85628641\n",
      " 0.87486279 0.88782403 0.90095415 0.92793211 0.948535   0.93333615\n",
      " 0.91746179 0.92544119 0.91771511 0.9483239  0.94064004 0.96635143\n",
      " 0.9563033  0.96491598 0.94413203 0.93795931 0.92865342 0.91987926\n",
      " 0.91280973 0.90777564 0.90473258 0.90339231 0.90332204 0.90403908\n",
      " 0.90509242 0.90611798 0.90686554 0.90720606 0.90711629 0.90665382\n",
      " 0.90592706 0.90506458 0.90419257 0.90341312 0.90279734 0.90238118\n",
      " 0.90216941 0.90213937 0.90225279 0.90246403]\n",
      "26 day output [[0.90272856]]\n",
      "27 day input [0.97614625 0.96795575 1.         0.99016297 0.99050072 0.96538039\n",
      " 0.98488559 0.97086887 0.94026007 0.87748037 0.83483915 0.85413324\n",
      " 0.77336823 0.77269273 0.88014017 0.84007431 0.89673225 0.85527316\n",
      " 0.83884995 0.74233725 0.82327113 0.78143207 0.6665963  0.7921557\n",
      " 0.64118044 0.68614371 0.66001013 0.65203074 0.58642236 0.56586169\n",
      " 0.66089673 0.65515494 0.70970193 0.66452757 0.69437642 0.69218104\n",
      " 0.63569197 0.65266402 0.63780292 0.7267162  0.71388162 0.74191506\n",
      " 0.75002111 0.77222832 0.83049059 0.8194292  0.8289707  0.8125475\n",
      " 0.78776492 0.75162543 0.78426074 0.77974331 0.81326522 0.8141096\n",
      " 0.79473106 0.83336148 0.85898843 0.83901883 0.85628641 0.87486279\n",
      " 0.88782403 0.90095415 0.92793211 0.948535   0.93333615 0.91746179\n",
      " 0.92544119 0.91771511 0.9483239  0.94064004 0.96635143 0.9563033\n",
      " 0.96491598 0.94413203 0.93795931 0.92865342 0.91987926 0.91280973\n",
      " 0.90777564 0.90473258 0.90339231 0.90332204 0.90403908 0.90509242\n",
      " 0.90611798 0.90686554 0.90720606 0.90711629 0.90665382 0.90592706\n",
      " 0.90506458 0.90419257 0.90341312 0.90279734 0.90238118 0.90216941\n",
      " 0.90213937 0.90225279 0.90246403 0.90272856]\n",
      "27 day output [[0.90300757]]\n",
      "28 day input [0.96795575 1.         0.99016297 0.99050072 0.96538039 0.98488559\n",
      " 0.97086887 0.94026007 0.87748037 0.83483915 0.85413324 0.77336823\n",
      " 0.77269273 0.88014017 0.84007431 0.89673225 0.85527316 0.83884995\n",
      " 0.74233725 0.82327113 0.78143207 0.6665963  0.7921557  0.64118044\n",
      " 0.68614371 0.66001013 0.65203074 0.58642236 0.56586169 0.66089673\n",
      " 0.65515494 0.70970193 0.66452757 0.69437642 0.69218104 0.63569197\n",
      " 0.65266402 0.63780292 0.7267162  0.71388162 0.74191506 0.75002111\n",
      " 0.77222832 0.83049059 0.8194292  0.8289707  0.8125475  0.78776492\n",
      " 0.75162543 0.78426074 0.77974331 0.81326522 0.8141096  0.79473106\n",
      " 0.83336148 0.85898843 0.83901883 0.85628641 0.87486279 0.88782403\n",
      " 0.90095415 0.92793211 0.948535   0.93333615 0.91746179 0.92544119\n",
      " 0.91771511 0.9483239  0.94064004 0.96635143 0.9563033  0.96491598\n",
      " 0.94413203 0.93795931 0.92865342 0.91987926 0.91280973 0.90777564\n",
      " 0.90473258 0.90339231 0.90332204 0.90403908 0.90509242 0.90611798\n",
      " 0.90686554 0.90720606 0.90711629 0.90665382 0.90592706 0.90506458\n",
      " 0.90419257 0.90341312 0.90279734 0.90238118 0.90216941 0.90213937\n",
      " 0.90225279 0.90246403 0.90272856 0.90300757]\n"
     ]
    },
    {
     "name": "stdout",
     "output_type": "stream",
     "text": [
      "28 day output [[0.903272]]\n",
      "29 day input [1.         0.99016297 0.99050072 0.96538039 0.98488559 0.97086887\n",
      " 0.94026007 0.87748037 0.83483915 0.85413324 0.77336823 0.77269273\n",
      " 0.88014017 0.84007431 0.89673225 0.85527316 0.83884995 0.74233725\n",
      " 0.82327113 0.78143207 0.6665963  0.7921557  0.64118044 0.68614371\n",
      " 0.66001013 0.65203074 0.58642236 0.56586169 0.66089673 0.65515494\n",
      " 0.70970193 0.66452757 0.69437642 0.69218104 0.63569197 0.65266402\n",
      " 0.63780292 0.7267162  0.71388162 0.74191506 0.75002111 0.77222832\n",
      " 0.83049059 0.8194292  0.8289707  0.8125475  0.78776492 0.75162543\n",
      " 0.78426074 0.77974331 0.81326522 0.8141096  0.79473106 0.83336148\n",
      " 0.85898843 0.83901883 0.85628641 0.87486279 0.88782403 0.90095415\n",
      " 0.92793211 0.948535   0.93333615 0.91746179 0.92544119 0.91771511\n",
      " 0.9483239  0.94064004 0.96635143 0.9563033  0.96491598 0.94413203\n",
      " 0.93795931 0.92865342 0.91987926 0.91280973 0.90777564 0.90473258\n",
      " 0.90339231 0.90332204 0.90403908 0.90509242 0.90611798 0.90686554\n",
      " 0.90720606 0.90711629 0.90665382 0.90592706 0.90506458 0.90419257\n",
      " 0.90341312 0.90279734 0.90238118 0.90216941 0.90213937 0.90225279\n",
      " 0.90246403 0.90272856 0.90300757 0.90327197]\n",
      "29 day output [[0.90350425]]\n",
      "[[0.9441320300102234], [0.9379593133926392], [0.9286534190177917], [0.9198792576789856], [0.9128097295761108], [0.9077756404876709], [0.9047325849533081], [0.9033923149108887], [0.9033220410346985], [0.9040390849113464], [0.9050924181938171], [0.9061179757118225], [0.9068655371665955], [0.9072060585021973], [0.9071162939071655], [0.9066538214683533], [0.9059270620346069], [0.905064582824707], [0.9041925668716431], [0.9034131169319153], [0.9027973413467407], [0.902381181716919], [0.902169406414032], [0.9021393656730652], [0.9022527933120728], [0.9024640321731567], [0.9027285575866699], [0.9030075669288635], [0.9032719731330872], [0.9035042524337769]]\n"
     ]
    }
   ],
   "source": [
    "# demonstrate prediction for next 10 days\n",
    "from numpy import array\n",
    "\n",
    "lst_output=[]\n",
    "n_steps=100\n",
    "i=0\n",
    "while(i<30):\n",
    "    \n",
    "    if(len(temp_input)>100):\n",
    "        #print(temp_input)\n",
    "        x_input=np.array(temp_input[1:])\n",
    "        print(\"{} day input {}\".format(i,x_input))\n",
    "        x_input=x_input.reshape(1,-1)\n",
    "        x_input = x_input.reshape((1, n_steps, 1))\n",
    "        #print(x_input)\n",
    "        yhat = model.predict(x_input, verbose=0)\n",
    "        print(\"{} day output {}\".format(i,yhat))\n",
    "        temp_input.extend(yhat[0].tolist())\n",
    "        temp_input=temp_input[1:]\n",
    "        #print(temp_input)\n",
    "        lst_output.extend(yhat.tolist())\n",
    "        i=i+1\n",
    "    else:\n",
    "        x_input = x_input.reshape((1, n_steps,1))\n",
    "        yhat = model.predict(x_input, verbose=0)\n",
    "        print(yhat[0])\n",
    "        temp_input.extend(yhat[0].tolist())\n",
    "        print(len(temp_input))\n",
    "        lst_output.extend(yhat.tolist())\n",
    "        i=i+1\n",
    "    \n",
    "\n",
    "print(lst_output)"
   ]
  },
  {
   "cell_type": "code",
   "execution_count": 442,
   "metadata": {},
   "outputs": [],
   "source": [
    "day_new=np.arange(1,101)\n",
    "day_pred=np.arange(101,131)"
   ]
  },
  {
   "cell_type": "code",
   "execution_count": 443,
   "metadata": {},
   "outputs": [],
   "source": [
    "import matplotlib.pyplot as plt"
   ]
  },
  {
   "cell_type": "code",
   "execution_count": 391,
   "metadata": {},
   "outputs": [
    {
     "data": {
      "text/plain": [
       "1258"
      ]
     },
     "execution_count": 391,
     "metadata": {},
     "output_type": "execute_result"
    }
   ],
   "source": [
    "len(df1)"
   ]
  },
  {
   "cell_type": "code",
   "execution_count": 392,
   "metadata": {},
   "outputs": [],
   "source": []
  },
  {
   "cell_type": "code",
   "execution_count": 444,
   "metadata": {},
   "outputs": [
    {
     "data": {
      "text/plain": [
       "[<matplotlib.lines.Line2D at 0x2d1b0f352b0>]"
      ]
     },
     "execution_count": 444,
     "metadata": {},
     "output_type": "execute_result"
    },
    {
     "data": {
      "image/png": "[encoded data removed]",
      "text/plain": [
       "<Figure size 432x288 with 1 Axes>"
      ]
     },
     "metadata": {
      "needs_background": "light"
     },
     "output_type": "display_data"
    }
   ],
   "source": [
    "plt.plot(day_new,scaler.inverse_transform(df1[1158:]))\n",
    "plt.plot(day_pred,scaler.inverse_transform(lst_output))"
   ]
  },
  {
   "cell_type": "code",
   "execution_count": 446,
   "metadata": {},
   "outputs": [
    {
     "data": {
      "text/plain": [
       "[<matplotlib.lines.Line2D at 0x2d1b0f55ac8>]"
      ]
     },
     "execution_count": 446,
     "metadata": {},
     "output_type": "execute_result"
    },
    {
     "data": {
      "image/png": "[encoded data removed]",
      "text/plain": [
       "<Figure size 432x288 with 1 Axes>"
      ]
     },
     "metadata": {
      "needs_background": "light"
     },
     "output_type": "display_data"
    }
   ],
   "source": [
    "df3=df1.tolist()\n",
    "df3.extend(lst_output)\n",
    "plt.plot(df3[1200:])"
   ]
  },
  {
   "cell_type": "code",
   "execution_count": 395,
   "metadata": {},
   "outputs": [],
   "source": [
    "df3=scaler.inverse_transform(df3).tolist()"
   ]
  },
  {
   "cell_type": "code",
   "execution_count": 396,
   "metadata": {},
   "outputs": [
    {
     "data": {
      "text/plain": [
       "[<matplotlib.lines.Line2D at 0x2d1a904c470>]"
      ]
     },
     "execution_count": 396,
     "metadata": {},
     "output_type": "execute_result"
    },
    {
     "data": {
      "image/png": "[encoded data removed]",
      "text/plain": [
       "<Figure size 432x288 with 1 Axes>"
      ]
     },
     "metadata": {
      "needs_background": "light"
     },
     "output_type": "display_data"
    }
   ],
   "source": [
    "plt.plot(df3)"
   ]
  },
  {
   "cell_type": "code",
   "execution_count": null,
   "metadata": {},
   "outputs": [],
   "source": []
  }
 ],
 "metadata": {
  "kernelspec": {
   "display_name": "Python 3",
   "language": "python",
   "name": "python3"
  },
  "language_info": {
   "codemirror_mode": {
    "name": "ipython",
    "version": 3
   },
   "file_extension": ".py",
   "mimetype": "text/x-python",
   "name": "python",
   "nbconvert_exporter": "python",
   "pygments_lexer": "ipython3",
   "version": "3.7.8-final"
  }
 },
 "nbformat": 4,
 "nbformat_minor": 2
}